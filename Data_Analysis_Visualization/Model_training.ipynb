{
 "cells": [
  {
   "cell_type": "code",
   "execution_count": 1,
   "id": "a5490094",
   "metadata": {},
   "outputs": [
    {
     "name": "stderr",
     "output_type": "stream",
     "text": [
      "2022-01-13 14:07:14.757731: W tensorflow/stream_executor/platform/default/dso_loader.cc:64] Could not load dynamic library 'libcudart.so.11.0'; dlerror: libcudart.so.11.0: cannot open shared object file: No such file or directory\n",
      "2022-01-13 14:07:14.757758: I tensorflow/stream_executor/cuda/cudart_stub.cc:29] Ignore above cudart dlerror if you do not have a GPU set up on your machine.\n"
     ]
    }
   ],
   "source": [
    "# Import necessary packages\n",
    "import os\n",
    "import sklearn\n",
    "import pandas as pd\n",
    "import numpy as np\n",
    "import matplotlib.pyplot as plt\n",
    "from dateutil.parser import parse\n",
    "import tensorflow as tf\n",
    "import plotly.graph_objects as go\n",
    "from sklearn.preprocessing import MinMaxScaler\n",
    "from sklearn.model_selection import train_test_split\n",
    "from tensorflow.keras.preprocessing.sequence import TimeseriesGenerator\n",
    "from tensorflow.keras import Sequential\n",
    "from tensorflow.keras.layers import LSTM, LeakyReLU, Dropout, Dense\n",
    "from tensorflow.keras.callbacks import EarlyStopping\n",
    "\n",
    "os.chdir(\"/home/maina/Documents/Air Pollution Monitoring\")\n",
    "\n",
    "# import data_retrival and analysis functions\n",
    "from data_analysis import *"
   ]
  },
  {
   "cell_type": "code",
   "execution_count": 2,
   "id": "d511d8fd",
   "metadata": {},
   "outputs": [
    {
     "data": {
      "text/html": [
       "<div>\n",
       "<style scoped>\n",
       "    .dataframe tbody tr th:only-of-type {\n",
       "        vertical-align: middle;\n",
       "    }\n",
       "\n",
       "    .dataframe tbody tr th {\n",
       "        vertical-align: top;\n",
       "    }\n",
       "\n",
       "    .dataframe thead th {\n",
       "        text-align: right;\n",
       "    }\n",
       "</style>\n",
       "<table border=\"1\" class=\"dataframe\">\n",
       "  <thead>\n",
       "    <tr style=\"text-align: right;\">\n",
       "      <th></th>\n",
       "      <th>timestamp</th>\n",
       "      <th>mq7</th>\n",
       "      <th>mq135</th>\n",
       "      <th>temperature</th>\n",
       "      <th>humidity</th>\n",
       "    </tr>\n",
       "  </thead>\n",
       "  <tbody>\n",
       "    <tr>\n",
       "      <th>0</th>\n",
       "      <td>1639922725</td>\n",
       "      <td>162.0</td>\n",
       "      <td>39.0</td>\n",
       "      <td>24.1</td>\n",
       "      <td>73.0</td>\n",
       "    </tr>\n",
       "    <tr>\n",
       "      <th>1</th>\n",
       "      <td>1639923325</td>\n",
       "      <td>135.0</td>\n",
       "      <td>38.0</td>\n",
       "      <td>23.9</td>\n",
       "      <td>75.0</td>\n",
       "    </tr>\n",
       "    <tr>\n",
       "      <th>2</th>\n",
       "      <td>1639923927</td>\n",
       "      <td>118.0</td>\n",
       "      <td>36.0</td>\n",
       "      <td>24.0</td>\n",
       "      <td>72.0</td>\n",
       "    </tr>\n",
       "    <tr>\n",
       "      <th>3</th>\n",
       "      <td>1639924555</td>\n",
       "      <td>109.0</td>\n",
       "      <td>39.0</td>\n",
       "      <td>24.4</td>\n",
       "      <td>73.0</td>\n",
       "    </tr>\n",
       "    <tr>\n",
       "      <th>4</th>\n",
       "      <td>1639925428</td>\n",
       "      <td>102.0</td>\n",
       "      <td>42.0</td>\n",
       "      <td>24.2</td>\n",
       "      <td>74.0</td>\n",
       "    </tr>\n",
       "    <tr>\n",
       "      <th>5</th>\n",
       "      <td>1639926056</td>\n",
       "      <td>100.0</td>\n",
       "      <td>42.0</td>\n",
       "      <td>24.2</td>\n",
       "      <td>76.0</td>\n",
       "    </tr>\n",
       "    <tr>\n",
       "      <th>6</th>\n",
       "      <td>1639926658</td>\n",
       "      <td>97.0</td>\n",
       "      <td>40.0</td>\n",
       "      <td>24.2</td>\n",
       "      <td>75.0</td>\n",
       "    </tr>\n",
       "    <tr>\n",
       "      <th>7</th>\n",
       "      <td>1639927411</td>\n",
       "      <td>96.0</td>\n",
       "      <td>37.0</td>\n",
       "      <td>24.0</td>\n",
       "      <td>77.0</td>\n",
       "    </tr>\n",
       "    <tr>\n",
       "      <th>8</th>\n",
       "      <td>1639928191</td>\n",
       "      <td>92.0</td>\n",
       "      <td>37.0</td>\n",
       "      <td>23.9</td>\n",
       "      <td>77.0</td>\n",
       "    </tr>\n",
       "    <tr>\n",
       "      <th>9</th>\n",
       "      <td>1639928791</td>\n",
       "      <td>92.0</td>\n",
       "      <td>37.0</td>\n",
       "      <td>23.9</td>\n",
       "      <td>77.0</td>\n",
       "    </tr>\n",
       "  </tbody>\n",
       "</table>\n",
       "</div>"
      ],
      "text/plain": [
       "    timestamp    mq7  mq135  temperature  humidity\n",
       "0  1639922725  162.0   39.0         24.1      73.0\n",
       "1  1639923325  135.0   38.0         23.9      75.0\n",
       "2  1639923927  118.0   36.0         24.0      72.0\n",
       "3  1639924555  109.0   39.0         24.4      73.0\n",
       "4  1639925428  102.0   42.0         24.2      74.0\n",
       "5  1639926056  100.0   42.0         24.2      76.0\n",
       "6  1639926658   97.0   40.0         24.2      75.0\n",
       "7  1639927411   96.0   37.0         24.0      77.0\n",
       "8  1639928191   92.0   37.0         23.9      77.0\n",
       "9  1639928791   92.0   37.0         23.9      77.0"
      ]
     },
     "execution_count": 2,
     "metadata": {},
     "output_type": "execute_result"
    }
   ],
   "source": [
    "# Gets the data from firebase, process it and store it in a csv file\n",
    "filepath = read_data()\n",
    "\n",
    "# Read the dataset as a pandas dataframe\n",
    "df = pd.read_csv(filepath)\n",
    "\n",
    "# Display the first 10 rows\n",
    "df.head(10)"
   ]
  },
  {
   "cell_type": "code",
   "execution_count": 3,
   "id": "5fd83acc",
   "metadata": {
    "scrolled": true
   },
   "outputs": [
    {
     "data": {
      "text/html": [
       "<div>\n",
       "<style scoped>\n",
       "    .dataframe tbody tr th:only-of-type {\n",
       "        vertical-align: middle;\n",
       "    }\n",
       "\n",
       "    .dataframe tbody tr th {\n",
       "        vertical-align: top;\n",
       "    }\n",
       "\n",
       "    .dataframe thead th {\n",
       "        text-align: right;\n",
       "    }\n",
       "</style>\n",
       "<table border=\"1\" class=\"dataframe\">\n",
       "  <thead>\n",
       "    <tr style=\"text-align: right;\">\n",
       "      <th></th>\n",
       "      <th>timestamp</th>\n",
       "      <th>mq7</th>\n",
       "      <th>mq135</th>\n",
       "      <th>temperature</th>\n",
       "      <th>humidity</th>\n",
       "    </tr>\n",
       "  </thead>\n",
       "  <tbody>\n",
       "    <tr>\n",
       "      <th>0</th>\n",
       "      <td>2021-12-19 14:05:25+03:00</td>\n",
       "      <td>162.0</td>\n",
       "      <td>39.0</td>\n",
       "      <td>24.1</td>\n",
       "      <td>73.0</td>\n",
       "    </tr>\n",
       "    <tr>\n",
       "      <th>1</th>\n",
       "      <td>2021-12-19 14:15:25+03:00</td>\n",
       "      <td>135.0</td>\n",
       "      <td>38.0</td>\n",
       "      <td>23.9</td>\n",
       "      <td>75.0</td>\n",
       "    </tr>\n",
       "    <tr>\n",
       "      <th>2</th>\n",
       "      <td>2021-12-19 14:25:27+03:00</td>\n",
       "      <td>118.0</td>\n",
       "      <td>36.0</td>\n",
       "      <td>24.0</td>\n",
       "      <td>72.0</td>\n",
       "    </tr>\n",
       "    <tr>\n",
       "      <th>3</th>\n",
       "      <td>2021-12-19 14:35:55+03:00</td>\n",
       "      <td>109.0</td>\n",
       "      <td>39.0</td>\n",
       "      <td>24.4</td>\n",
       "      <td>73.0</td>\n",
       "    </tr>\n",
       "    <tr>\n",
       "      <th>4</th>\n",
       "      <td>2021-12-19 14:50:28+03:00</td>\n",
       "      <td>102.0</td>\n",
       "      <td>42.0</td>\n",
       "      <td>24.2</td>\n",
       "      <td>74.0</td>\n",
       "    </tr>\n",
       "  </tbody>\n",
       "</table>\n",
       "</div>"
      ],
      "text/plain": [
       "                  timestamp    mq7  mq135  temperature  humidity\n",
       "0 2021-12-19 14:05:25+03:00  162.0   39.0         24.1      73.0\n",
       "1 2021-12-19 14:15:25+03:00  135.0   38.0         23.9      75.0\n",
       "2 2021-12-19 14:25:27+03:00  118.0   36.0         24.0      72.0\n",
       "3 2021-12-19 14:35:55+03:00  109.0   39.0         24.4      73.0\n",
       "4 2021-12-19 14:50:28+03:00  102.0   42.0         24.2      74.0"
      ]
     },
     "execution_count": 3,
     "metadata": {},
     "output_type": "execute_result"
    }
   ],
   "source": [
    "# Converting the unix time stamp to datetime format\n",
    "df[\"timestamp\"] = pd.to_datetime(df['timestamp'], unit='s')\n",
    "df[\"timestamp\"] = df[\"timestamp\"].dt.tz_localize('Africa/Nairobi')\n",
    "df.head()"
   ]
  },
  {
   "cell_type": "code",
   "execution_count": 40,
   "id": "0517ebae",
   "metadata": {},
   "outputs": [
    {
     "data": {
      "text/html": [
       "<div>\n",
       "<style scoped>\n",
       "    .dataframe tbody tr th:only-of-type {\n",
       "        vertical-align: middle;\n",
       "    }\n",
       "\n",
       "    .dataframe tbody tr th {\n",
       "        vertical-align: top;\n",
       "    }\n",
       "\n",
       "    .dataframe thead th {\n",
       "        text-align: right;\n",
       "    }\n",
       "</style>\n",
       "<table border=\"1\" class=\"dataframe\">\n",
       "  <thead>\n",
       "    <tr style=\"text-align: right;\">\n",
       "      <th></th>\n",
       "      <th>mq7</th>\n",
       "      <th>mq135</th>\n",
       "      <th>temperature</th>\n",
       "      <th>humidity</th>\n",
       "    </tr>\n",
       "    <tr>\n",
       "      <th>timestamp</th>\n",
       "      <th></th>\n",
       "      <th></th>\n",
       "      <th></th>\n",
       "      <th></th>\n",
       "    </tr>\n",
       "  </thead>\n",
       "  <tbody>\n",
       "    <tr>\n",
       "      <th>2021-12-19 14:00:00+03:00</th>\n",
       "      <td>125.200000</td>\n",
       "      <td>38.800000</td>\n",
       "      <td>24.120000</td>\n",
       "      <td>73.400000</td>\n",
       "    </tr>\n",
       "    <tr>\n",
       "      <th>2021-12-19 15:00:00+03:00</th>\n",
       "      <td>95.000000</td>\n",
       "      <td>38.500000</td>\n",
       "      <td>23.983333</td>\n",
       "      <td>76.666667</td>\n",
       "    </tr>\n",
       "    <tr>\n",
       "      <th>2021-12-19 16:00:00+03:00</th>\n",
       "      <td>90.166667</td>\n",
       "      <td>36.166667</td>\n",
       "      <td>23.266667</td>\n",
       "      <td>77.666667</td>\n",
       "    </tr>\n",
       "    <tr>\n",
       "      <th>2021-12-19 17:00:00+03:00</th>\n",
       "      <td>97.200000</td>\n",
       "      <td>39.800000</td>\n",
       "      <td>23.240000</td>\n",
       "      <td>78.400000</td>\n",
       "    </tr>\n",
       "    <tr>\n",
       "      <th>2021-12-19 18:00:00+03:00</th>\n",
       "      <td>95.500000</td>\n",
       "      <td>39.500000</td>\n",
       "      <td>23.233333</td>\n",
       "      <td>79.833333</td>\n",
       "    </tr>\n",
       "    <tr>\n",
       "      <th>...</th>\n",
       "      <td>...</td>\n",
       "      <td>...</td>\n",
       "      <td>...</td>\n",
       "      <td>...</td>\n",
       "    </tr>\n",
       "    <tr>\n",
       "      <th>2022-01-03 01:00:00+03:00</th>\n",
       "      <td>75.000000</td>\n",
       "      <td>37.400000</td>\n",
       "      <td>22.600000</td>\n",
       "      <td>64.280000</td>\n",
       "    </tr>\n",
       "    <tr>\n",
       "      <th>2022-01-03 02:00:00+03:00</th>\n",
       "      <td>67.666667</td>\n",
       "      <td>34.833333</td>\n",
       "      <td>22.766667</td>\n",
       "      <td>60.800000</td>\n",
       "    </tr>\n",
       "    <tr>\n",
       "      <th>2022-01-03 03:00:00+03:00</th>\n",
       "      <td>54.000000</td>\n",
       "      <td>30.250000</td>\n",
       "      <td>23.637500</td>\n",
       "      <td>52.500000</td>\n",
       "    </tr>\n",
       "    <tr>\n",
       "      <th>2022-01-03 04:00:00+03:00</th>\n",
       "      <td>51.750000</td>\n",
       "      <td>29.500000</td>\n",
       "      <td>23.275000</td>\n",
       "      <td>51.500000</td>\n",
       "    </tr>\n",
       "    <tr>\n",
       "      <th>2022-01-03 05:00:00+03:00</th>\n",
       "      <td>58.400000</td>\n",
       "      <td>32.200000</td>\n",
       "      <td>23.480000</td>\n",
       "      <td>51.600000</td>\n",
       "    </tr>\n",
       "  </tbody>\n",
       "</table>\n",
       "<p>352 rows × 4 columns</p>\n",
       "</div>"
      ],
      "text/plain": [
       "                                  mq7      mq135  temperature   humidity\n",
       "timestamp                                                               \n",
       "2021-12-19 14:00:00+03:00  125.200000  38.800000    24.120000  73.400000\n",
       "2021-12-19 15:00:00+03:00   95.000000  38.500000    23.983333  76.666667\n",
       "2021-12-19 16:00:00+03:00   90.166667  36.166667    23.266667  77.666667\n",
       "2021-12-19 17:00:00+03:00   97.200000  39.800000    23.240000  78.400000\n",
       "2021-12-19 18:00:00+03:00   95.500000  39.500000    23.233333  79.833333\n",
       "...                               ...        ...          ...        ...\n",
       "2022-01-03 01:00:00+03:00   75.000000  37.400000    22.600000  64.280000\n",
       "2022-01-03 02:00:00+03:00   67.666667  34.833333    22.766667  60.800000\n",
       "2022-01-03 03:00:00+03:00   54.000000  30.250000    23.637500  52.500000\n",
       "2022-01-03 04:00:00+03:00   51.750000  29.500000    23.275000  51.500000\n",
       "2022-01-03 05:00:00+03:00   58.400000  32.200000    23.480000  51.600000\n",
       "\n",
       "[352 rows x 4 columns]"
      ]
     },
     "execution_count": 40,
     "metadata": {},
     "output_type": "execute_result"
    }
   ],
   "source": [
    "# Resapmle dataset hourly using mean\n",
    "raw_df = df.set_index(\"timestamp\")\n",
    "df = raw_df.resample(rule='H').mean()\n",
    "df"
   ]
  },
  {
   "cell_type": "code",
   "execution_count": 5,
   "id": "019aadaf",
   "metadata": {},
   "outputs": [
    {
     "data": {
      "text/plain": [
       "mq7            0\n",
       "mq135          0\n",
       "temperature    0\n",
       "humidity       0\n",
       "dtype: int64"
      ]
     },
     "execution_count": 5,
     "metadata": {},
     "output_type": "execute_result"
    }
   ],
   "source": [
    "# Check if there are any missing values in the dataset\n",
    "df.isnull().sum()"
   ]
  },
  {
   "cell_type": "code",
   "execution_count": 6,
   "id": "6331076f",
   "metadata": {
    "scrolled": true
   },
   "outputs": [
    {
     "data": {
      "text/html": [
       "<div>\n",
       "<style scoped>\n",
       "    .dataframe tbody tr th:only-of-type {\n",
       "        vertical-align: middle;\n",
       "    }\n",
       "\n",
       "    .dataframe tbody tr th {\n",
       "        vertical-align: top;\n",
       "    }\n",
       "\n",
       "    .dataframe thead th {\n",
       "        text-align: right;\n",
       "    }\n",
       "</style>\n",
       "<table border=\"1\" class=\"dataframe\">\n",
       "  <thead>\n",
       "    <tr style=\"text-align: right;\">\n",
       "      <th></th>\n",
       "      <th>mq7</th>\n",
       "      <th>mq135</th>\n",
       "      <th>temperature</th>\n",
       "      <th>humidity</th>\n",
       "    </tr>\n",
       "  </thead>\n",
       "  <tbody>\n",
       "    <tr>\n",
       "      <th>count</th>\n",
       "      <td>352.000000</td>\n",
       "      <td>352.000000</td>\n",
       "      <td>352.000000</td>\n",
       "      <td>352.000000</td>\n",
       "    </tr>\n",
       "    <tr>\n",
       "      <th>mean</th>\n",
       "      <td>87.077023</td>\n",
       "      <td>42.029334</td>\n",
       "      <td>24.492894</td>\n",
       "      <td>62.310476</td>\n",
       "    </tr>\n",
       "    <tr>\n",
       "      <th>std</th>\n",
       "      <td>13.675241</td>\n",
       "      <td>7.418984</td>\n",
       "      <td>2.496454</td>\n",
       "      <td>10.194331</td>\n",
       "    </tr>\n",
       "    <tr>\n",
       "      <th>min</th>\n",
       "      <td>51.750000</td>\n",
       "      <td>27.833333</td>\n",
       "      <td>21.012821</td>\n",
       "      <td>29.800000</td>\n",
       "    </tr>\n",
       "    <tr>\n",
       "      <th>25%</th>\n",
       "      <td>79.437500</td>\n",
       "      <td>38.250000</td>\n",
       "      <td>22.991667</td>\n",
       "      <td>58.005357</td>\n",
       "    </tr>\n",
       "    <tr>\n",
       "      <th>50%</th>\n",
       "      <td>84.400000</td>\n",
       "      <td>40.200000</td>\n",
       "      <td>23.837500</td>\n",
       "      <td>66.055000</td>\n",
       "    </tr>\n",
       "    <tr>\n",
       "      <th>75%</th>\n",
       "      <td>91.312500</td>\n",
       "      <td>43.350000</td>\n",
       "      <td>25.227841</td>\n",
       "      <td>67.862672</td>\n",
       "    </tr>\n",
       "    <tr>\n",
       "      <th>max</th>\n",
       "      <td>153.166667</td>\n",
       "      <td>88.500000</td>\n",
       "      <td>34.000000</td>\n",
       "      <td>81.333333</td>\n",
       "    </tr>\n",
       "  </tbody>\n",
       "</table>\n",
       "</div>"
      ],
      "text/plain": [
       "              mq7       mq135  temperature    humidity\n",
       "count  352.000000  352.000000   352.000000  352.000000\n",
       "mean    87.077023   42.029334    24.492894   62.310476\n",
       "std     13.675241    7.418984     2.496454   10.194331\n",
       "min     51.750000   27.833333    21.012821   29.800000\n",
       "25%     79.437500   38.250000    22.991667   58.005357\n",
       "50%     84.400000   40.200000    23.837500   66.055000\n",
       "75%     91.312500   43.350000    25.227841   67.862672\n",
       "max    153.166667   88.500000    34.000000   81.333333"
      ]
     },
     "execution_count": 6,
     "metadata": {},
     "output_type": "execute_result"
    }
   ],
   "source": [
    "# Statistical summary of the dataset columns\n",
    "df.describe()"
   ]
  },
  {
   "cell_type": "code",
   "execution_count": 7,
   "id": "9eac89dc",
   "metadata": {},
   "outputs": [
    {
     "data": {
      "text/plain": [
       "array([<AxesSubplot:xlabel='timestamp'>, <AxesSubplot:xlabel='timestamp'>,\n",
       "       <AxesSubplot:xlabel='timestamp'>, <AxesSubplot:xlabel='timestamp'>],\n",
       "      dtype=object)"
      ]
     },
     "execution_count": 7,
     "metadata": {},
     "output_type": "execute_result"
    },
    {
     "data": {
      "image/png": "[encoded data removed]",
      "text/plain": [
       "<Figure size 432x288 with 4 Axes>"
      ]
     },
     "metadata": {
      "needs_background": "light"
     },
     "output_type": "display_data"
    }
   ],
   "source": [
    "# plot the values against time\n",
    "df[[\"mq7\", \"mq135\", \"temperature\", \"humidity\"]].plot(subplots=True, title=\"Dataset Column Values aganist Time\")"
   ]
  },
  {
   "cell_type": "code",
   "execution_count": 8,
   "id": "44dc4280",
   "metadata": {},
   "outputs": [
    {
     "data": {
      "text/plain": [
       "array([[0.72423993, 0.18076923, 0.23924975, 0.84605433],\n",
       "       [0.4264585 , 0.17582418, 0.22872655, 0.90944373],\n",
       "       [0.37880033, 0.13736264, 0.17354393, 0.92884864],\n",
       "       ...,\n",
       "       [0.0221857 , 0.03983516, 0.20209773, 0.44049159],\n",
       "       [0.        , 0.02747253, 0.17418559, 0.42108668],\n",
       "       [0.06557108, 0.07197802, 0.18997038, 0.42302717]])"
      ]
     },
     "execution_count": 8,
     "metadata": {},
     "output_type": "execute_result"
    }
   ],
   "source": [
    "scaler = MinMaxScaler()\n",
    "df.reset_index(inplace=True)\n",
    "scaled_data = scaler.fit_transform(df.drop(\"timestamp\", axis=1))\n",
    "scaled_data"
   ]
  },
  {
   "cell_type": "code",
   "execution_count": 9,
   "id": "ccb8e034",
   "metadata": {},
   "outputs": [
    {
     "name": "stdout",
     "output_type": "stream",
     "text": [
      "(352, 4) (352,) (352,)\n"
     ]
    }
   ],
   "source": [
    "x = scaled_data\n",
    "y = scaled_data[:,0]\n",
    "y1 = scaled_data[:,1]\n",
    "\n",
    "\n",
    "print(x.shape, y.shape, y1.shape)"
   ]
  },
  {
   "cell_type": "code",
   "execution_count": 10,
   "id": "1efe7407",
   "metadata": {
    "scrolled": true
   },
   "outputs": [],
   "source": [
    "x_train, x_test, y_train, y_test = train_test_split(x, y, test_size=0.2, random_state=123, shuffle=False)\n",
    "x_train1, x_test1, y_train1, y_test1 = train_test_split(x, y1, test_size=0.2, random_state=123, shuffle=False)"
   ]
  },
  {
   "cell_type": "code",
   "execution_count": 11,
   "id": "6585715c",
   "metadata": {
    "scrolled": false
   },
   "outputs": [],
   "source": [
    "window_length = 6\n",
    "num_features = 4\n",
    "batch_size = 16\n",
    "train_generator = TimeseriesGenerator(x_train, y_train, length=window_length, sampling_rate=1, batch_size=batch_size)\n",
    "test_generator = TimeseriesGenerator(x_test, y_test, length=window_length, sampling_rate=1, batch_size=batch_size)\n",
    "\n",
    "train_generator1 = TimeseriesGenerator(x_train1, y_train1, length=window_length, sampling_rate=1, batch_size=batch_size)\n",
    "test_generator1 = TimeseriesGenerator(x_test1, y_test1, length=window_length, sampling_rate=1, batch_size=batch_size)"
   ]
  },
  {
   "cell_type": "code",
   "execution_count": 12,
   "id": "3b4138c8",
   "metadata": {},
   "outputs": [],
   "source": [
    "def make_model():\n",
    "    model = Sequential()\n",
    "    model.add(LSTM(128, input_shape=(window_length, num_features), return_sequences=True))\n",
    "    model.add(LeakyReLU(alpha=0.5))\n",
    "    model.add(LSTM(128, return_sequences=True))\n",
    "    model.add(LeakyReLU(alpha=0.5))\n",
    "    model.add(Dropout(0.5))\n",
    "    model.add(LSTM(64, return_sequences=True))\n",
    "    model.add(Dropout(0.3))\n",
    "    model.add(Dense(1))\n",
    "\n",
    "    model.summary()\n",
    "    return model"
   ]
  },
  {
   "cell_type": "code",
   "execution_count": 13,
   "id": "48e30d44",
   "metadata": {},
   "outputs": [
    {
     "name": "stderr",
     "output_type": "stream",
     "text": [
      "2022-01-13 14:07:19.555890: W tensorflow/stream_executor/platform/default/dso_loader.cc:64] Could not load dynamic library 'libcuda.so.1'; dlerror: libcuda.so.1: cannot open shared object file: No such file or directory\n",
      "2022-01-13 14:07:19.555933: W tensorflow/stream_executor/cuda/cuda_driver.cc:269] failed call to cuInit: UNKNOWN ERROR (303)\n",
      "2022-01-13 14:07:19.555964: I tensorflow/stream_executor/cuda/cuda_diagnostics.cc:156] kernel driver does not appear to be running on this host (Pavilion): /proc/driver/nvidia/version does not exist\n",
      "2022-01-13 14:07:19.556314: I tensorflow/core/platform/cpu_feature_guard.cc:151] This TensorFlow binary is optimized with oneAPI Deep Neural Network Library (oneDNN) to use the following CPU instructions in performance-critical operations:  AVX2 FMA\n",
      "To enable them in other operations, rebuild TensorFlow with the appropriate compiler flags.\n"
     ]
    },
    {
     "name": "stdout",
     "output_type": "stream",
     "text": [
      "Model: \"sequential\"\n",
      "_________________________________________________________________\n",
      " Layer (type)                Output Shape              Param #   \n",
      "=================================================================\n",
      " lstm (LSTM)                 (None, 6, 128)            68096     \n",
      "                                                                 \n",
      " leaky_re_lu (LeakyReLU)     (None, 6, 128)            0         \n",
      "                                                                 \n",
      " lstm_1 (LSTM)               (None, 6, 128)            131584    \n",
      "                                                                 \n",
      " leaky_re_lu_1 (LeakyReLU)   (None, 6, 128)            0         \n",
      "                                                                 \n",
      " dropout (Dropout)           (None, 6, 128)            0         \n",
      "                                                                 \n",
      " lstm_2 (LSTM)               (None, 6, 64)             49408     \n",
      "                                                                 \n",
      " dropout_1 (Dropout)         (None, 6, 64)             0         \n",
      "                                                                 \n",
      " dense (Dense)               (None, 6, 1)              65        \n",
      "                                                                 \n",
      "=================================================================\n",
      "Total params: 249,153\n",
      "Trainable params: 249,153\n",
      "Non-trainable params: 0\n",
      "_________________________________________________________________\n"
     ]
    }
   ],
   "source": [
    "early_stopping = EarlyStopping(\n",
    "    monitor=\"val_loss\",\n",
    "    patience=3,\n",
    "    mode=\"min\"\n",
    "                              )\n",
    "mq7_model = make_model()\n",
    "mq7_model.compile(optimizer=\"Adam\", loss=\"mse\", metrics=[\"mae\"])"
   ]
  },
  {
   "cell_type": "code",
   "execution_count": 14,
   "id": "a11373cb",
   "metadata": {
    "scrolled": true
   },
   "outputs": [
    {
     "name": "stdout",
     "output_type": "stream",
     "text": [
      "Model: \"sequential_1\"\n",
      "_________________________________________________________________\n",
      " Layer (type)                Output Shape              Param #   \n",
      "=================================================================\n",
      " lstm_3 (LSTM)               (None, 6, 128)            68096     \n",
      "                                                                 \n",
      " leaky_re_lu_2 (LeakyReLU)   (None, 6, 128)            0         \n",
      "                                                                 \n",
      " lstm_4 (LSTM)               (None, 6, 128)            131584    \n",
      "                                                                 \n",
      " leaky_re_lu_3 (LeakyReLU)   (None, 6, 128)            0         \n",
      "                                                                 \n",
      " dropout_2 (Dropout)         (None, 6, 128)            0         \n",
      "                                                                 \n",
      " lstm_5 (LSTM)               (None, 6, 64)             49408     \n",
      "                                                                 \n",
      " dropout_3 (Dropout)         (None, 6, 64)             0         \n",
      "                                                                 \n",
      " dense_1 (Dense)             (None, 6, 1)              65        \n",
      "                                                                 \n",
      "=================================================================\n",
      "Total params: 249,153\n",
      "Trainable params: 249,153\n",
      "Non-trainable params: 0\n",
      "_________________________________________________________________\n"
     ]
    }
   ],
   "source": [
    "mq135_model = make_model()\n",
    "mq135_model.compile(optimizer=\"Adam\", loss=\"mse\", metrics=[\"mae\"])"
   ]
  },
  {
   "cell_type": "code",
   "execution_count": 15,
   "id": "9d6f7cc2",
   "metadata": {
    "scrolled": false
   },
   "outputs": [
    {
     "name": "stdout",
     "output_type": "stream",
     "text": [
      "Epoch 1/100\n",
      "18/18 [==============================] - 5s 83ms/step - loss: 0.0807 - mae: 0.2387 - val_loss: 0.0357 - val_mae: 0.1520\n",
      "Epoch 2/100\n",
      "18/18 [==============================] - 0s 17ms/step - loss: 0.0415 - mae: 0.1552 - val_loss: 0.0290 - val_mae: 0.1360\n",
      "Epoch 3/100\n",
      "18/18 [==============================] - 0s 17ms/step - loss: 0.0311 - mae: 0.1280 - val_loss: 0.0234 - val_mae: 0.1186\n",
      "Epoch 4/100\n",
      "18/18 [==============================] - 0s 17ms/step - loss: 0.0258 - mae: 0.1155 - val_loss: 0.0217 - val_mae: 0.1135\n",
      "Epoch 5/100\n",
      "18/18 [==============================] - 0s 17ms/step - loss: 0.0236 - mae: 0.1107 - val_loss: 0.0197 - val_mae: 0.1058\n",
      "Epoch 6/100\n",
      "18/18 [==============================] - 0s 17ms/step - loss: 0.0220 - mae: 0.1056 - val_loss: 0.0186 - val_mae: 0.1013\n",
      "Epoch 7/100\n",
      "18/18 [==============================] - 0s 17ms/step - loss: 0.0210 - mae: 0.1029 - val_loss: 0.0176 - val_mae: 0.0973\n",
      "Epoch 8/100\n",
      "18/18 [==============================] - 0s 17ms/step - loss: 0.0201 - mae: 0.0995 - val_loss: 0.0172 - val_mae: 0.0957\n",
      "Epoch 9/100\n",
      "18/18 [==============================] - 0s 17ms/step - loss: 0.0190 - mae: 0.0962 - val_loss: 0.0167 - val_mae: 0.0934\n",
      "Epoch 10/100\n",
      "18/18 [==============================] - 0s 18ms/step - loss: 0.0186 - mae: 0.0948 - val_loss: 0.0164 - val_mae: 0.0922\n",
      "Epoch 11/100\n",
      "18/18 [==============================] - 0s 17ms/step - loss: 0.0181 - mae: 0.0928 - val_loss: 0.0160 - val_mae: 0.0912\n",
      "Epoch 12/100\n",
      "18/18 [==============================] - 0s 17ms/step - loss: 0.0178 - mae: 0.0924 - val_loss: 0.0161 - val_mae: 0.0915\n",
      "Epoch 13/100\n",
      "18/18 [==============================] - 0s 17ms/step - loss: 0.0175 - mae: 0.0915 - val_loss: 0.0161 - val_mae: 0.0915\n",
      "Epoch 14/100\n",
      "18/18 [==============================] - 0s 18ms/step - loss: 0.0174 - mae: 0.0912 - val_loss: 0.0158 - val_mae: 0.0906\n",
      "Epoch 15/100\n",
      "18/18 [==============================] - 0s 17ms/step - loss: 0.0175 - mae: 0.0916 - val_loss: 0.0158 - val_mae: 0.0904\n",
      "Epoch 16/100\n",
      "18/18 [==============================] - 0s 17ms/step - loss: 0.0175 - mae: 0.0913 - val_loss: 0.0158 - val_mae: 0.0907\n",
      "Epoch 17/100\n",
      "18/18 [==============================] - 0s 18ms/step - loss: 0.0173 - mae: 0.0906 - val_loss: 0.0157 - val_mae: 0.0904\n",
      "Epoch 18/100\n",
      "18/18 [==============================] - 0s 18ms/step - loss: 0.0171 - mae: 0.0901 - val_loss: 0.0159 - val_mae: 0.0914\n",
      "Epoch 19/100\n",
      "18/18 [==============================] - 0s 17ms/step - loss: 0.0172 - mae: 0.0909 - val_loss: 0.0156 - val_mae: 0.0900\n",
      "Epoch 20/100\n",
      "18/18 [==============================] - 0s 17ms/step - loss: 0.0173 - mae: 0.0906 - val_loss: 0.0157 - val_mae: 0.0905\n",
      "Epoch 21/100\n",
      "18/18 [==============================] - 0s 18ms/step - loss: 0.0171 - mae: 0.0904 - val_loss: 0.0158 - val_mae: 0.0910\n",
      "Epoch 22/100\n",
      "18/18 [==============================] - 0s 17ms/step - loss: 0.0171 - mae: 0.0902 - val_loss: 0.0159 - val_mae: 0.0912\n"
     ]
    }
   ],
   "source": [
    "history1 = mq7_model.fit(\n",
    "    train_generator, \n",
    "    epochs=100,\n",
    "    validation_data=test_generator,\n",
    "    shuffle=False,\n",
    "    callbacks=[early_stopping]\n",
    "                             )"
   ]
  },
  {
   "cell_type": "code",
   "execution_count": 16,
   "id": "64f5fcf9",
   "metadata": {},
   "outputs": [
    {
     "name": "stdout",
     "output_type": "stream",
     "text": [
      "Epoch 1/100\n",
      "18/18 [==============================] - 5s 74ms/step - loss: 0.0388 - mae: 0.1569 - val_loss: 0.0176 - val_mae: 0.1005\n",
      "Epoch 2/100\n",
      "18/18 [==============================] - 0s 17ms/step - loss: 0.0245 - mae: 0.1082 - val_loss: 0.0161 - val_mae: 0.0988\n",
      "Epoch 3/100\n",
      "18/18 [==============================] - 0s 18ms/step - loss: 0.0214 - mae: 0.0988 - val_loss: 0.0127 - val_mae: 0.0816\n",
      "Epoch 4/100\n",
      "18/18 [==============================] - 0s 17ms/step - loss: 0.0192 - mae: 0.0926 - val_loss: 0.0121 - val_mae: 0.0799\n",
      "Epoch 5/100\n",
      "18/18 [==============================] - 0s 17ms/step - loss: 0.0181 - mae: 0.0883 - val_loss: 0.0121 - val_mae: 0.0816\n",
      "Epoch 6/100\n",
      "18/18 [==============================] - 0s 18ms/step - loss: 0.0176 - mae: 0.0871 - val_loss: 0.0117 - val_mae: 0.0791\n",
      "Epoch 7/100\n",
      "18/18 [==============================] - 0s 17ms/step - loss: 0.0172 - mae: 0.0862 - val_loss: 0.0112 - val_mae: 0.0759\n",
      "Epoch 8/100\n",
      "18/18 [==============================] - 0s 17ms/step - loss: 0.0168 - mae: 0.0850 - val_loss: 0.0111 - val_mae: 0.0758\n",
      "Epoch 9/100\n",
      "18/18 [==============================] - 0s 17ms/step - loss: 0.0166 - mae: 0.0838 - val_loss: 0.0110 - val_mae: 0.0753\n",
      "Epoch 10/100\n",
      "18/18 [==============================] - 0s 18ms/step - loss: 0.0163 - mae: 0.0830 - val_loss: 0.0110 - val_mae: 0.0750\n",
      "Epoch 11/100\n",
      "18/18 [==============================] - 0s 18ms/step - loss: 0.0161 - mae: 0.0824 - val_loss: 0.0107 - val_mae: 0.0734\n",
      "Epoch 12/100\n",
      "18/18 [==============================] - 0s 17ms/step - loss: 0.0159 - mae: 0.0812 - val_loss: 0.0109 - val_mae: 0.0753\n",
      "Epoch 13/100\n",
      "18/18 [==============================] - 0s 17ms/step - loss: 0.0159 - mae: 0.0815 - val_loss: 0.0107 - val_mae: 0.0733\n",
      "Epoch 14/100\n",
      "18/18 [==============================] - 0s 17ms/step - loss: 0.0157 - mae: 0.0810 - val_loss: 0.0107 - val_mae: 0.0739\n",
      "Epoch 15/100\n",
      "18/18 [==============================] - 0s 17ms/step - loss: 0.0157 - mae: 0.0807 - val_loss: 0.0107 - val_mae: 0.0740\n",
      "Epoch 16/100\n",
      "18/18 [==============================] - 0s 17ms/step - loss: 0.0156 - mae: 0.0807 - val_loss: 0.0107 - val_mae: 0.0738\n",
      "Epoch 17/100\n",
      "18/18 [==============================] - 0s 18ms/step - loss: 0.0154 - mae: 0.0805 - val_loss: 0.0105 - val_mae: 0.0723\n",
      "Epoch 18/100\n",
      "18/18 [==============================] - 0s 18ms/step - loss: 0.0153 - mae: 0.0801 - val_loss: 0.0107 - val_mae: 0.0746\n",
      "Epoch 19/100\n",
      "18/18 [==============================] - 0s 17ms/step - loss: 0.0155 - mae: 0.0806 - val_loss: 0.0105 - val_mae: 0.0725\n",
      "Epoch 20/100\n",
      "18/18 [==============================] - 0s 18ms/step - loss: 0.0154 - mae: 0.0807 - val_loss: 0.0105 - val_mae: 0.0724\n",
      "Epoch 21/100\n",
      "18/18 [==============================] - 0s 18ms/step - loss: 0.0153 - mae: 0.0802 - val_loss: 0.0105 - val_mae: 0.0736\n",
      "Epoch 22/100\n",
      "18/18 [==============================] - 0s 17ms/step - loss: 0.0153 - mae: 0.0801 - val_loss: 0.0105 - val_mae: 0.0729\n",
      "Epoch 23/100\n",
      "18/18 [==============================] - 0s 17ms/step - loss: 0.0153 - mae: 0.0802 - val_loss: 0.0105 - val_mae: 0.0733\n"
     ]
    }
   ],
   "source": [
    "history2 = mq135_model.fit(\n",
    "    train_generator1, \n",
    "    epochs=100,\n",
    "    validation_data=test_generator1,\n",
    "    shuffle=False,\n",
    "    callbacks=[early_stopping]\n",
    "                             )"
   ]
  },
  {
   "cell_type": "code",
   "execution_count": 17,
   "id": "ce26579a",
   "metadata": {
    "scrolled": true
   },
   "outputs": [
    {
     "name": "stdout",
     "output_type": "stream",
     "text": [
      "5/5 [==============================] - 0s 7ms/step - loss: 0.0159 - mae: 0.0912\n"
     ]
    },
    {
     "data": {
      "text/plain": [
       "[0.015884211286902428, 0.09115239977836609]"
      ]
     },
     "execution_count": 17,
     "metadata": {},
     "output_type": "execute_result"
    }
   ],
   "source": [
    "mq7_model.evaluate(test_generator)"
   ]
  },
  {
   "cell_type": "code",
   "execution_count": 18,
   "id": "327729ae",
   "metadata": {},
   "outputs": [
    {
     "name": "stdout",
     "output_type": "stream",
     "text": [
      "5/5 [==============================] - 0s 4ms/step - loss: 0.0105 - mae: 0.0733\n"
     ]
    },
    {
     "data": {
      "text/plain": [
       "[0.010534746572375298, 0.07331150770187378]"
      ]
     },
     "execution_count": 18,
     "metadata": {},
     "output_type": "execute_result"
    }
   ],
   "source": [
    "mq135_model.evaluate(test_generator1)"
   ]
  },
  {
   "cell_type": "code",
   "execution_count": 19,
   "id": "cd000e36",
   "metadata": {},
   "outputs": [
    {
     "data": {
      "text/plain": [
       "(65, 6)"
      ]
     },
     "execution_count": 19,
     "metadata": {},
     "output_type": "execute_result"
    }
   ],
   "source": [
    "mq7_preds = mq7_model.predict(test_generator)\n",
    "mq7_preds = mq7_preds.reshape(mq7_preds.shape[0], window_length)\n",
    "mq7_preds.shape"
   ]
  },
  {
   "cell_type": "code",
   "execution_count": 20,
   "id": "ae359919",
   "metadata": {},
   "outputs": [
    {
     "data": {
      "text/plain": [
       "(65, 6)"
      ]
     },
     "execution_count": 20,
     "metadata": {},
     "output_type": "execute_result"
    }
   ],
   "source": [
    "mq135_preds = mq135_model.predict(test_generator1)\n",
    "mq135_preds = mq135_preds.reshape(mq135_preds.shape[0], window_length)\n",
    "mq135_preds.shape"
   ]
  },
  {
   "cell_type": "code",
   "execution_count": 38,
   "id": "369e59bc",
   "metadata": {},
   "outputs": [
    {
     "name": "stderr",
     "output_type": "stream",
     "text": [
      "/tmp/ipykernel_18894/3887288328.py:4: SettingWithCopyWarning:\n",
      "\n",
      "\n",
      "A value is trying to be set on a copy of a slice from a DataFrame.\n",
      "Try using .loc[row_indexer,col_indexer] = value instead\n",
      "\n",
      "See the caveats in the documentation: https://pandas.pydata.org/pandas-docs/stable/user_guide/indexing.html#returning-a-view-versus-a-copy\n",
      "\n"
     ]
    },
    {
     "data": {
      "text/html": [
       "<div>\n",
       "<style scoped>\n",
       "    .dataframe tbody tr th:only-of-type {\n",
       "        vertical-align: middle;\n",
       "    }\n",
       "\n",
       "    .dataframe tbody tr th {\n",
       "        vertical-align: top;\n",
       "    }\n",
       "\n",
       "    .dataframe thead th {\n",
       "        text-align: right;\n",
       "    }\n",
       "</style>\n",
       "<table border=\"1\" class=\"dataframe\">\n",
       "  <thead>\n",
       "    <tr style=\"text-align: right;\">\n",
       "      <th></th>\n",
       "      <th>mq7</th>\n",
       "      <th>mq135</th>\n",
       "      <th>temperature</th>\n",
       "      <th>humidity</th>\n",
       "      <th>mq7_Predicted</th>\n",
       "    </tr>\n",
       "    <tr>\n",
       "      <th>timestamp</th>\n",
       "      <th></th>\n",
       "      <th></th>\n",
       "      <th></th>\n",
       "      <th></th>\n",
       "      <th></th>\n",
       "    </tr>\n",
       "  </thead>\n",
       "  <tbody>\n",
       "    <tr>\n",
       "      <th>2022-01-02 18:35:22+03:00</th>\n",
       "      <td>69.0</td>\n",
       "      <td>35.0</td>\n",
       "      <td>24.6</td>\n",
       "      <td>62.1</td>\n",
       "      <td>39.500000</td>\n",
       "    </tr>\n",
       "    <tr>\n",
       "      <th>2022-01-02 18:51:25+03:00</th>\n",
       "      <td>72.0</td>\n",
       "      <td>36.0</td>\n",
       "      <td>24.3</td>\n",
       "      <td>64.1</td>\n",
       "      <td>38.400000</td>\n",
       "    </tr>\n",
       "    <tr>\n",
       "      <th>2022-01-02 18:59:30+03:00</th>\n",
       "      <td>61.0</td>\n",
       "      <td>33.0</td>\n",
       "      <td>25.7</td>\n",
       "      <td>56.0</td>\n",
       "      <td>40.500000</td>\n",
       "    </tr>\n",
       "    <tr>\n",
       "      <th>2022-01-02 19:14:23+03:00</th>\n",
       "      <td>78.0</td>\n",
       "      <td>38.0</td>\n",
       "      <td>23.7</td>\n",
       "      <td>68.2</td>\n",
       "      <td>39.800000</td>\n",
       "    </tr>\n",
       "    <tr>\n",
       "      <th>2022-01-02 19:19:53+03:00</th>\n",
       "      <td>60.0</td>\n",
       "      <td>32.0</td>\n",
       "      <td>25.5</td>\n",
       "      <td>56.0</td>\n",
       "      <td>39.000000</td>\n",
       "    </tr>\n",
       "    <tr>\n",
       "      <th>...</th>\n",
       "      <td>...</td>\n",
       "      <td>...</td>\n",
       "      <td>...</td>\n",
       "      <td>...</td>\n",
       "      <td>...</td>\n",
       "    </tr>\n",
       "    <tr>\n",
       "      <th>2022-01-03 05:02:50+03:00</th>\n",
       "      <td>55.0</td>\n",
       "      <td>32.0</td>\n",
       "      <td>24.6</td>\n",
       "      <td>47.0</td>\n",
       "      <td>37.400000</td>\n",
       "    </tr>\n",
       "    <tr>\n",
       "      <th>2022-01-03 05:07:57+03:00</th>\n",
       "      <td>60.0</td>\n",
       "      <td>33.0</td>\n",
       "      <td>24.2</td>\n",
       "      <td>48.0</td>\n",
       "      <td>34.833333</td>\n",
       "    </tr>\n",
       "    <tr>\n",
       "      <th>2022-01-03 05:23:17+03:00</th>\n",
       "      <td>62.0</td>\n",
       "      <td>33.0</td>\n",
       "      <td>23.8</td>\n",
       "      <td>51.0</td>\n",
       "      <td>30.250000</td>\n",
       "    </tr>\n",
       "    <tr>\n",
       "      <th>2022-01-03 05:38:36+03:00</th>\n",
       "      <td>58.0</td>\n",
       "      <td>31.0</td>\n",
       "      <td>22.7</td>\n",
       "      <td>56.0</td>\n",
       "      <td>29.500000</td>\n",
       "    </tr>\n",
       "    <tr>\n",
       "      <th>2022-01-03 05:43:44+03:00</th>\n",
       "      <td>57.0</td>\n",
       "      <td>32.0</td>\n",
       "      <td>22.1</td>\n",
       "      <td>56.0</td>\n",
       "      <td>32.200000</td>\n",
       "    </tr>\n",
       "  </tbody>\n",
       "</table>\n",
       "<p>65 rows × 5 columns</p>\n",
       "</div>"
      ],
      "text/plain": [
       "                            mq7  mq135  temperature  humidity  mq7_Predicted\n",
       "timestamp                                                                   \n",
       "2022-01-02 18:35:22+03:00  69.0   35.0         24.6      62.1      39.500000\n",
       "2022-01-02 18:51:25+03:00  72.0   36.0         24.3      64.1      38.400000\n",
       "2022-01-02 18:59:30+03:00  61.0   33.0         25.7      56.0      40.500000\n",
       "2022-01-02 19:14:23+03:00  78.0   38.0         23.7      68.2      39.800000\n",
       "2022-01-02 19:19:53+03:00  60.0   32.0         25.5      56.0      39.000000\n",
       "...                         ...    ...          ...       ...            ...\n",
       "2022-01-03 05:02:50+03:00  55.0   32.0         24.6      47.0      37.400000\n",
       "2022-01-03 05:07:57+03:00  60.0   33.0         24.2      48.0      34.833333\n",
       "2022-01-03 05:23:17+03:00  62.0   33.0         23.8      51.0      30.250000\n",
       "2022-01-03 05:38:36+03:00  58.0   31.0         22.7      56.0      29.500000\n",
       "2022-01-03 05:43:44+03:00  57.0   32.0         22.1      56.0      32.200000\n",
       "\n",
       "[65 rows x 5 columns]"
      ]
     },
     "execution_count": 38,
     "metadata": {},
     "output_type": "execute_result"
    }
   ],
   "source": [
    "df_mq7 = pd.concat([pd.DataFrame(mq7_preds[:,0]), pd.DataFrame(x_test[:,1:][window_length:])], axis=1)\n",
    "reverse_transform = scaler.inverse_transform(df_mq7)\n",
    "df_mq7_final = raw_df[df_mq7.shape[0]*-1:]\n",
    "df_mq7_final[\"mq7_Predicted\"] = reverse_transform[:,1]\n",
    "df_mq7_final"
   ]
  },
  {
   "cell_type": "code",
   "execution_count": 39,
   "id": "bf04425d",
   "metadata": {},
   "outputs": [
    {
     "data": {
      "application/vnd.plotly.v1+json": {
       "config": {
        "plotlyServerURL": "https://plot.ly"
       },
       "data": [
        {
         "mode": "lines",
         "name": "Actual",
         "type": "scatter",
         "x": [
          "2022-01-02T18:35:22+03:00",
          "2022-01-02T18:51:25+03:00",
          "2022-01-02T18:59:30+03:00",
          "2022-01-02T19:14:23+03:00",
          "2022-01-02T19:19:53+03:00",
          "2022-01-02T19:25:07+03:00",
          "2022-01-02T19:40:36+03:00",
          "2022-01-02T19:52:13+03:00",
          "2022-01-02T19:55:47+03:00",
          "2022-01-02T20:00:55+03:00",
          "2022-01-02T20:16:15+03:00",
          "2022-01-02T20:26:40+03:00",
          "2022-01-02T20:36:34+03:00",
          "2022-01-02T20:43:27+03:00",
          "2022-01-02T20:58:54+03:00",
          "2022-01-02T21:14:17+03:00",
          "2022-01-02T21:30:52+03:00",
          "2022-01-02T21:39:52+03:00",
          "2022-01-02T21:55:16+03:00",
          "2022-01-02T22:10:35+03:00",
          "2022-01-02T22:15:44+03:00",
          "2022-01-02T22:31:04+03:00",
          "2022-01-02T22:36:14+03:00",
          "2022-01-02T22:41:22+03:00",
          "2022-01-02T22:46:34+03:00",
          "2022-01-02T22:56:45+03:00",
          "2022-01-02T23:12:05+03:00",
          "2022-01-02T23:27:23+03:00",
          "2022-01-02T23:32:33+03:00",
          "2022-01-02T23:44:49+03:00",
          "2022-01-03T00:00:07+03:00",
          "2022-01-03T00:16:26+03:00",
          "2022-01-03T00:27:03+03:00",
          "2022-01-03T00:33:41+03:00",
          "2022-01-03T00:38:50+03:00",
          "2022-01-03T00:49:59+03:00",
          "2022-01-03T00:59:12+03:00",
          "2022-01-03T01:09:22+03:00",
          "2022-01-03T01:20:34+03:00",
          "2022-01-03T01:34:48+03:00",
          "2022-01-03T01:47:30+03:00",
          "2022-01-03T01:58:26+03:00",
          "2022-01-03T02:09:13+03:00",
          "2022-01-03T02:10:44+03:00",
          "2022-01-03T02:22:44+03:00",
          "2022-01-03T02:36:46+03:00",
          "2022-01-03T02:47:48+03:00",
          "2022-01-03T02:56:32+03:00",
          "2022-01-03T03:01:41+03:00",
          "2022-01-03T03:06:49+03:00",
          "2022-01-03T03:11:57+03:00",
          "2022-01-03T03:22:15+03:00",
          "2022-01-03T03:27:23+03:00",
          "2022-01-03T03:37:37+03:00",
          "2022-01-03T03:48:05+03:00",
          "2022-01-03T03:53:19+03:00",
          "2022-01-03T04:04:40+03:00",
          "2022-01-03T04:21:12+03:00",
          "2022-01-03T04:29:07+03:00",
          "2022-01-03T04:44:27+03:00",
          "2022-01-03T05:02:50+03:00",
          "2022-01-03T05:07:57+03:00",
          "2022-01-03T05:23:17+03:00",
          "2022-01-03T05:38:36+03:00",
          "2022-01-03T05:43:44+03:00"
         ],
         "y": [
          69,
          72,
          61,
          78,
          60,
          60,
          61,
          60,
          62,
          60,
          61,
          60,
          61,
          61,
          62,
          59,
          62,
          62,
          61,
          61,
          62,
          66,
          63,
          63,
          62,
          61,
          62,
          63,
          61,
          60,
          60,
          61,
          62,
          58,
          58,
          58,
          57,
          57,
          66,
          85,
          83,
          84,
          82,
          55,
          66,
          71,
          77,
          55,
          54,
          54,
          54,
          54,
          54,
          54,
          53,
          55,
          52,
          52,
          51,
          52,
          55,
          60,
          62,
          58,
          57
         ]
        },
        {
         "mode": "lines",
         "name": "Predicted",
         "type": "scatter",
         "x": [
          "2022-01-02T18:35:22+03:00",
          "2022-01-02T18:51:25+03:00",
          "2022-01-02T18:59:30+03:00",
          "2022-01-02T19:14:23+03:00",
          "2022-01-02T19:19:53+03:00",
          "2022-01-02T19:25:07+03:00",
          "2022-01-02T19:40:36+03:00",
          "2022-01-02T19:52:13+03:00",
          "2022-01-02T19:55:47+03:00",
          "2022-01-02T20:00:55+03:00",
          "2022-01-02T20:16:15+03:00",
          "2022-01-02T20:26:40+03:00",
          "2022-01-02T20:36:34+03:00",
          "2022-01-02T20:43:27+03:00",
          "2022-01-02T20:58:54+03:00",
          "2022-01-02T21:14:17+03:00",
          "2022-01-02T21:30:52+03:00",
          "2022-01-02T21:39:52+03:00",
          "2022-01-02T21:55:16+03:00",
          "2022-01-02T22:10:35+03:00",
          "2022-01-02T22:15:44+03:00",
          "2022-01-02T22:31:04+03:00",
          "2022-01-02T22:36:14+03:00",
          "2022-01-02T22:41:22+03:00",
          "2022-01-02T22:46:34+03:00",
          "2022-01-02T22:56:45+03:00",
          "2022-01-02T23:12:05+03:00",
          "2022-01-02T23:27:23+03:00",
          "2022-01-02T23:32:33+03:00",
          "2022-01-02T23:44:49+03:00",
          "2022-01-03T00:00:07+03:00",
          "2022-01-03T00:16:26+03:00",
          "2022-01-03T00:27:03+03:00",
          "2022-01-03T00:33:41+03:00",
          "2022-01-03T00:38:50+03:00",
          "2022-01-03T00:49:59+03:00",
          "2022-01-03T00:59:12+03:00",
          "2022-01-03T01:09:22+03:00",
          "2022-01-03T01:20:34+03:00",
          "2022-01-03T01:34:48+03:00",
          "2022-01-03T01:47:30+03:00",
          "2022-01-03T01:58:26+03:00",
          "2022-01-03T02:09:13+03:00",
          "2022-01-03T02:10:44+03:00",
          "2022-01-03T02:22:44+03:00",
          "2022-01-03T02:36:46+03:00",
          "2022-01-03T02:47:48+03:00",
          "2022-01-03T02:56:32+03:00",
          "2022-01-03T03:01:41+03:00",
          "2022-01-03T03:06:49+03:00",
          "2022-01-03T03:11:57+03:00",
          "2022-01-03T03:22:15+03:00",
          "2022-01-03T03:27:23+03:00",
          "2022-01-03T03:37:37+03:00",
          "2022-01-03T03:48:05+03:00",
          "2022-01-03T03:53:19+03:00",
          "2022-01-03T04:04:40+03:00",
          "2022-01-03T04:21:12+03:00",
          "2022-01-03T04:29:07+03:00",
          "2022-01-03T04:44:27+03:00",
          "2022-01-03T05:02:50+03:00",
          "2022-01-03T05:07:57+03:00",
          "2022-01-03T05:23:17+03:00",
          "2022-01-03T05:38:36+03:00",
          "2022-01-03T05:43:44+03:00"
         ],
         "y": [
          39.5,
          38.4,
          40.5,
          39.8,
          39,
          40,
          40,
          40,
          40,
          41,
          43.8,
          43.2,
          41,
          39.5,
          40.6,
          39.5,
          37.8,
          37,
          42,
          47,
          57.2,
          49.4,
          42.4,
          46.5,
          42,
          40.5,
          39.4,
          40.4,
          41.5,
          42,
          41.2,
          39.4,
          39.5,
          41.2,
          43.5,
          43,
          41.25,
          39.4,
          38.75,
          39.5,
          37,
          35.6,
          37,
          42.4,
          65.25,
          62.20000000000001,
          50,
          40.25,
          38.4,
          36,
          38.75,
          39.5,
          38.4,
          41.666666666666664,
          33.5,
          33.166666666666664,
          33.75,
          35.42857142857143,
          34,
          32.57142857142857,
          37.4,
          34.833333333333336,
          30.25,
          29.5,
          32.2
         ]
        }
       ],
       "layout": {
        "template": {
         "data": {
          "bar": [
           {
            "error_x": {
             "color": "#2a3f5f"
            },
            "error_y": {
             "color": "#2a3f5f"
            },
            "marker": {
             "line": {
              "color": "#E5ECF6",
              "width": 0.5
             },
             "pattern": {
              "fillmode": "overlay",
              "size": 10,
              "solidity": 0.2
             }
            },
            "type": "bar"
           }
          ],
          "barpolar": [
           {
            "marker": {
             "line": {
              "color": "#E5ECF6",
              "width": 0.5
             },
             "pattern": {
              "fillmode": "overlay",
              "size": 10,
              "solidity": 0.2
             }
            },
            "type": "barpolar"
           }
          ],
          "carpet": [
           {
            "aaxis": {
             "endlinecolor": "#2a3f5f",
             "gridcolor": "white",
             "linecolor": "white",
             "minorgridcolor": "white",
             "startlinecolor": "#2a3f5f"
            },
            "baxis": {
             "endlinecolor": "#2a3f5f",
             "gridcolor": "white",
             "linecolor": "white",
             "minorgridcolor": "white",
             "startlinecolor": "#2a3f5f"
            },
            "type": "carpet"
           }
          ],
          "choropleth": [
           {
            "colorbar": {
             "outlinewidth": 0,
             "ticks": ""
            },
            "type": "choropleth"
           }
          ],
          "contour": [
           {
            "colorbar": {
             "outlinewidth": 0,
             "ticks": ""
            },
            "colorscale": [
             [
              0,
              "#0d0887"
             ],
             [
              0.1111111111111111,
              "#46039f"
             ],
             [
              0.2222222222222222,
              "#7201a8"
             ],
             [
              0.3333333333333333,
              "#9c179e"
             ],
             [
              0.4444444444444444,
              "#bd3786"
             ],
             [
              0.5555555555555556,
              "#d8576b"
             ],
             [
              0.6666666666666666,
              "#ed7953"
             ],
             [
              0.7777777777777778,
              "#fb9f3a"
             ],
             [
              0.8888888888888888,
              "#fdca26"
             ],
             [
              1,
              "#f0f921"
             ]
            ],
            "type": "contour"
           }
          ],
          "contourcarpet": [
           {
            "colorbar": {
             "outlinewidth": 0,
             "ticks": ""
            },
            "type": "contourcarpet"
           }
          ],
          "heatmap": [
           {
            "colorbar": {
             "outlinewidth": 0,
             "ticks": ""
            },
            "colorscale": [
             [
              0,
              "#0d0887"
             ],
             [
              0.1111111111111111,
              "#46039f"
             ],
             [
              0.2222222222222222,
              "#7201a8"
             ],
             [
              0.3333333333333333,
              "#9c179e"
             ],
             [
              0.4444444444444444,
              "#bd3786"
             ],
             [
              0.5555555555555556,
              "#d8576b"
             ],
             [
              0.6666666666666666,
              "#ed7953"
             ],
             [
              0.7777777777777778,
              "#fb9f3a"
             ],
             [
              0.8888888888888888,
              "#fdca26"
             ],
             [
              1,
              "#f0f921"
             ]
            ],
            "type": "heatmap"
           }
          ],
          "heatmapgl": [
           {
            "colorbar": {
             "outlinewidth": 0,
             "ticks": ""
            },
            "colorscale": [
             [
              0,
              "#0d0887"
             ],
             [
              0.1111111111111111,
              "#46039f"
             ],
             [
              0.2222222222222222,
              "#7201a8"
             ],
             [
              0.3333333333333333,
              "#9c179e"
             ],
             [
              0.4444444444444444,
              "#bd3786"
             ],
             [
              0.5555555555555556,
              "#d8576b"
             ],
             [
              0.6666666666666666,
              "#ed7953"
             ],
             [
              0.7777777777777778,
              "#fb9f3a"
             ],
             [
              0.8888888888888888,
              "#fdca26"
             ],
             [
              1,
              "#f0f921"
             ]
            ],
            "type": "heatmapgl"
           }
          ],
          "histogram": [
           {
            "marker": {
             "pattern": {
              "fillmode": "overlay",
              "size": 10,
              "solidity": 0.2
             }
            },
            "type": "histogram"
           }
          ],
          "histogram2d": [
           {
            "colorbar": {
             "outlinewidth": 0,
             "ticks": ""
            },
            "colorscale": [
             [
              0,
              "#0d0887"
             ],
             [
              0.1111111111111111,
              "#46039f"
             ],
             [
              0.2222222222222222,
              "#7201a8"
             ],
             [
              0.3333333333333333,
              "#9c179e"
             ],
             [
              0.4444444444444444,
              "#bd3786"
             ],
             [
              0.5555555555555556,
              "#d8576b"
             ],
             [
              0.6666666666666666,
              "#ed7953"
             ],
             [
              0.7777777777777778,
              "#fb9f3a"
             ],
             [
              0.8888888888888888,
              "#fdca26"
             ],
             [
              1,
              "#f0f921"
             ]
            ],
            "type": "histogram2d"
           }
          ],
          "histogram2dcontour": [
           {
            "colorbar": {
             "outlinewidth": 0,
             "ticks": ""
            },
            "colorscale": [
             [
              0,
              "#0d0887"
             ],
             [
              0.1111111111111111,
              "#46039f"
             ],
             [
              0.2222222222222222,
              "#7201a8"
             ],
             [
              0.3333333333333333,
              "#9c179e"
             ],
             [
              0.4444444444444444,
              "#bd3786"
             ],
             [
              0.5555555555555556,
              "#d8576b"
             ],
             [
              0.6666666666666666,
              "#ed7953"
             ],
             [
              0.7777777777777778,
              "#fb9f3a"
             ],
             [
              0.8888888888888888,
              "#fdca26"
             ],
             [
              1,
              "#f0f921"
             ]
            ],
            "type": "histogram2dcontour"
           }
          ],
          "mesh3d": [
           {
            "colorbar": {
             "outlinewidth": 0,
             "ticks": ""
            },
            "type": "mesh3d"
           }
          ],
          "parcoords": [
           {
            "line": {
             "colorbar": {
              "outlinewidth": 0,
              "ticks": ""
             }
            },
            "type": "parcoords"
           }
          ],
          "pie": [
           {
            "automargin": true,
            "type": "pie"
           }
          ],
          "scatter": [
           {
            "marker": {
             "colorbar": {
              "outlinewidth": 0,
              "ticks": ""
             }
            },
            "type": "scatter"
           }
          ],
          "scatter3d": [
           {
            "line": {
             "colorbar": {
              "outlinewidth": 0,
              "ticks": ""
             }
            },
            "marker": {
             "colorbar": {
              "outlinewidth": 0,
              "ticks": ""
             }
            },
            "type": "scatter3d"
           }
          ],
          "scattercarpet": [
           {
            "marker": {
             "colorbar": {
              "outlinewidth": 0,
              "ticks": ""
             }
            },
            "type": "scattercarpet"
           }
          ],
          "scattergeo": [
           {
            "marker": {
             "colorbar": {
              "outlinewidth": 0,
              "ticks": ""
             }
            },
            "type": "scattergeo"
           }
          ],
          "scattergl": [
           {
            "marker": {
             "colorbar": {
              "outlinewidth": 0,
              "ticks": ""
             }
            },
            "type": "scattergl"
           }
          ],
          "scattermapbox": [
           {
            "marker": {
             "colorbar": {
              "outlinewidth": 0,
              "ticks": ""
             }
            },
            "type": "scattermapbox"
           }
          ],
          "scatterpolar": [
           {
            "marker": {
             "colorbar": {
              "outlinewidth": 0,
              "ticks": ""
             }
            },
            "type": "scatterpolar"
           }
          ],
          "scatterpolargl": [
           {
            "marker": {
             "colorbar": {
              "outlinewidth": 0,
              "ticks": ""
             }
            },
            "type": "scatterpolargl"
           }
          ],
          "scatterternary": [
           {
            "marker": {
             "colorbar": {
              "outlinewidth": 0,
              "ticks": ""
             }
            },
            "type": "scatterternary"
           }
          ],
          "surface": [
           {
            "colorbar": {
             "outlinewidth": 0,
             "ticks": ""
            },
            "colorscale": [
             [
              0,
              "#0d0887"
             ],
             [
              0.1111111111111111,
              "#46039f"
             ],
             [
              0.2222222222222222,
              "#7201a8"
             ],
             [
              0.3333333333333333,
              "#9c179e"
             ],
             [
              0.4444444444444444,
              "#bd3786"
             ],
             [
              0.5555555555555556,
              "#d8576b"
             ],
             [
              0.6666666666666666,
              "#ed7953"
             ],
             [
              0.7777777777777778,
              "#fb9f3a"
             ],
             [
              0.8888888888888888,
              "#fdca26"
             ],
             [
              1,
              "#f0f921"
             ]
            ],
            "type": "surface"
           }
          ],
          "table": [
           {
            "cells": {
             "fill": {
              "color": "#EBF0F8"
             },
             "line": {
              "color": "white"
             }
            },
            "header": {
             "fill": {
              "color": "#C8D4E3"
             },
             "line": {
              "color": "white"
             }
            },
            "type": "table"
           }
          ]
         },
         "layout": {
          "annotationdefaults": {
           "arrowcolor": "#2a3f5f",
           "arrowhead": 0,
           "arrowwidth": 1
          },
          "autotypenumbers": "strict",
          "coloraxis": {
           "colorbar": {
            "outlinewidth": 0,
            "ticks": ""
           }
          },
          "colorscale": {
           "diverging": [
            [
             0,
             "#8e0152"
            ],
            [
             0.1,
             "#c51b7d"
            ],
            [
             0.2,
             "#de77ae"
            ],
            [
             0.3,
             "#f1b6da"
            ],
            [
             0.4,
             "#fde0ef"
            ],
            [
             0.5,
             "#f7f7f7"
            ],
            [
             0.6,
             "#e6f5d0"
            ],
            [
             0.7,
             "#b8e186"
            ],
            [
             0.8,
             "#7fbc41"
            ],
            [
             0.9,
             "#4d9221"
            ],
            [
             1,
             "#276419"
            ]
           ],
           "sequential": [
            [
             0,
             "#0d0887"
            ],
            [
             0.1111111111111111,
             "#46039f"
            ],
            [
             0.2222222222222222,
             "#7201a8"
            ],
            [
             0.3333333333333333,
             "#9c179e"
            ],
            [
             0.4444444444444444,
             "#bd3786"
            ],
            [
             0.5555555555555556,
             "#d8576b"
            ],
            [
             0.6666666666666666,
             "#ed7953"
            ],
            [
             0.7777777777777778,
             "#fb9f3a"
            ],
            [
             0.8888888888888888,
             "#fdca26"
            ],
            [
             1,
             "#f0f921"
            ]
           ],
           "sequentialminus": [
            [
             0,
             "#0d0887"
            ],
            [
             0.1111111111111111,
             "#46039f"
            ],
            [
             0.2222222222222222,
             "#7201a8"
            ],
            [
             0.3333333333333333,
             "#9c179e"
            ],
            [
             0.4444444444444444,
             "#bd3786"
            ],
            [
             0.5555555555555556,
             "#d8576b"
            ],
            [
             0.6666666666666666,
             "#ed7953"
            ],
            [
             0.7777777777777778,
             "#fb9f3a"
            ],
            [
             0.8888888888888888,
             "#fdca26"
            ],
            [
             1,
             "#f0f921"
            ]
           ]
          },
          "colorway": [
           "#636efa",
           "#EF553B",
           "#00cc96",
           "#ab63fa",
           "#FFA15A",
           "#19d3f3",
           "#FF6692",
           "#B6E880",
           "#FF97FF",
           "#FECB52"
          ],
          "font": {
           "color": "#2a3f5f"
          },
          "geo": {
           "bgcolor": "white",
           "lakecolor": "white",
           "landcolor": "#E5ECF6",
           "showlakes": true,
           "showland": true,
           "subunitcolor": "white"
          },
          "hoverlabel": {
           "align": "left"
          },
          "hovermode": "closest",
          "mapbox": {
           "style": "light"
          },
          "paper_bgcolor": "white",
          "plot_bgcolor": "#E5ECF6",
          "polar": {
           "angularaxis": {
            "gridcolor": "white",
            "linecolor": "white",
            "ticks": ""
           },
           "bgcolor": "#E5ECF6",
           "radialaxis": {
            "gridcolor": "white",
            "linecolor": "white",
            "ticks": ""
           }
          },
          "scene": {
           "xaxis": {
            "backgroundcolor": "#E5ECF6",
            "gridcolor": "white",
            "gridwidth": 2,
            "linecolor": "white",
            "showbackground": true,
            "ticks": "",
            "zerolinecolor": "white"
           },
           "yaxis": {
            "backgroundcolor": "#E5ECF6",
            "gridcolor": "white",
            "gridwidth": 2,
            "linecolor": "white",
            "showbackground": true,
            "ticks": "",
            "zerolinecolor": "white"
           },
           "zaxis": {
            "backgroundcolor": "#E5ECF6",
            "gridcolor": "white",
            "gridwidth": 2,
            "linecolor": "white",
            "showbackground": true,
            "ticks": "",
            "zerolinecolor": "white"
           }
          },
          "shapedefaults": {
           "line": {
            "color": "#2a3f5f"
           }
          },
          "ternary": {
           "aaxis": {
            "gridcolor": "white",
            "linecolor": "white",
            "ticks": ""
           },
           "baxis": {
            "gridcolor": "white",
            "linecolor": "white",
            "ticks": ""
           },
           "bgcolor": "#E5ECF6",
           "caxis": {
            "gridcolor": "white",
            "linecolor": "white",
            "ticks": ""
           }
          },
          "title": {
           "x": 0.05
          },
          "xaxis": {
           "automargin": true,
           "gridcolor": "white",
           "linecolor": "white",
           "ticks": "",
           "title": {
            "standoff": 15
           },
           "zerolinecolor": "white",
           "zerolinewidth": 2
          },
          "yaxis": {
           "automargin": true,
           "gridcolor": "white",
           "linecolor": "white",
           "ticks": "",
           "title": {
            "standoff": 15
           },
           "zerolinecolor": "white",
           "zerolinewidth": 2
          }
         }
        },
        "title": {
         "text": "MQ7 Sensor Data vs Predicted Values against Time",
         "x": 0.5,
         "xanchor": "center",
         "yanchor": "top"
        },
        "xaxis": {
         "title": {
          "text": "Date/Time"
         }
        },
        "yaxis": {
         "title": {
          "text": "Parts Per Million"
         }
        }
       }
      },
      "text/html": [
       "<div>                            <div id=\"5041c8c8-69ad-4b02-b57a-94cbc3bf7ed1\" class=\"plotly-graph-div\" style=\"height:525px; width:100%;\"></div>            <script type=\"text/javascript\">                require([\"plotly\"], function(Plotly) {                    window.PLOTLYENV=window.PLOTLYENV || {};                                    if (document.getElementById(\"5041c8c8-69ad-4b02-b57a-94cbc3bf7ed1\")) {                    Plotly.newPlot(                        \"5041c8c8-69ad-4b02-b57a-94cbc3bf7ed1\",                        [{\"mode\":\"lines\",\"name\":\"Actual\",\"x\":[\"2022-01-02T18:35:22+03:00\",\"2022-01-02T18:51:25+03:00\",\"2022-01-02T18:59:30+03:00\",\"2022-01-02T19:14:23+03:00\",\"2022-01-02T19:19:53+03:00\",\"2022-01-02T19:25:07+03:00\",\"2022-01-02T19:40:36+03:00\",\"2022-01-02T19:52:13+03:00\",\"2022-01-02T19:55:47+03:00\",\"2022-01-02T20:00:55+03:00\",\"2022-01-02T20:16:15+03:00\",\"2022-01-02T20:26:40+03:00\",\"2022-01-02T20:36:34+03:00\",\"2022-01-02T20:43:27+03:00\",\"2022-01-02T20:58:54+03:00\",\"2022-01-02T21:14:17+03:00\",\"2022-01-02T21:30:52+03:00\",\"2022-01-02T21:39:52+03:00\",\"2022-01-02T21:55:16+03:00\",\"2022-01-02T22:10:35+03:00\",\"2022-01-02T22:15:44+03:00\",\"2022-01-02T22:31:04+03:00\",\"2022-01-02T22:36:14+03:00\",\"2022-01-02T22:41:22+03:00\",\"2022-01-02T22:46:34+03:00\",\"2022-01-02T22:56:45+03:00\",\"2022-01-02T23:12:05+03:00\",\"2022-01-02T23:27:23+03:00\",\"2022-01-02T23:32:33+03:00\",\"2022-01-02T23:44:49+03:00\",\"2022-01-03T00:00:07+03:00\",\"2022-01-03T00:16:26+03:00\",\"2022-01-03T00:27:03+03:00\",\"2022-01-03T00:33:41+03:00\",\"2022-01-03T00:38:50+03:00\",\"2022-01-03T00:49:59+03:00\",\"2022-01-03T00:59:12+03:00\",\"2022-01-03T01:09:22+03:00\",\"2022-01-03T01:20:34+03:00\",\"2022-01-03T01:34:48+03:00\",\"2022-01-03T01:47:30+03:00\",\"2022-01-03T01:58:26+03:00\",\"2022-01-03T02:09:13+03:00\",\"2022-01-03T02:10:44+03:00\",\"2022-01-03T02:22:44+03:00\",\"2022-01-03T02:36:46+03:00\",\"2022-01-03T02:47:48+03:00\",\"2022-01-03T02:56:32+03:00\",\"2022-01-03T03:01:41+03:00\",\"2022-01-03T03:06:49+03:00\",\"2022-01-03T03:11:57+03:00\",\"2022-01-03T03:22:15+03:00\",\"2022-01-03T03:27:23+03:00\",\"2022-01-03T03:37:37+03:00\",\"2022-01-03T03:48:05+03:00\",\"2022-01-03T03:53:19+03:00\",\"2022-01-03T04:04:40+03:00\",\"2022-01-03T04:21:12+03:00\",\"2022-01-03T04:29:07+03:00\",\"2022-01-03T04:44:27+03:00\",\"2022-01-03T05:02:50+03:00\",\"2022-01-03T05:07:57+03:00\",\"2022-01-03T05:23:17+03:00\",\"2022-01-03T05:38:36+03:00\",\"2022-01-03T05:43:44+03:00\"],\"y\":[69.0,72.0,61.0,78.0,60.0,60.0,61.0,60.0,62.0,60.0,61.0,60.0,61.0,61.0,62.0,59.0,62.0,62.0,61.0,61.0,62.0,66.0,63.0,63.0,62.0,61.0,62.0,63.0,61.0,60.0,60.0,61.0,62.0,58.0,58.0,58.0,57.0,57.0,66.0,85.0,83.0,84.0,82.0,55.0,66.0,71.0,77.0,55.0,54.0,54.0,54.0,54.0,54.0,54.0,53.0,55.0,52.0,52.0,51.0,52.0,55.0,60.0,62.0,58.0,57.0],\"type\":\"scatter\"},{\"mode\":\"lines\",\"name\":\"Predicted\",\"x\":[\"2022-01-02T18:35:22+03:00\",\"2022-01-02T18:51:25+03:00\",\"2022-01-02T18:59:30+03:00\",\"2022-01-02T19:14:23+03:00\",\"2022-01-02T19:19:53+03:00\",\"2022-01-02T19:25:07+03:00\",\"2022-01-02T19:40:36+03:00\",\"2022-01-02T19:52:13+03:00\",\"2022-01-02T19:55:47+03:00\",\"2022-01-02T20:00:55+03:00\",\"2022-01-02T20:16:15+03:00\",\"2022-01-02T20:26:40+03:00\",\"2022-01-02T20:36:34+03:00\",\"2022-01-02T20:43:27+03:00\",\"2022-01-02T20:58:54+03:00\",\"2022-01-02T21:14:17+03:00\",\"2022-01-02T21:30:52+03:00\",\"2022-01-02T21:39:52+03:00\",\"2022-01-02T21:55:16+03:00\",\"2022-01-02T22:10:35+03:00\",\"2022-01-02T22:15:44+03:00\",\"2022-01-02T22:31:04+03:00\",\"2022-01-02T22:36:14+03:00\",\"2022-01-02T22:41:22+03:00\",\"2022-01-02T22:46:34+03:00\",\"2022-01-02T22:56:45+03:00\",\"2022-01-02T23:12:05+03:00\",\"2022-01-02T23:27:23+03:00\",\"2022-01-02T23:32:33+03:00\",\"2022-01-02T23:44:49+03:00\",\"2022-01-03T00:00:07+03:00\",\"2022-01-03T00:16:26+03:00\",\"2022-01-03T00:27:03+03:00\",\"2022-01-03T00:33:41+03:00\",\"2022-01-03T00:38:50+03:00\",\"2022-01-03T00:49:59+03:00\",\"2022-01-03T00:59:12+03:00\",\"2022-01-03T01:09:22+03:00\",\"2022-01-03T01:20:34+03:00\",\"2022-01-03T01:34:48+03:00\",\"2022-01-03T01:47:30+03:00\",\"2022-01-03T01:58:26+03:00\",\"2022-01-03T02:09:13+03:00\",\"2022-01-03T02:10:44+03:00\",\"2022-01-03T02:22:44+03:00\",\"2022-01-03T02:36:46+03:00\",\"2022-01-03T02:47:48+03:00\",\"2022-01-03T02:56:32+03:00\",\"2022-01-03T03:01:41+03:00\",\"2022-01-03T03:06:49+03:00\",\"2022-01-03T03:11:57+03:00\",\"2022-01-03T03:22:15+03:00\",\"2022-01-03T03:27:23+03:00\",\"2022-01-03T03:37:37+03:00\",\"2022-01-03T03:48:05+03:00\",\"2022-01-03T03:53:19+03:00\",\"2022-01-03T04:04:40+03:00\",\"2022-01-03T04:21:12+03:00\",\"2022-01-03T04:29:07+03:00\",\"2022-01-03T04:44:27+03:00\",\"2022-01-03T05:02:50+03:00\",\"2022-01-03T05:07:57+03:00\",\"2022-01-03T05:23:17+03:00\",\"2022-01-03T05:38:36+03:00\",\"2022-01-03T05:43:44+03:00\"],\"y\":[39.5,38.4,40.5,39.8,39.0,40.0,40.0,40.0,40.0,41.0,43.8,43.2,41.0,39.5,40.6,39.5,37.8,37.0,42.0,47.0,57.2,49.4,42.4,46.5,42.0,40.5,39.4,40.4,41.5,42.0,41.2,39.4,39.5,41.2,43.5,43.0,41.25,39.4,38.75,39.5,37.0,35.6,37.0,42.4,65.25,62.20000000000001,50.0,40.25,38.4,36.0,38.75,39.5,38.4,41.666666666666664,33.5,33.166666666666664,33.75,35.42857142857143,34.0,32.57142857142857,37.4,34.833333333333336,30.25,29.5,32.2],\"type\":\"scatter\"}],                        {\"template\":{\"data\":{\"bar\":[{\"error_x\":{\"color\":\"#2a3f5f\"},\"error_y\":{\"color\":\"#2a3f5f\"},\"marker\":{\"line\":{\"color\":\"#E5ECF6\",\"width\":0.5},\"pattern\":{\"fillmode\":\"overlay\",\"size\":10,\"solidity\":0.2}},\"type\":\"bar\"}],\"barpolar\":[{\"marker\":{\"line\":{\"color\":\"#E5ECF6\",\"width\":0.5},\"pattern\":{\"fillmode\":\"overlay\",\"size\":10,\"solidity\":0.2}},\"type\":\"barpolar\"}],\"carpet\":[{\"aaxis\":{\"endlinecolor\":\"#2a3f5f\",\"gridcolor\":\"white\",\"linecolor\":\"white\",\"minorgridcolor\":\"white\",\"startlinecolor\":\"#2a3f5f\"},\"baxis\":{\"endlinecolor\":\"#2a3f5f\",\"gridcolor\":\"white\",\"linecolor\":\"white\",\"minorgridcolor\":\"white\",\"startlinecolor\":\"#2a3f5f\"},\"type\":\"carpet\"}],\"choropleth\":[{\"colorbar\":{\"outlinewidth\":0,\"ticks\":\"\"},\"type\":\"choropleth\"}],\"contour\":[{\"colorbar\":{\"outlinewidth\":0,\"ticks\":\"\"},\"colorscale\":[[0.0,\"#0d0887\"],[0.1111111111111111,\"#46039f\"],[0.2222222222222222,\"#7201a8\"],[0.3333333333333333,\"#9c179e\"],[0.4444444444444444,\"#bd3786\"],[0.5555555555555556,\"#d8576b\"],[0.6666666666666666,\"#ed7953\"],[0.7777777777777778,\"#fb9f3a\"],[0.8888888888888888,\"#fdca26\"],[1.0,\"#f0f921\"]],\"type\":\"contour\"}],\"contourcarpet\":[{\"colorbar\":{\"outlinewidth\":0,\"ticks\":\"\"},\"type\":\"contourcarpet\"}],\"heatmap\":[{\"colorbar\":{\"outlinewidth\":0,\"ticks\":\"\"},\"colorscale\":[[0.0,\"#0d0887\"],[0.1111111111111111,\"#46039f\"],[0.2222222222222222,\"#7201a8\"],[0.3333333333333333,\"#9c179e\"],[0.4444444444444444,\"#bd3786\"],[0.5555555555555556,\"#d8576b\"],[0.6666666666666666,\"#ed7953\"],[0.7777777777777778,\"#fb9f3a\"],[0.8888888888888888,\"#fdca26\"],[1.0,\"#f0f921\"]],\"type\":\"heatmap\"}],\"heatmapgl\":[{\"colorbar\":{\"outlinewidth\":0,\"ticks\":\"\"},\"colorscale\":[[0.0,\"#0d0887\"],[0.1111111111111111,\"#46039f\"],[0.2222222222222222,\"#7201a8\"],[0.3333333333333333,\"#9c179e\"],[0.4444444444444444,\"#bd3786\"],[0.5555555555555556,\"#d8576b\"],[0.6666666666666666,\"#ed7953\"],[0.7777777777777778,\"#fb9f3a\"],[0.8888888888888888,\"#fdca26\"],[1.0,\"#f0f921\"]],\"type\":\"heatmapgl\"}],\"histogram\":[{\"marker\":{\"pattern\":{\"fillmode\":\"overlay\",\"size\":10,\"solidity\":0.2}},\"type\":\"histogram\"}],\"histogram2d\":[{\"colorbar\":{\"outlinewidth\":0,\"ticks\":\"\"},\"colorscale\":[[0.0,\"#0d0887\"],[0.1111111111111111,\"#46039f\"],[0.2222222222222222,\"#7201a8\"],[0.3333333333333333,\"#9c179e\"],[0.4444444444444444,\"#bd3786\"],[0.5555555555555556,\"#d8576b\"],[0.6666666666666666,\"#ed7953\"],[0.7777777777777778,\"#fb9f3a\"],[0.8888888888888888,\"#fdca26\"],[1.0,\"#f0f921\"]],\"type\":\"histogram2d\"}],\"histogram2dcontour\":[{\"colorbar\":{\"outlinewidth\":0,\"ticks\":\"\"},\"colorscale\":[[0.0,\"#0d0887\"],[0.1111111111111111,\"#46039f\"],[0.2222222222222222,\"#7201a8\"],[0.3333333333333333,\"#9c179e\"],[0.4444444444444444,\"#bd3786\"],[0.5555555555555556,\"#d8576b\"],[0.6666666666666666,\"#ed7953\"],[0.7777777777777778,\"#fb9f3a\"],[0.8888888888888888,\"#fdca26\"],[1.0,\"#f0f921\"]],\"type\":\"histogram2dcontour\"}],\"mesh3d\":[{\"colorbar\":{\"outlinewidth\":0,\"ticks\":\"\"},\"type\":\"mesh3d\"}],\"parcoords\":[{\"line\":{\"colorbar\":{\"outlinewidth\":0,\"ticks\":\"\"}},\"type\":\"parcoords\"}],\"pie\":[{\"automargin\":true,\"type\":\"pie\"}],\"scatter\":[{\"marker\":{\"colorbar\":{\"outlinewidth\":0,\"ticks\":\"\"}},\"type\":\"scatter\"}],\"scatter3d\":[{\"line\":{\"colorbar\":{\"outlinewidth\":0,\"ticks\":\"\"}},\"marker\":{\"colorbar\":{\"outlinewidth\":0,\"ticks\":\"\"}},\"type\":\"scatter3d\"}],\"scattercarpet\":[{\"marker\":{\"colorbar\":{\"outlinewidth\":0,\"ticks\":\"\"}},\"type\":\"scattercarpet\"}],\"scattergeo\":[{\"marker\":{\"colorbar\":{\"outlinewidth\":0,\"ticks\":\"\"}},\"type\":\"scattergeo\"}],\"scattergl\":[{\"marker\":{\"colorbar\":{\"outlinewidth\":0,\"ticks\":\"\"}},\"type\":\"scattergl\"}],\"scattermapbox\":[{\"marker\":{\"colorbar\":{\"outlinewidth\":0,\"ticks\":\"\"}},\"type\":\"scattermapbox\"}],\"scatterpolar\":[{\"marker\":{\"colorbar\":{\"outlinewidth\":0,\"ticks\":\"\"}},\"type\":\"scatterpolar\"}],\"scatterpolargl\":[{\"marker\":{\"colorbar\":{\"outlinewidth\":0,\"ticks\":\"\"}},\"type\":\"scatterpolargl\"}],\"scatterternary\":[{\"marker\":{\"colorbar\":{\"outlinewidth\":0,\"ticks\":\"\"}},\"type\":\"scatterternary\"}],\"surface\":[{\"colorbar\":{\"outlinewidth\":0,\"ticks\":\"\"},\"colorscale\":[[0.0,\"#0d0887\"],[0.1111111111111111,\"#46039f\"],[0.2222222222222222,\"#7201a8\"],[0.3333333333333333,\"#9c179e\"],[0.4444444444444444,\"#bd3786\"],[0.5555555555555556,\"#d8576b\"],[0.6666666666666666,\"#ed7953\"],[0.7777777777777778,\"#fb9f3a\"],[0.8888888888888888,\"#fdca26\"],[1.0,\"#f0f921\"]],\"type\":\"surface\"}],\"table\":[{\"cells\":{\"fill\":{\"color\":\"#EBF0F8\"},\"line\":{\"color\":\"white\"}},\"header\":{\"fill\":{\"color\":\"#C8D4E3\"},\"line\":{\"color\":\"white\"}},\"type\":\"table\"}]},\"layout\":{\"annotationdefaults\":{\"arrowcolor\":\"#2a3f5f\",\"arrowhead\":0,\"arrowwidth\":1},\"autotypenumbers\":\"strict\",\"coloraxis\":{\"colorbar\":{\"outlinewidth\":0,\"ticks\":\"\"}},\"colorscale\":{\"diverging\":[[0,\"#8e0152\"],[0.1,\"#c51b7d\"],[0.2,\"#de77ae\"],[0.3,\"#f1b6da\"],[0.4,\"#fde0ef\"],[0.5,\"#f7f7f7\"],[0.6,\"#e6f5d0\"],[0.7,\"#b8e186\"],[0.8,\"#7fbc41\"],[0.9,\"#4d9221\"],[1,\"#276419\"]],\"sequential\":[[0.0,\"#0d0887\"],[0.1111111111111111,\"#46039f\"],[0.2222222222222222,\"#7201a8\"],[0.3333333333333333,\"#9c179e\"],[0.4444444444444444,\"#bd3786\"],[0.5555555555555556,\"#d8576b\"],[0.6666666666666666,\"#ed7953\"],[0.7777777777777778,\"#fb9f3a\"],[0.8888888888888888,\"#fdca26\"],[1.0,\"#f0f921\"]],\"sequentialminus\":[[0.0,\"#0d0887\"],[0.1111111111111111,\"#46039f\"],[0.2222222222222222,\"#7201a8\"],[0.3333333333333333,\"#9c179e\"],[0.4444444444444444,\"#bd3786\"],[0.5555555555555556,\"#d8576b\"],[0.6666666666666666,\"#ed7953\"],[0.7777777777777778,\"#fb9f3a\"],[0.8888888888888888,\"#fdca26\"],[1.0,\"#f0f921\"]]},\"colorway\":[\"#636efa\",\"#EF553B\",\"#00cc96\",\"#ab63fa\",\"#FFA15A\",\"#19d3f3\",\"#FF6692\",\"#B6E880\",\"#FF97FF\",\"#FECB52\"],\"font\":{\"color\":\"#2a3f5f\"},\"geo\":{\"bgcolor\":\"white\",\"lakecolor\":\"white\",\"landcolor\":\"#E5ECF6\",\"showlakes\":true,\"showland\":true,\"subunitcolor\":\"white\"},\"hoverlabel\":{\"align\":\"left\"},\"hovermode\":\"closest\",\"mapbox\":{\"style\":\"light\"},\"paper_bgcolor\":\"white\",\"plot_bgcolor\":\"#E5ECF6\",\"polar\":{\"angularaxis\":{\"gridcolor\":\"white\",\"linecolor\":\"white\",\"ticks\":\"\"},\"bgcolor\":\"#E5ECF6\",\"radialaxis\":{\"gridcolor\":\"white\",\"linecolor\":\"white\",\"ticks\":\"\"}},\"scene\":{\"xaxis\":{\"backgroundcolor\":\"#E5ECF6\",\"gridcolor\":\"white\",\"gridwidth\":2,\"linecolor\":\"white\",\"showbackground\":true,\"ticks\":\"\",\"zerolinecolor\":\"white\"},\"yaxis\":{\"backgroundcolor\":\"#E5ECF6\",\"gridcolor\":\"white\",\"gridwidth\":2,\"linecolor\":\"white\",\"showbackground\":true,\"ticks\":\"\",\"zerolinecolor\":\"white\"},\"zaxis\":{\"backgroundcolor\":\"#E5ECF6\",\"gridcolor\":\"white\",\"gridwidth\":2,\"linecolor\":\"white\",\"showbackground\":true,\"ticks\":\"\",\"zerolinecolor\":\"white\"}},\"shapedefaults\":{\"line\":{\"color\":\"#2a3f5f\"}},\"ternary\":{\"aaxis\":{\"gridcolor\":\"white\",\"linecolor\":\"white\",\"ticks\":\"\"},\"baxis\":{\"gridcolor\":\"white\",\"linecolor\":\"white\",\"ticks\":\"\"},\"bgcolor\":\"#E5ECF6\",\"caxis\":{\"gridcolor\":\"white\",\"linecolor\":\"white\",\"ticks\":\"\"}},\"title\":{\"x\":0.05},\"xaxis\":{\"automargin\":true,\"gridcolor\":\"white\",\"linecolor\":\"white\",\"ticks\":\"\",\"title\":{\"standoff\":15},\"zerolinecolor\":\"white\",\"zerolinewidth\":2},\"yaxis\":{\"automargin\":true,\"gridcolor\":\"white\",\"linecolor\":\"white\",\"ticks\":\"\",\"title\":{\"standoff\":15},\"zerolinecolor\":\"white\",\"zerolinewidth\":2}}},\"xaxis\":{\"title\":{\"text\":\"Date/Time\"}},\"yaxis\":{\"title\":{\"text\":\"Parts Per Million\"}},\"title\":{\"text\":\"MQ7 Sensor Data vs Predicted Values against Time\",\"x\":0.5,\"xanchor\":\"center\",\"yanchor\":\"top\"}},                        {\"responsive\": true}                    ).then(function(){\n",
       "                            \n",
       "var gd = document.getElementById('5041c8c8-69ad-4b02-b57a-94cbc3bf7ed1');\n",
       "var x = new MutationObserver(function (mutations, observer) {{\n",
       "        var display = window.getComputedStyle(gd).display;\n",
       "        if (!display || display === 'none') {{\n",
       "            console.log([gd, 'removed!']);\n",
       "            Plotly.purge(gd);\n",
       "            observer.disconnect();\n",
       "        }}\n",
       "}});\n",
       "\n",
       "// Listen for the removal of the full notebook cells\n",
       "var notebookContainer = gd.closest('#notebook-container');\n",
       "if (notebookContainer) {{\n",
       "    x.observe(notebookContainer, {childList: true});\n",
       "}}\n",
       "\n",
       "// Listen for the clearing of the current output cell\n",
       "var outputEl = gd.closest('.output');\n",
       "if (outputEl) {{\n",
       "    x.observe(outputEl, {childList: true});\n",
       "}}\n",
       "\n",
       "                        })                };                });            </script>        </div>"
      ]
     },
     "metadata": {},
     "output_type": "display_data"
    }
   ],
   "source": [
    "fig = go.Figure()\n",
    "fig.add_trace(go.Scatter(x=df_mq7_final.index, y=df_mq7_final.mq7,\n",
    "                    mode='lines',\n",
    "                    name='Actual'))\n",
    "fig.add_trace(go.Scatter(x=df_mq7_final.index, y=df_mq7_final.mq7_Predicted,\n",
    "                    mode='lines',\n",
    "                    name='Predicted'))\n",
    "fig.update_xaxes(title_text='Date/Time')\n",
    "fig.update_yaxes(title_text=\"Parts Per Million\")\n",
    "fig.update_layout(\n",
    "    title={\n",
    "        'text': \"MQ7 Sensor Data vs Predicted Values against Time\",\n",
    "        'x': 0.5,\n",
    "        'xanchor': 'center',\n",
    "        'yanchor': 'top'\n",
    "    })\n",
    "fig.show()"
   ]
  },
  {
   "cell_type": "code",
   "execution_count": 35,
   "id": "54c507a3",
   "metadata": {},
   "outputs": [
    {
     "name": "stderr",
     "output_type": "stream",
     "text": [
      "/tmp/ipykernel_18894/3739446238.py:4: SettingWithCopyWarning:\n",
      "\n",
      "\n",
      "A value is trying to be set on a copy of a slice from a DataFrame.\n",
      "Try using .loc[row_indexer,col_indexer] = value instead\n",
      "\n",
      "See the caveats in the documentation: https://pandas.pydata.org/pandas-docs/stable/user_guide/indexing.html#returning-a-view-versus-a-copy\n",
      "\n"
     ]
    },
    {
     "data": {
      "text/html": [
       "<div>\n",
       "<style scoped>\n",
       "    .dataframe tbody tr th:only-of-type {\n",
       "        vertical-align: middle;\n",
       "    }\n",
       "\n",
       "    .dataframe tbody tr th {\n",
       "        vertical-align: top;\n",
       "    }\n",
       "\n",
       "    .dataframe thead th {\n",
       "        text-align: right;\n",
       "    }\n",
       "</style>\n",
       "<table border=\"1\" class=\"dataframe\">\n",
       "  <thead>\n",
       "    <tr style=\"text-align: right;\">\n",
       "      <th></th>\n",
       "      <th>mq7</th>\n",
       "      <th>mq135</th>\n",
       "      <th>temperature</th>\n",
       "      <th>humidity</th>\n",
       "      <th>mq135_Predicted</th>\n",
       "    </tr>\n",
       "    <tr>\n",
       "      <th>timestamp</th>\n",
       "      <th></th>\n",
       "      <th></th>\n",
       "      <th></th>\n",
       "      <th></th>\n",
       "      <th></th>\n",
       "    </tr>\n",
       "  </thead>\n",
       "  <tbody>\n",
       "    <tr>\n",
       "      <th>2022-01-02 18:35:22+03:00</th>\n",
       "      <td>69.0</td>\n",
       "      <td>35.0</td>\n",
       "      <td>24.6</td>\n",
       "      <td>62.1</td>\n",
       "      <td>39.500000</td>\n",
       "    </tr>\n",
       "    <tr>\n",
       "      <th>2022-01-02 18:51:25+03:00</th>\n",
       "      <td>72.0</td>\n",
       "      <td>36.0</td>\n",
       "      <td>24.3</td>\n",
       "      <td>64.1</td>\n",
       "      <td>38.400000</td>\n",
       "    </tr>\n",
       "    <tr>\n",
       "      <th>2022-01-02 18:59:30+03:00</th>\n",
       "      <td>61.0</td>\n",
       "      <td>33.0</td>\n",
       "      <td>25.7</td>\n",
       "      <td>56.0</td>\n",
       "      <td>40.500000</td>\n",
       "    </tr>\n",
       "    <tr>\n",
       "      <th>2022-01-02 19:14:23+03:00</th>\n",
       "      <td>78.0</td>\n",
       "      <td>38.0</td>\n",
       "      <td>23.7</td>\n",
       "      <td>68.2</td>\n",
       "      <td>39.800000</td>\n",
       "    </tr>\n",
       "    <tr>\n",
       "      <th>2022-01-02 19:19:53+03:00</th>\n",
       "      <td>60.0</td>\n",
       "      <td>32.0</td>\n",
       "      <td>25.5</td>\n",
       "      <td>56.0</td>\n",
       "      <td>39.000000</td>\n",
       "    </tr>\n",
       "    <tr>\n",
       "      <th>...</th>\n",
       "      <td>...</td>\n",
       "      <td>...</td>\n",
       "      <td>...</td>\n",
       "      <td>...</td>\n",
       "      <td>...</td>\n",
       "    </tr>\n",
       "    <tr>\n",
       "      <th>2022-01-03 05:02:50+03:00</th>\n",
       "      <td>55.0</td>\n",
       "      <td>32.0</td>\n",
       "      <td>24.6</td>\n",
       "      <td>47.0</td>\n",
       "      <td>37.400000</td>\n",
       "    </tr>\n",
       "    <tr>\n",
       "      <th>2022-01-03 05:07:57+03:00</th>\n",
       "      <td>60.0</td>\n",
       "      <td>33.0</td>\n",
       "      <td>24.2</td>\n",
       "      <td>48.0</td>\n",
       "      <td>34.833333</td>\n",
       "    </tr>\n",
       "    <tr>\n",
       "      <th>2022-01-03 05:23:17+03:00</th>\n",
       "      <td>62.0</td>\n",
       "      <td>33.0</td>\n",
       "      <td>23.8</td>\n",
       "      <td>51.0</td>\n",
       "      <td>30.250000</td>\n",
       "    </tr>\n",
       "    <tr>\n",
       "      <th>2022-01-03 05:38:36+03:00</th>\n",
       "      <td>58.0</td>\n",
       "      <td>31.0</td>\n",
       "      <td>22.7</td>\n",
       "      <td>56.0</td>\n",
       "      <td>29.500000</td>\n",
       "    </tr>\n",
       "    <tr>\n",
       "      <th>2022-01-03 05:43:44+03:00</th>\n",
       "      <td>57.0</td>\n",
       "      <td>32.0</td>\n",
       "      <td>22.1</td>\n",
       "      <td>56.0</td>\n",
       "      <td>32.200000</td>\n",
       "    </tr>\n",
       "  </tbody>\n",
       "</table>\n",
       "<p>65 rows × 5 columns</p>\n",
       "</div>"
      ],
      "text/plain": [
       "                            mq7  mq135  temperature  humidity  mq135_Predicted\n",
       "timestamp                                                                     \n",
       "2022-01-02 18:35:22+03:00  69.0   35.0         24.6      62.1        39.500000\n",
       "2022-01-02 18:51:25+03:00  72.0   36.0         24.3      64.1        38.400000\n",
       "2022-01-02 18:59:30+03:00  61.0   33.0         25.7      56.0        40.500000\n",
       "2022-01-02 19:14:23+03:00  78.0   38.0         23.7      68.2        39.800000\n",
       "2022-01-02 19:19:53+03:00  60.0   32.0         25.5      56.0        39.000000\n",
       "...                         ...    ...          ...       ...              ...\n",
       "2022-01-03 05:02:50+03:00  55.0   32.0         24.6      47.0        37.400000\n",
       "2022-01-03 05:07:57+03:00  60.0   33.0         24.2      48.0        34.833333\n",
       "2022-01-03 05:23:17+03:00  62.0   33.0         23.8      51.0        30.250000\n",
       "2022-01-03 05:38:36+03:00  58.0   31.0         22.7      56.0        29.500000\n",
       "2022-01-03 05:43:44+03:00  57.0   32.0         22.1      56.0        32.200000\n",
       "\n",
       "[65 rows x 5 columns]"
      ]
     },
     "execution_count": 35,
     "metadata": {},
     "output_type": "execute_result"
    }
   ],
   "source": [
    "df_mq135 = pd.concat([pd.DataFrame(mq135_preds[:,1]), pd.DataFrame(x_test[:,1:][window_length:])], axis=1)\n",
    "reverse_transform1 = scaler.inverse_transform(df_mq135)\n",
    "df_mq135_final = raw_df[df_mq135.shape[0]*-1:]\n",
    "df_mq135_final[\"mq135_Predicted\"] = reverse_transform1[:,1]\n",
    "df_mq135_final"
   ]
  },
  {
   "cell_type": "code",
   "execution_count": 36,
   "id": "7121a7a1",
   "metadata": {},
   "outputs": [
    {
     "data": {
      "application/vnd.plotly.v1+json": {
       "config": {
        "plotlyServerURL": "https://plot.ly"
       },
       "data": [
        {
         "mode": "lines",
         "name": "Actual",
         "type": "scatter",
         "x": [
          "2022-01-02T18:35:22+03:00",
          "2022-01-02T18:51:25+03:00",
          "2022-01-02T18:59:30+03:00",
          "2022-01-02T19:14:23+03:00",
          "2022-01-02T19:19:53+03:00",
          "2022-01-02T19:25:07+03:00",
          "2022-01-02T19:40:36+03:00",
          "2022-01-02T19:52:13+03:00",
          "2022-01-02T19:55:47+03:00",
          "2022-01-02T20:00:55+03:00",
          "2022-01-02T20:16:15+03:00",
          "2022-01-02T20:26:40+03:00",
          "2022-01-02T20:36:34+03:00",
          "2022-01-02T20:43:27+03:00",
          "2022-01-02T20:58:54+03:00",
          "2022-01-02T21:14:17+03:00",
          "2022-01-02T21:30:52+03:00",
          "2022-01-02T21:39:52+03:00",
          "2022-01-02T21:55:16+03:00",
          "2022-01-02T22:10:35+03:00",
          "2022-01-02T22:15:44+03:00",
          "2022-01-02T22:31:04+03:00",
          "2022-01-02T22:36:14+03:00",
          "2022-01-02T22:41:22+03:00",
          "2022-01-02T22:46:34+03:00",
          "2022-01-02T22:56:45+03:00",
          "2022-01-02T23:12:05+03:00",
          "2022-01-02T23:27:23+03:00",
          "2022-01-02T23:32:33+03:00",
          "2022-01-02T23:44:49+03:00",
          "2022-01-03T00:00:07+03:00",
          "2022-01-03T00:16:26+03:00",
          "2022-01-03T00:27:03+03:00",
          "2022-01-03T00:33:41+03:00",
          "2022-01-03T00:38:50+03:00",
          "2022-01-03T00:49:59+03:00",
          "2022-01-03T00:59:12+03:00",
          "2022-01-03T01:09:22+03:00",
          "2022-01-03T01:20:34+03:00",
          "2022-01-03T01:34:48+03:00",
          "2022-01-03T01:47:30+03:00",
          "2022-01-03T01:58:26+03:00",
          "2022-01-03T02:09:13+03:00",
          "2022-01-03T02:10:44+03:00",
          "2022-01-03T02:22:44+03:00",
          "2022-01-03T02:36:46+03:00",
          "2022-01-03T02:47:48+03:00",
          "2022-01-03T02:56:32+03:00",
          "2022-01-03T03:01:41+03:00",
          "2022-01-03T03:06:49+03:00",
          "2022-01-03T03:11:57+03:00",
          "2022-01-03T03:22:15+03:00",
          "2022-01-03T03:27:23+03:00",
          "2022-01-03T03:37:37+03:00",
          "2022-01-03T03:48:05+03:00",
          "2022-01-03T03:53:19+03:00",
          "2022-01-03T04:04:40+03:00",
          "2022-01-03T04:21:12+03:00",
          "2022-01-03T04:29:07+03:00",
          "2022-01-03T04:44:27+03:00",
          "2022-01-03T05:02:50+03:00",
          "2022-01-03T05:07:57+03:00",
          "2022-01-03T05:23:17+03:00",
          "2022-01-03T05:38:36+03:00",
          "2022-01-03T05:43:44+03:00"
         ],
         "y": [
          35,
          36,
          33,
          38,
          32,
          32,
          33,
          32,
          34,
          32,
          33,
          32,
          33,
          36,
          33,
          32,
          34,
          35,
          34,
          34,
          35,
          38,
          37,
          35,
          35,
          34,
          35,
          34,
          34,
          33,
          33,
          33,
          34,
          32,
          32,
          32,
          32,
          32,
          35,
          40,
          40,
          40,
          40,
          31,
          34,
          36,
          38,
          30,
          31,
          30,
          30,
          30,
          30,
          30,
          31,
          30,
          30,
          30,
          28,
          30,
          32,
          33,
          33,
          31,
          32
         ]
        },
        {
         "mode": "lines",
         "name": "Predicted",
         "type": "scatter",
         "x": [
          "2022-01-02T18:35:22+03:00",
          "2022-01-02T18:51:25+03:00",
          "2022-01-02T18:59:30+03:00",
          "2022-01-02T19:14:23+03:00",
          "2022-01-02T19:19:53+03:00",
          "2022-01-02T19:25:07+03:00",
          "2022-01-02T19:40:36+03:00",
          "2022-01-02T19:52:13+03:00",
          "2022-01-02T19:55:47+03:00",
          "2022-01-02T20:00:55+03:00",
          "2022-01-02T20:16:15+03:00",
          "2022-01-02T20:26:40+03:00",
          "2022-01-02T20:36:34+03:00",
          "2022-01-02T20:43:27+03:00",
          "2022-01-02T20:58:54+03:00",
          "2022-01-02T21:14:17+03:00",
          "2022-01-02T21:30:52+03:00",
          "2022-01-02T21:39:52+03:00",
          "2022-01-02T21:55:16+03:00",
          "2022-01-02T22:10:35+03:00",
          "2022-01-02T22:15:44+03:00",
          "2022-01-02T22:31:04+03:00",
          "2022-01-02T22:36:14+03:00",
          "2022-01-02T22:41:22+03:00",
          "2022-01-02T22:46:34+03:00",
          "2022-01-02T22:56:45+03:00",
          "2022-01-02T23:12:05+03:00",
          "2022-01-02T23:27:23+03:00",
          "2022-01-02T23:32:33+03:00",
          "2022-01-02T23:44:49+03:00",
          "2022-01-03T00:00:07+03:00",
          "2022-01-03T00:16:26+03:00",
          "2022-01-03T00:27:03+03:00",
          "2022-01-03T00:33:41+03:00",
          "2022-01-03T00:38:50+03:00",
          "2022-01-03T00:49:59+03:00",
          "2022-01-03T00:59:12+03:00",
          "2022-01-03T01:09:22+03:00",
          "2022-01-03T01:20:34+03:00",
          "2022-01-03T01:34:48+03:00",
          "2022-01-03T01:47:30+03:00",
          "2022-01-03T01:58:26+03:00",
          "2022-01-03T02:09:13+03:00",
          "2022-01-03T02:10:44+03:00",
          "2022-01-03T02:22:44+03:00",
          "2022-01-03T02:36:46+03:00",
          "2022-01-03T02:47:48+03:00",
          "2022-01-03T02:56:32+03:00",
          "2022-01-03T03:01:41+03:00",
          "2022-01-03T03:06:49+03:00",
          "2022-01-03T03:11:57+03:00",
          "2022-01-03T03:22:15+03:00",
          "2022-01-03T03:27:23+03:00",
          "2022-01-03T03:37:37+03:00",
          "2022-01-03T03:48:05+03:00",
          "2022-01-03T03:53:19+03:00",
          "2022-01-03T04:04:40+03:00",
          "2022-01-03T04:21:12+03:00",
          "2022-01-03T04:29:07+03:00",
          "2022-01-03T04:44:27+03:00",
          "2022-01-03T05:02:50+03:00",
          "2022-01-03T05:07:57+03:00",
          "2022-01-03T05:23:17+03:00",
          "2022-01-03T05:38:36+03:00",
          "2022-01-03T05:43:44+03:00"
         ],
         "y": [
          39.5,
          38.4,
          40.5,
          39.8,
          39,
          40,
          40,
          40,
          40,
          41,
          43.8,
          43.2,
          41,
          39.5,
          40.6,
          39.5,
          37.8,
          37,
          42,
          47,
          57.2,
          49.4,
          42.4,
          46.5,
          42,
          40.5,
          39.4,
          40.4,
          41.5,
          42,
          41.2,
          39.4,
          39.5,
          41.2,
          43.5,
          43,
          41.25,
          39.4,
          38.75,
          39.5,
          37,
          35.6,
          37,
          42.4,
          65.25,
          62.20000000000001,
          50,
          40.25,
          38.4,
          36,
          38.75,
          39.5,
          38.4,
          41.666666666666664,
          33.5,
          33.166666666666664,
          33.75,
          35.42857142857143,
          34,
          32.57142857142857,
          37.4,
          34.833333333333336,
          30.25,
          29.5,
          32.2
         ]
        }
       ],
       "layout": {
        "template": {
         "data": {
          "bar": [
           {
            "error_x": {
             "color": "#2a3f5f"
            },
            "error_y": {
             "color": "#2a3f5f"
            },
            "marker": {
             "line": {
              "color": "#E5ECF6",
              "width": 0.5
             },
             "pattern": {
              "fillmode": "overlay",
              "size": 10,
              "solidity": 0.2
             }
            },
            "type": "bar"
           }
          ],
          "barpolar": [
           {
            "marker": {
             "line": {
              "color": "#E5ECF6",
              "width": 0.5
             },
             "pattern": {
              "fillmode": "overlay",
              "size": 10,
              "solidity": 0.2
             }
            },
            "type": "barpolar"
           }
          ],
          "carpet": [
           {
            "aaxis": {
             "endlinecolor": "#2a3f5f",
             "gridcolor": "white",
             "linecolor": "white",
             "minorgridcolor": "white",
             "startlinecolor": "#2a3f5f"
            },
            "baxis": {
             "endlinecolor": "#2a3f5f",
             "gridcolor": "white",
             "linecolor": "white",
             "minorgridcolor": "white",
             "startlinecolor": "#2a3f5f"
            },
            "type": "carpet"
           }
          ],
          "choropleth": [
           {
            "colorbar": {
             "outlinewidth": 0,
             "ticks": ""
            },
            "type": "choropleth"
           }
          ],
          "contour": [
           {
            "colorbar": {
             "outlinewidth": 0,
             "ticks": ""
            },
            "colorscale": [
             [
              0,
              "#0d0887"
             ],
             [
              0.1111111111111111,
              "#46039f"
             ],
             [
              0.2222222222222222,
              "#7201a8"
             ],
             [
              0.3333333333333333,
              "#9c179e"
             ],
             [
              0.4444444444444444,
              "#bd3786"
             ],
             [
              0.5555555555555556,
              "#d8576b"
             ],
             [
              0.6666666666666666,
              "#ed7953"
             ],
             [
              0.7777777777777778,
              "#fb9f3a"
             ],
             [
              0.8888888888888888,
              "#fdca26"
             ],
             [
              1,
              "#f0f921"
             ]
            ],
            "type": "contour"
           }
          ],
          "contourcarpet": [
           {
            "colorbar": {
             "outlinewidth": 0,
             "ticks": ""
            },
            "type": "contourcarpet"
           }
          ],
          "heatmap": [
           {
            "colorbar": {
             "outlinewidth": 0,
             "ticks": ""
            },
            "colorscale": [
             [
              0,
              "#0d0887"
             ],
             [
              0.1111111111111111,
              "#46039f"
             ],
             [
              0.2222222222222222,
              "#7201a8"
             ],
             [
              0.3333333333333333,
              "#9c179e"
             ],
             [
              0.4444444444444444,
              "#bd3786"
             ],
             [
              0.5555555555555556,
              "#d8576b"
             ],
             [
              0.6666666666666666,
              "#ed7953"
             ],
             [
              0.7777777777777778,
              "#fb9f3a"
             ],
             [
              0.8888888888888888,
              "#fdca26"
             ],
             [
              1,
              "#f0f921"
             ]
            ],
            "type": "heatmap"
           }
          ],
          "heatmapgl": [
           {
            "colorbar": {
             "outlinewidth": 0,
             "ticks": ""
            },
            "colorscale": [
             [
              0,
              "#0d0887"
             ],
             [
              0.1111111111111111,
              "#46039f"
             ],
             [
              0.2222222222222222,
              "#7201a8"
             ],
             [
              0.3333333333333333,
              "#9c179e"
             ],
             [
              0.4444444444444444,
              "#bd3786"
             ],
             [
              0.5555555555555556,
              "#d8576b"
             ],
             [
              0.6666666666666666,
              "#ed7953"
             ],
             [
              0.7777777777777778,
              "#fb9f3a"
             ],
             [
              0.8888888888888888,
              "#fdca26"
             ],
             [
              1,
              "#f0f921"
             ]
            ],
            "type": "heatmapgl"
           }
          ],
          "histogram": [
           {
            "marker": {
             "pattern": {
              "fillmode": "overlay",
              "size": 10,
              "solidity": 0.2
             }
            },
            "type": "histogram"
           }
          ],
          "histogram2d": [
           {
            "colorbar": {
             "outlinewidth": 0,
             "ticks": ""
            },
            "colorscale": [
             [
              0,
              "#0d0887"
             ],
             [
              0.1111111111111111,
              "#46039f"
             ],
             [
              0.2222222222222222,
              "#7201a8"
             ],
             [
              0.3333333333333333,
              "#9c179e"
             ],
             [
              0.4444444444444444,
              "#bd3786"
             ],
             [
              0.5555555555555556,
              "#d8576b"
             ],
             [
              0.6666666666666666,
              "#ed7953"
             ],
             [
              0.7777777777777778,
              "#fb9f3a"
             ],
             [
              0.8888888888888888,
              "#fdca26"
             ],
             [
              1,
              "#f0f921"
             ]
            ],
            "type": "histogram2d"
           }
          ],
          "histogram2dcontour": [
           {
            "colorbar": {
             "outlinewidth": 0,
             "ticks": ""
            },
            "colorscale": [
             [
              0,
              "#0d0887"
             ],
             [
              0.1111111111111111,
              "#46039f"
             ],
             [
              0.2222222222222222,
              "#7201a8"
             ],
             [
              0.3333333333333333,
              "#9c179e"
             ],
             [
              0.4444444444444444,
              "#bd3786"
             ],
             [
              0.5555555555555556,
              "#d8576b"
             ],
             [
              0.6666666666666666,
              "#ed7953"
             ],
             [
              0.7777777777777778,
              "#fb9f3a"
             ],
             [
              0.8888888888888888,
              "#fdca26"
             ],
             [
              1,
              "#f0f921"
             ]
            ],
            "type": "histogram2dcontour"
           }
          ],
          "mesh3d": [
           {
            "colorbar": {
             "outlinewidth": 0,
             "ticks": ""
            },
            "type": "mesh3d"
           }
          ],
          "parcoords": [
           {
            "line": {
             "colorbar": {
              "outlinewidth": 0,
              "ticks": ""
             }
            },
            "type": "parcoords"
           }
          ],
          "pie": [
           {
            "automargin": true,
            "type": "pie"
           }
          ],
          "scatter": [
           {
            "marker": {
             "colorbar": {
              "outlinewidth": 0,
              "ticks": ""
             }
            },
            "type": "scatter"
           }
          ],
          "scatter3d": [
           {
            "line": {
             "colorbar": {
              "outlinewidth": 0,
              "ticks": ""
             }
            },
            "marker": {
             "colorbar": {
              "outlinewidth": 0,
              "ticks": ""
             }
            },
            "type": "scatter3d"
           }
          ],
          "scattercarpet": [
           {
            "marker": {
             "colorbar": {
              "outlinewidth": 0,
              "ticks": ""
             }
            },
            "type": "scattercarpet"
           }
          ],
          "scattergeo": [
           {
            "marker": {
             "colorbar": {
              "outlinewidth": 0,
              "ticks": ""
             }
            },
            "type": "scattergeo"
           }
          ],
          "scattergl": [
           {
            "marker": {
             "colorbar": {
              "outlinewidth": 0,
              "ticks": ""
             }
            },
            "type": "scattergl"
           }
          ],
          "scattermapbox": [
           {
            "marker": {
             "colorbar": {
              "outlinewidth": 0,
              "ticks": ""
             }
            },
            "type": "scattermapbox"
           }
          ],
          "scatterpolar": [
           {
            "marker": {
             "colorbar": {
              "outlinewidth": 0,
              "ticks": ""
             }
            },
            "type": "scatterpolar"
           }
          ],
          "scatterpolargl": [
           {
            "marker": {
             "colorbar": {
              "outlinewidth": 0,
              "ticks": ""
             }
            },
            "type": "scatterpolargl"
           }
          ],
          "scatterternary": [
           {
            "marker": {
             "colorbar": {
              "outlinewidth": 0,
              "ticks": ""
             }
            },
            "type": "scatterternary"
           }
          ],
          "surface": [
           {
            "colorbar": {
             "outlinewidth": 0,
             "ticks": ""
            },
            "colorscale": [
             [
              0,
              "#0d0887"
             ],
             [
              0.1111111111111111,
              "#46039f"
             ],
             [
              0.2222222222222222,
              "#7201a8"
             ],
             [
              0.3333333333333333,
              "#9c179e"
             ],
             [
              0.4444444444444444,
              "#bd3786"
             ],
             [
              0.5555555555555556,
              "#d8576b"
             ],
             [
              0.6666666666666666,
              "#ed7953"
             ],
             [
              0.7777777777777778,
              "#fb9f3a"
             ],
             [
              0.8888888888888888,
              "#fdca26"
             ],
             [
              1,
              "#f0f921"
             ]
            ],
            "type": "surface"
           }
          ],
          "table": [
           {
            "cells": {
             "fill": {
              "color": "#EBF0F8"
             },
             "line": {
              "color": "white"
             }
            },
            "header": {
             "fill": {
              "color": "#C8D4E3"
             },
             "line": {
              "color": "white"
             }
            },
            "type": "table"
           }
          ]
         },
         "layout": {
          "annotationdefaults": {
           "arrowcolor": "#2a3f5f",
           "arrowhead": 0,
           "arrowwidth": 1
          },
          "autotypenumbers": "strict",
          "coloraxis": {
           "colorbar": {
            "outlinewidth": 0,
            "ticks": ""
           }
          },
          "colorscale": {
           "diverging": [
            [
             0,
             "#8e0152"
            ],
            [
             0.1,
             "#c51b7d"
            ],
            [
             0.2,
             "#de77ae"
            ],
            [
             0.3,
             "#f1b6da"
            ],
            [
             0.4,
             "#fde0ef"
            ],
            [
             0.5,
             "#f7f7f7"
            ],
            [
             0.6,
             "#e6f5d0"
            ],
            [
             0.7,
             "#b8e186"
            ],
            [
             0.8,
             "#7fbc41"
            ],
            [
             0.9,
             "#4d9221"
            ],
            [
             1,
             "#276419"
            ]
           ],
           "sequential": [
            [
             0,
             "#0d0887"
            ],
            [
             0.1111111111111111,
             "#46039f"
            ],
            [
             0.2222222222222222,
             "#7201a8"
            ],
            [
             0.3333333333333333,
             "#9c179e"
            ],
            [
             0.4444444444444444,
             "#bd3786"
            ],
            [
             0.5555555555555556,
             "#d8576b"
            ],
            [
             0.6666666666666666,
             "#ed7953"
            ],
            [
             0.7777777777777778,
             "#fb9f3a"
            ],
            [
             0.8888888888888888,
             "#fdca26"
            ],
            [
             1,
             "#f0f921"
            ]
           ],
           "sequentialminus": [
            [
             0,
             "#0d0887"
            ],
            [
             0.1111111111111111,
             "#46039f"
            ],
            [
             0.2222222222222222,
             "#7201a8"
            ],
            [
             0.3333333333333333,
             "#9c179e"
            ],
            [
             0.4444444444444444,
             "#bd3786"
            ],
            [
             0.5555555555555556,
             "#d8576b"
            ],
            [
             0.6666666666666666,
             "#ed7953"
            ],
            [
             0.7777777777777778,
             "#fb9f3a"
            ],
            [
             0.8888888888888888,
             "#fdca26"
            ],
            [
             1,
             "#f0f921"
            ]
           ]
          },
          "colorway": [
           "#636efa",
           "#EF553B",
           "#00cc96",
           "#ab63fa",
           "#FFA15A",
           "#19d3f3",
           "#FF6692",
           "#B6E880",
           "#FF97FF",
           "#FECB52"
          ],
          "font": {
           "color": "#2a3f5f"
          },
          "geo": {
           "bgcolor": "white",
           "lakecolor": "white",
           "landcolor": "#E5ECF6",
           "showlakes": true,
           "showland": true,
           "subunitcolor": "white"
          },
          "hoverlabel": {
           "align": "left"
          },
          "hovermode": "closest",
          "mapbox": {
           "style": "light"
          },
          "paper_bgcolor": "white",
          "plot_bgcolor": "#E5ECF6",
          "polar": {
           "angularaxis": {
            "gridcolor": "white",
            "linecolor": "white",
            "ticks": ""
           },
           "bgcolor": "#E5ECF6",
           "radialaxis": {
            "gridcolor": "white",
            "linecolor": "white",
            "ticks": ""
           }
          },
          "scene": {
           "xaxis": {
            "backgroundcolor": "#E5ECF6",
            "gridcolor": "white",
            "gridwidth": 2,
            "linecolor": "white",
            "showbackground": true,
            "ticks": "",
            "zerolinecolor": "white"
           },
           "yaxis": {
            "backgroundcolor": "#E5ECF6",
            "gridcolor": "white",
            "gridwidth": 2,
            "linecolor": "white",
            "showbackground": true,
            "ticks": "",
            "zerolinecolor": "white"
           },
           "zaxis": {
            "backgroundcolor": "#E5ECF6",
            "gridcolor": "white",
            "gridwidth": 2,
            "linecolor": "white",
            "showbackground": true,
            "ticks": "",
            "zerolinecolor": "white"
           }
          },
          "shapedefaults": {
           "line": {
            "color": "#2a3f5f"
           }
          },
          "ternary": {
           "aaxis": {
            "gridcolor": "white",
            "linecolor": "white",
            "ticks": ""
           },
           "baxis": {
            "gridcolor": "white",
            "linecolor": "white",
            "ticks": ""
           },
           "bgcolor": "#E5ECF6",
           "caxis": {
            "gridcolor": "white",
            "linecolor": "white",
            "ticks": ""
           }
          },
          "title": {
           "x": 0.05
          },
          "xaxis": {
           "automargin": true,
           "gridcolor": "white",
           "linecolor": "white",
           "ticks": "",
           "title": {
            "standoff": 15
           },
           "zerolinecolor": "white",
           "zerolinewidth": 2
          },
          "yaxis": {
           "automargin": true,
           "gridcolor": "white",
           "linecolor": "white",
           "ticks": "",
           "title": {
            "standoff": 15
           },
           "zerolinecolor": "white",
           "zerolinewidth": 2
          }
         }
        },
        "title": {
         "text": "MQ135 Sensor Data vs Predicted Values against Time",
         "x": 0.5,
         "xanchor": "center",
         "yanchor": "top"
        },
        "xaxis": {
         "title": {
          "text": "Date/Time"
         }
        },
        "yaxis": {
         "title": {
          "text": "Parts Per Million"
         }
        }
       }
      },
      "text/html": [
       "<div>                            <div id=\"a62fae6a-fa2b-442b-a4c9-ded8d033620e\" class=\"plotly-graph-div\" style=\"height:525px; width:100%;\"></div>            <script type=\"text/javascript\">                require([\"plotly\"], function(Plotly) {                    window.PLOTLYENV=window.PLOTLYENV || {};                                    if (document.getElementById(\"a62fae6a-fa2b-442b-a4c9-ded8d033620e\")) {                    Plotly.newPlot(                        \"a62fae6a-fa2b-442b-a4c9-ded8d033620e\",                        [{\"mode\":\"lines\",\"name\":\"Actual\",\"x\":[\"2022-01-02T18:35:22+03:00\",\"2022-01-02T18:51:25+03:00\",\"2022-01-02T18:59:30+03:00\",\"2022-01-02T19:14:23+03:00\",\"2022-01-02T19:19:53+03:00\",\"2022-01-02T19:25:07+03:00\",\"2022-01-02T19:40:36+03:00\",\"2022-01-02T19:52:13+03:00\",\"2022-01-02T19:55:47+03:00\",\"2022-01-02T20:00:55+03:00\",\"2022-01-02T20:16:15+03:00\",\"2022-01-02T20:26:40+03:00\",\"2022-01-02T20:36:34+03:00\",\"2022-01-02T20:43:27+03:00\",\"2022-01-02T20:58:54+03:00\",\"2022-01-02T21:14:17+03:00\",\"2022-01-02T21:30:52+03:00\",\"2022-01-02T21:39:52+03:00\",\"2022-01-02T21:55:16+03:00\",\"2022-01-02T22:10:35+03:00\",\"2022-01-02T22:15:44+03:00\",\"2022-01-02T22:31:04+03:00\",\"2022-01-02T22:36:14+03:00\",\"2022-01-02T22:41:22+03:00\",\"2022-01-02T22:46:34+03:00\",\"2022-01-02T22:56:45+03:00\",\"2022-01-02T23:12:05+03:00\",\"2022-01-02T23:27:23+03:00\",\"2022-01-02T23:32:33+03:00\",\"2022-01-02T23:44:49+03:00\",\"2022-01-03T00:00:07+03:00\",\"2022-01-03T00:16:26+03:00\",\"2022-01-03T00:27:03+03:00\",\"2022-01-03T00:33:41+03:00\",\"2022-01-03T00:38:50+03:00\",\"2022-01-03T00:49:59+03:00\",\"2022-01-03T00:59:12+03:00\",\"2022-01-03T01:09:22+03:00\",\"2022-01-03T01:20:34+03:00\",\"2022-01-03T01:34:48+03:00\",\"2022-01-03T01:47:30+03:00\",\"2022-01-03T01:58:26+03:00\",\"2022-01-03T02:09:13+03:00\",\"2022-01-03T02:10:44+03:00\",\"2022-01-03T02:22:44+03:00\",\"2022-01-03T02:36:46+03:00\",\"2022-01-03T02:47:48+03:00\",\"2022-01-03T02:56:32+03:00\",\"2022-01-03T03:01:41+03:00\",\"2022-01-03T03:06:49+03:00\",\"2022-01-03T03:11:57+03:00\",\"2022-01-03T03:22:15+03:00\",\"2022-01-03T03:27:23+03:00\",\"2022-01-03T03:37:37+03:00\",\"2022-01-03T03:48:05+03:00\",\"2022-01-03T03:53:19+03:00\",\"2022-01-03T04:04:40+03:00\",\"2022-01-03T04:21:12+03:00\",\"2022-01-03T04:29:07+03:00\",\"2022-01-03T04:44:27+03:00\",\"2022-01-03T05:02:50+03:00\",\"2022-01-03T05:07:57+03:00\",\"2022-01-03T05:23:17+03:00\",\"2022-01-03T05:38:36+03:00\",\"2022-01-03T05:43:44+03:00\"],\"y\":[35.0,36.0,33.0,38.0,32.0,32.0,33.0,32.0,34.0,32.0,33.0,32.0,33.0,36.0,33.0,32.0,34.0,35.0,34.0,34.0,35.0,38.0,37.0,35.0,35.0,34.0,35.0,34.0,34.0,33.0,33.0,33.0,34.0,32.0,32.0,32.0,32.0,32.0,35.0,40.0,40.0,40.0,40.0,31.0,34.0,36.0,38.0,30.0,31.0,30.0,30.0,30.0,30.0,30.0,31.0,30.0,30.0,30.0,28.0,30.0,32.0,33.0,33.0,31.0,32.0],\"type\":\"scatter\"},{\"mode\":\"lines\",\"name\":\"Predicted\",\"x\":[\"2022-01-02T18:35:22+03:00\",\"2022-01-02T18:51:25+03:00\",\"2022-01-02T18:59:30+03:00\",\"2022-01-02T19:14:23+03:00\",\"2022-01-02T19:19:53+03:00\",\"2022-01-02T19:25:07+03:00\",\"2022-01-02T19:40:36+03:00\",\"2022-01-02T19:52:13+03:00\",\"2022-01-02T19:55:47+03:00\",\"2022-01-02T20:00:55+03:00\",\"2022-01-02T20:16:15+03:00\",\"2022-01-02T20:26:40+03:00\",\"2022-01-02T20:36:34+03:00\",\"2022-01-02T20:43:27+03:00\",\"2022-01-02T20:58:54+03:00\",\"2022-01-02T21:14:17+03:00\",\"2022-01-02T21:30:52+03:00\",\"2022-01-02T21:39:52+03:00\",\"2022-01-02T21:55:16+03:00\",\"2022-01-02T22:10:35+03:00\",\"2022-01-02T22:15:44+03:00\",\"2022-01-02T22:31:04+03:00\",\"2022-01-02T22:36:14+03:00\",\"2022-01-02T22:41:22+03:00\",\"2022-01-02T22:46:34+03:00\",\"2022-01-02T22:56:45+03:00\",\"2022-01-02T23:12:05+03:00\",\"2022-01-02T23:27:23+03:00\",\"2022-01-02T23:32:33+03:00\",\"2022-01-02T23:44:49+03:00\",\"2022-01-03T00:00:07+03:00\",\"2022-01-03T00:16:26+03:00\",\"2022-01-03T00:27:03+03:00\",\"2022-01-03T00:33:41+03:00\",\"2022-01-03T00:38:50+03:00\",\"2022-01-03T00:49:59+03:00\",\"2022-01-03T00:59:12+03:00\",\"2022-01-03T01:09:22+03:00\",\"2022-01-03T01:20:34+03:00\",\"2022-01-03T01:34:48+03:00\",\"2022-01-03T01:47:30+03:00\",\"2022-01-03T01:58:26+03:00\",\"2022-01-03T02:09:13+03:00\",\"2022-01-03T02:10:44+03:00\",\"2022-01-03T02:22:44+03:00\",\"2022-01-03T02:36:46+03:00\",\"2022-01-03T02:47:48+03:00\",\"2022-01-03T02:56:32+03:00\",\"2022-01-03T03:01:41+03:00\",\"2022-01-03T03:06:49+03:00\",\"2022-01-03T03:11:57+03:00\",\"2022-01-03T03:22:15+03:00\",\"2022-01-03T03:27:23+03:00\",\"2022-01-03T03:37:37+03:00\",\"2022-01-03T03:48:05+03:00\",\"2022-01-03T03:53:19+03:00\",\"2022-01-03T04:04:40+03:00\",\"2022-01-03T04:21:12+03:00\",\"2022-01-03T04:29:07+03:00\",\"2022-01-03T04:44:27+03:00\",\"2022-01-03T05:02:50+03:00\",\"2022-01-03T05:07:57+03:00\",\"2022-01-03T05:23:17+03:00\",\"2022-01-03T05:38:36+03:00\",\"2022-01-03T05:43:44+03:00\"],\"y\":[39.5,38.4,40.5,39.8,39.0,40.0,40.0,40.0,40.0,41.0,43.8,43.2,41.0,39.5,40.6,39.5,37.8,37.0,42.0,47.0,57.2,49.4,42.4,46.5,42.0,40.5,39.4,40.4,41.5,42.0,41.2,39.4,39.5,41.2,43.5,43.0,41.25,39.4,38.75,39.5,37.0,35.6,37.0,42.4,65.25,62.20000000000001,50.0,40.25,38.4,36.0,38.75,39.5,38.4,41.666666666666664,33.5,33.166666666666664,33.75,35.42857142857143,34.0,32.57142857142857,37.4,34.833333333333336,30.25,29.5,32.2],\"type\":\"scatter\"}],                        {\"template\":{\"data\":{\"bar\":[{\"error_x\":{\"color\":\"#2a3f5f\"},\"error_y\":{\"color\":\"#2a3f5f\"},\"marker\":{\"line\":{\"color\":\"#E5ECF6\",\"width\":0.5},\"pattern\":{\"fillmode\":\"overlay\",\"size\":10,\"solidity\":0.2}},\"type\":\"bar\"}],\"barpolar\":[{\"marker\":{\"line\":{\"color\":\"#E5ECF6\",\"width\":0.5},\"pattern\":{\"fillmode\":\"overlay\",\"size\":10,\"solidity\":0.2}},\"type\":\"barpolar\"}],\"carpet\":[{\"aaxis\":{\"endlinecolor\":\"#2a3f5f\",\"gridcolor\":\"white\",\"linecolor\":\"white\",\"minorgridcolor\":\"white\",\"startlinecolor\":\"#2a3f5f\"},\"baxis\":{\"endlinecolor\":\"#2a3f5f\",\"gridcolor\":\"white\",\"linecolor\":\"white\",\"minorgridcolor\":\"white\",\"startlinecolor\":\"#2a3f5f\"},\"type\":\"carpet\"}],\"choropleth\":[{\"colorbar\":{\"outlinewidth\":0,\"ticks\":\"\"},\"type\":\"choropleth\"}],\"contour\":[{\"colorbar\":{\"outlinewidth\":0,\"ticks\":\"\"},\"colorscale\":[[0.0,\"#0d0887\"],[0.1111111111111111,\"#46039f\"],[0.2222222222222222,\"#7201a8\"],[0.3333333333333333,\"#9c179e\"],[0.4444444444444444,\"#bd3786\"],[0.5555555555555556,\"#d8576b\"],[0.6666666666666666,\"#ed7953\"],[0.7777777777777778,\"#fb9f3a\"],[0.8888888888888888,\"#fdca26\"],[1.0,\"#f0f921\"]],\"type\":\"contour\"}],\"contourcarpet\":[{\"colorbar\":{\"outlinewidth\":0,\"ticks\":\"\"},\"type\":\"contourcarpet\"}],\"heatmap\":[{\"colorbar\":{\"outlinewidth\":0,\"ticks\":\"\"},\"colorscale\":[[0.0,\"#0d0887\"],[0.1111111111111111,\"#46039f\"],[0.2222222222222222,\"#7201a8\"],[0.3333333333333333,\"#9c179e\"],[0.4444444444444444,\"#bd3786\"],[0.5555555555555556,\"#d8576b\"],[0.6666666666666666,\"#ed7953\"],[0.7777777777777778,\"#fb9f3a\"],[0.8888888888888888,\"#fdca26\"],[1.0,\"#f0f921\"]],\"type\":\"heatmap\"}],\"heatmapgl\":[{\"colorbar\":{\"outlinewidth\":0,\"ticks\":\"\"},\"colorscale\":[[0.0,\"#0d0887\"],[0.1111111111111111,\"#46039f\"],[0.2222222222222222,\"#7201a8\"],[0.3333333333333333,\"#9c179e\"],[0.4444444444444444,\"#bd3786\"],[0.5555555555555556,\"#d8576b\"],[0.6666666666666666,\"#ed7953\"],[0.7777777777777778,\"#fb9f3a\"],[0.8888888888888888,\"#fdca26\"],[1.0,\"#f0f921\"]],\"type\":\"heatmapgl\"}],\"histogram\":[{\"marker\":{\"pattern\":{\"fillmode\":\"overlay\",\"size\":10,\"solidity\":0.2}},\"type\":\"histogram\"}],\"histogram2d\":[{\"colorbar\":{\"outlinewidth\":0,\"ticks\":\"\"},\"colorscale\":[[0.0,\"#0d0887\"],[0.1111111111111111,\"#46039f\"],[0.2222222222222222,\"#7201a8\"],[0.3333333333333333,\"#9c179e\"],[0.4444444444444444,\"#bd3786\"],[0.5555555555555556,\"#d8576b\"],[0.6666666666666666,\"#ed7953\"],[0.7777777777777778,\"#fb9f3a\"],[0.8888888888888888,\"#fdca26\"],[1.0,\"#f0f921\"]],\"type\":\"histogram2d\"}],\"histogram2dcontour\":[{\"colorbar\":{\"outlinewidth\":0,\"ticks\":\"\"},\"colorscale\":[[0.0,\"#0d0887\"],[0.1111111111111111,\"#46039f\"],[0.2222222222222222,\"#7201a8\"],[0.3333333333333333,\"#9c179e\"],[0.4444444444444444,\"#bd3786\"],[0.5555555555555556,\"#d8576b\"],[0.6666666666666666,\"#ed7953\"],[0.7777777777777778,\"#fb9f3a\"],[0.8888888888888888,\"#fdca26\"],[1.0,\"#f0f921\"]],\"type\":\"histogram2dcontour\"}],\"mesh3d\":[{\"colorbar\":{\"outlinewidth\":0,\"ticks\":\"\"},\"type\":\"mesh3d\"}],\"parcoords\":[{\"line\":{\"colorbar\":{\"outlinewidth\":0,\"ticks\":\"\"}},\"type\":\"parcoords\"}],\"pie\":[{\"automargin\":true,\"type\":\"pie\"}],\"scatter\":[{\"marker\":{\"colorbar\":{\"outlinewidth\":0,\"ticks\":\"\"}},\"type\":\"scatter\"}],\"scatter3d\":[{\"line\":{\"colorbar\":{\"outlinewidth\":0,\"ticks\":\"\"}},\"marker\":{\"colorbar\":{\"outlinewidth\":0,\"ticks\":\"\"}},\"type\":\"scatter3d\"}],\"scattercarpet\":[{\"marker\":{\"colorbar\":{\"outlinewidth\":0,\"ticks\":\"\"}},\"type\":\"scattercarpet\"}],\"scattergeo\":[{\"marker\":{\"colorbar\":{\"outlinewidth\":0,\"ticks\":\"\"}},\"type\":\"scattergeo\"}],\"scattergl\":[{\"marker\":{\"colorbar\":{\"outlinewidth\":0,\"ticks\":\"\"}},\"type\":\"scattergl\"}],\"scattermapbox\":[{\"marker\":{\"colorbar\":{\"outlinewidth\":0,\"ticks\":\"\"}},\"type\":\"scattermapbox\"}],\"scatterpolar\":[{\"marker\":{\"colorbar\":{\"outlinewidth\":0,\"ticks\":\"\"}},\"type\":\"scatterpolar\"}],\"scatterpolargl\":[{\"marker\":{\"colorbar\":{\"outlinewidth\":0,\"ticks\":\"\"}},\"type\":\"scatterpolargl\"}],\"scatterternary\":[{\"marker\":{\"colorbar\":{\"outlinewidth\":0,\"ticks\":\"\"}},\"type\":\"scatterternary\"}],\"surface\":[{\"colorbar\":{\"outlinewidth\":0,\"ticks\":\"\"},\"colorscale\":[[0.0,\"#0d0887\"],[0.1111111111111111,\"#46039f\"],[0.2222222222222222,\"#7201a8\"],[0.3333333333333333,\"#9c179e\"],[0.4444444444444444,\"#bd3786\"],[0.5555555555555556,\"#d8576b\"],[0.6666666666666666,\"#ed7953\"],[0.7777777777777778,\"#fb9f3a\"],[0.8888888888888888,\"#fdca26\"],[1.0,\"#f0f921\"]],\"type\":\"surface\"}],\"table\":[{\"cells\":{\"fill\":{\"color\":\"#EBF0F8\"},\"line\":{\"color\":\"white\"}},\"header\":{\"fill\":{\"color\":\"#C8D4E3\"},\"line\":{\"color\":\"white\"}},\"type\":\"table\"}]},\"layout\":{\"annotationdefaults\":{\"arrowcolor\":\"#2a3f5f\",\"arrowhead\":0,\"arrowwidth\":1},\"autotypenumbers\":\"strict\",\"coloraxis\":{\"colorbar\":{\"outlinewidth\":0,\"ticks\":\"\"}},\"colorscale\":{\"diverging\":[[0,\"#8e0152\"],[0.1,\"#c51b7d\"],[0.2,\"#de77ae\"],[0.3,\"#f1b6da\"],[0.4,\"#fde0ef\"],[0.5,\"#f7f7f7\"],[0.6,\"#e6f5d0\"],[0.7,\"#b8e186\"],[0.8,\"#7fbc41\"],[0.9,\"#4d9221\"],[1,\"#276419\"]],\"sequential\":[[0.0,\"#0d0887\"],[0.1111111111111111,\"#46039f\"],[0.2222222222222222,\"#7201a8\"],[0.3333333333333333,\"#9c179e\"],[0.4444444444444444,\"#bd3786\"],[0.5555555555555556,\"#d8576b\"],[0.6666666666666666,\"#ed7953\"],[0.7777777777777778,\"#fb9f3a\"],[0.8888888888888888,\"#fdca26\"],[1.0,\"#f0f921\"]],\"sequentialminus\":[[0.0,\"#0d0887\"],[0.1111111111111111,\"#46039f\"],[0.2222222222222222,\"#7201a8\"],[0.3333333333333333,\"#9c179e\"],[0.4444444444444444,\"#bd3786\"],[0.5555555555555556,\"#d8576b\"],[0.6666666666666666,\"#ed7953\"],[0.7777777777777778,\"#fb9f3a\"],[0.8888888888888888,\"#fdca26\"],[1.0,\"#f0f921\"]]},\"colorway\":[\"#636efa\",\"#EF553B\",\"#00cc96\",\"#ab63fa\",\"#FFA15A\",\"#19d3f3\",\"#FF6692\",\"#B6E880\",\"#FF97FF\",\"#FECB52\"],\"font\":{\"color\":\"#2a3f5f\"},\"geo\":{\"bgcolor\":\"white\",\"lakecolor\":\"white\",\"landcolor\":\"#E5ECF6\",\"showlakes\":true,\"showland\":true,\"subunitcolor\":\"white\"},\"hoverlabel\":{\"align\":\"left\"},\"hovermode\":\"closest\",\"mapbox\":{\"style\":\"light\"},\"paper_bgcolor\":\"white\",\"plot_bgcolor\":\"#E5ECF6\",\"polar\":{\"angularaxis\":{\"gridcolor\":\"white\",\"linecolor\":\"white\",\"ticks\":\"\"},\"bgcolor\":\"#E5ECF6\",\"radialaxis\":{\"gridcolor\":\"white\",\"linecolor\":\"white\",\"ticks\":\"\"}},\"scene\":{\"xaxis\":{\"backgroundcolor\":\"#E5ECF6\",\"gridcolor\":\"white\",\"gridwidth\":2,\"linecolor\":\"white\",\"showbackground\":true,\"ticks\":\"\",\"zerolinecolor\":\"white\"},\"yaxis\":{\"backgroundcolor\":\"#E5ECF6\",\"gridcolor\":\"white\",\"gridwidth\":2,\"linecolor\":\"white\",\"showbackground\":true,\"ticks\":\"\",\"zerolinecolor\":\"white\"},\"zaxis\":{\"backgroundcolor\":\"#E5ECF6\",\"gridcolor\":\"white\",\"gridwidth\":2,\"linecolor\":\"white\",\"showbackground\":true,\"ticks\":\"\",\"zerolinecolor\":\"white\"}},\"shapedefaults\":{\"line\":{\"color\":\"#2a3f5f\"}},\"ternary\":{\"aaxis\":{\"gridcolor\":\"white\",\"linecolor\":\"white\",\"ticks\":\"\"},\"baxis\":{\"gridcolor\":\"white\",\"linecolor\":\"white\",\"ticks\":\"\"},\"bgcolor\":\"#E5ECF6\",\"caxis\":{\"gridcolor\":\"white\",\"linecolor\":\"white\",\"ticks\":\"\"}},\"title\":{\"x\":0.05},\"xaxis\":{\"automargin\":true,\"gridcolor\":\"white\",\"linecolor\":\"white\",\"ticks\":\"\",\"title\":{\"standoff\":15},\"zerolinecolor\":\"white\",\"zerolinewidth\":2},\"yaxis\":{\"automargin\":true,\"gridcolor\":\"white\",\"linecolor\":\"white\",\"ticks\":\"\",\"title\":{\"standoff\":15},\"zerolinecolor\":\"white\",\"zerolinewidth\":2}}},\"xaxis\":{\"title\":{\"text\":\"Date/Time\"}},\"yaxis\":{\"title\":{\"text\":\"Parts Per Million\"}},\"title\":{\"text\":\"MQ135 Sensor Data vs Predicted Values against Time\",\"x\":0.5,\"xanchor\":\"center\",\"yanchor\":\"top\"}},                        {\"responsive\": true}                    ).then(function(){\n",
       "                            \n",
       "var gd = document.getElementById('a62fae6a-fa2b-442b-a4c9-ded8d033620e');\n",
       "var x = new MutationObserver(function (mutations, observer) {{\n",
       "        var display = window.getComputedStyle(gd).display;\n",
       "        if (!display || display === 'none') {{\n",
       "            console.log([gd, 'removed!']);\n",
       "            Plotly.purge(gd);\n",
       "            observer.disconnect();\n",
       "        }}\n",
       "}});\n",
       "\n",
       "// Listen for the removal of the full notebook cells\n",
       "var notebookContainer = gd.closest('#notebook-container');\n",
       "if (notebookContainer) {{\n",
       "    x.observe(notebookContainer, {childList: true});\n",
       "}}\n",
       "\n",
       "// Listen for the clearing of the current output cell\n",
       "var outputEl = gd.closest('.output');\n",
       "if (outputEl) {{\n",
       "    x.observe(outputEl, {childList: true});\n",
       "}}\n",
       "\n",
       "                        })                };                });            </script>        </div>"
      ]
     },
     "metadata": {},
     "output_type": "display_data"
    }
   ],
   "source": [
    "fig = go.Figure()\n",
    "fig.add_trace(go.Scatter(x=df_mq135_final.index, y=df_mq135_final.mq135,\n",
    "                    mode='lines',\n",
    "                    name='Actual'))\n",
    "fig.add_trace(go.Scatter(x=df_mq135_final.index, y=df_mq135_final.mq135_Predicted,\n",
    "                    mode='lines',\n",
    "                    name='Predicted'))\n",
    "fig.update_xaxes(title_text='Date/Time')\n",
    "fig.update_yaxes(title_text=\"Parts Per Million\")\n",
    "fig.update_layout(\n",
    "    title={\n",
    "        'text': \"MQ135 Sensor Data vs Predicted Values against Time\",\n",
    "        'x': 0.5,\n",
    "        'xanchor': 'center',\n",
    "        'yanchor': 'top'\n",
    "    })\n",
    "fig.show()"
   ]
  },
  {
   "cell_type": "code",
   "execution_count": 25,
   "id": "e94cc32c",
   "metadata": {},
   "outputs": [],
   "source": [
    "mq7_model.save(\"models/mq7_model.h5\")"
   ]
  },
  {
   "cell_type": "code",
   "execution_count": 31,
   "id": "47f4025b",
   "metadata": {},
   "outputs": [],
   "source": [
    "mq135_model.save(\"models/mq135_model.h5\")"
   ]
  },
  {
   "cell_type": "code",
   "execution_count": 33,
   "id": "ac5191b6",
   "metadata": {},
   "outputs": [
    {
     "data": {
      "text/plain": [
       "(65, 4)"
      ]
     },
     "execution_count": 33,
     "metadata": {},
     "output_type": "execute_result"
    }
   ],
   "source": [
    "reverse_transform1.shape"
   ]
  },
  {
   "cell_type": "code",
   "execution_count": null,
   "id": "4700481b",
   "metadata": {},
   "outputs": [],
   "source": []
  }
 ],
 "metadata": {
  "kernelspec": {
   "display_name": "Python 3 (ipykernel)",
   "language": "python",
   "name": "python3"
  },
  "language_info": {
   "codemirror_mode": {
    "name": "ipython",
    "version": 3
   },
   "file_extension": ".py",
   "mimetype": "text/x-python",
   "name": "python",
   "nbconvert_exporter": "python",
   "pygments_lexer": "ipython3",
   "version": "3.8.10"
  }
 },
 "nbformat": 4,
 "nbformat_minor": 5
}
