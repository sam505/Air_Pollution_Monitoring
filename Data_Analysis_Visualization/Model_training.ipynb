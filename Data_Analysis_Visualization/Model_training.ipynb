{
 "cells": [
  {
   "cell_type": "code",
   "execution_count": 21,
   "id": "a5490094",
   "metadata": {},
   "outputs": [],
   "source": [
    "# Import necessary packages\n",
    "import os\n",
    "import sklearn\n",
    "import pandas as pd\n",
    "import numpy as np\n",
    "import matplotlib.pyplot as plt\n",
    "from dateutil.parser import parse\n",
    "import tensorflow as tf\n",
    "from sklearn.preprocessing import MinMaxScaler\n",
    "from sklearn.model_selection import train_test_split\n",
    "from tensorflow.keras.preprocessing.sequence import TimeseriesGenerator\n",
    "from tensorflow.keras import Sequential\n",
    "from tensorflow.keras.layers import LSTM, LeakyReLU, Dropout, Dense\n",
    "from tensorflow.keras.callbacks import EarlyStopping\n",
    "from tensorflow.keras.losses import MeanSquaredError\n",
    "from tensorflow.keras.metrics import MeanAbsoluteError\n",
    "from tensorflow.keras.optimizers import Adam\n",
    "\n",
    "os.chdir(\"/home/maina/Documents/Air Pollution Monitoring\")\n",
    "\n",
    "# import data_retrival and analysis functions\n",
    "from data_analysis import *"
   ]
  },
  {
   "cell_type": "code",
   "execution_count": 2,
   "id": "d511d8fd",
   "metadata": {},
   "outputs": [
    {
     "data": {
      "text/html": [
       "<div>\n",
       "<style scoped>\n",
       "    .dataframe tbody tr th:only-of-type {\n",
       "        vertical-align: middle;\n",
       "    }\n",
       "\n",
       "    .dataframe tbody tr th {\n",
       "        vertical-align: top;\n",
       "    }\n",
       "\n",
       "    .dataframe thead th {\n",
       "        text-align: right;\n",
       "    }\n",
       "</style>\n",
       "<table border=\"1\" class=\"dataframe\">\n",
       "  <thead>\n",
       "    <tr style=\"text-align: right;\">\n",
       "      <th></th>\n",
       "      <th>timestamp</th>\n",
       "      <th>mq7</th>\n",
       "      <th>mq135</th>\n",
       "      <th>temperature</th>\n",
       "      <th>humidity</th>\n",
       "    </tr>\n",
       "  </thead>\n",
       "  <tbody>\n",
       "    <tr>\n",
       "      <th>0</th>\n",
       "      <td>1639922725</td>\n",
       "      <td>162.0</td>\n",
       "      <td>39.0</td>\n",
       "      <td>24.1</td>\n",
       "      <td>73.0</td>\n",
       "    </tr>\n",
       "    <tr>\n",
       "      <th>1</th>\n",
       "      <td>1639923325</td>\n",
       "      <td>135.0</td>\n",
       "      <td>38.0</td>\n",
       "      <td>23.9</td>\n",
       "      <td>75.0</td>\n",
       "    </tr>\n",
       "    <tr>\n",
       "      <th>2</th>\n",
       "      <td>1639923927</td>\n",
       "      <td>118.0</td>\n",
       "      <td>36.0</td>\n",
       "      <td>24.0</td>\n",
       "      <td>72.0</td>\n",
       "    </tr>\n",
       "    <tr>\n",
       "      <th>3</th>\n",
       "      <td>1639924555</td>\n",
       "      <td>109.0</td>\n",
       "      <td>39.0</td>\n",
       "      <td>24.4</td>\n",
       "      <td>73.0</td>\n",
       "    </tr>\n",
       "    <tr>\n",
       "      <th>4</th>\n",
       "      <td>1639925428</td>\n",
       "      <td>102.0</td>\n",
       "      <td>42.0</td>\n",
       "      <td>24.2</td>\n",
       "      <td>74.0</td>\n",
       "    </tr>\n",
       "    <tr>\n",
       "      <th>5</th>\n",
       "      <td>1639926056</td>\n",
       "      <td>100.0</td>\n",
       "      <td>42.0</td>\n",
       "      <td>24.2</td>\n",
       "      <td>76.0</td>\n",
       "    </tr>\n",
       "    <tr>\n",
       "      <th>6</th>\n",
       "      <td>1639926658</td>\n",
       "      <td>97.0</td>\n",
       "      <td>40.0</td>\n",
       "      <td>24.2</td>\n",
       "      <td>75.0</td>\n",
       "    </tr>\n",
       "    <tr>\n",
       "      <th>7</th>\n",
       "      <td>1639927411</td>\n",
       "      <td>96.0</td>\n",
       "      <td>37.0</td>\n",
       "      <td>24.0</td>\n",
       "      <td>77.0</td>\n",
       "    </tr>\n",
       "    <tr>\n",
       "      <th>8</th>\n",
       "      <td>1639928191</td>\n",
       "      <td>92.0</td>\n",
       "      <td>37.0</td>\n",
       "      <td>23.9</td>\n",
       "      <td>77.0</td>\n",
       "    </tr>\n",
       "    <tr>\n",
       "      <th>9</th>\n",
       "      <td>1639928791</td>\n",
       "      <td>92.0</td>\n",
       "      <td>37.0</td>\n",
       "      <td>23.9</td>\n",
       "      <td>77.0</td>\n",
       "    </tr>\n",
       "  </tbody>\n",
       "</table>\n",
       "</div>"
      ],
      "text/plain": [
       "    timestamp    mq7  mq135  temperature  humidity\n",
       "0  1639922725  162.0   39.0         24.1      73.0\n",
       "1  1639923325  135.0   38.0         23.9      75.0\n",
       "2  1639923927  118.0   36.0         24.0      72.0\n",
       "3  1639924555  109.0   39.0         24.4      73.0\n",
       "4  1639925428  102.0   42.0         24.2      74.0\n",
       "5  1639926056  100.0   42.0         24.2      76.0\n",
       "6  1639926658   97.0   40.0         24.2      75.0\n",
       "7  1639927411   96.0   37.0         24.0      77.0\n",
       "8  1639928191   92.0   37.0         23.9      77.0\n",
       "9  1639928791   92.0   37.0         23.9      77.0"
      ]
     },
     "execution_count": 2,
     "metadata": {},
     "output_type": "execute_result"
    }
   ],
   "source": [
    "# Gets the data from firebase, process it and store it in a csv file\n",
    "filepath = read_data()\n",
    "\n",
    "# Read the dataset as a pandas dataframe\n",
    "df = pd.read_csv(filepath)\n",
    "\n",
    "# Display the first 10 rows\n",
    "df.head(10)"
   ]
  },
  {
   "cell_type": "code",
   "execution_count": 4,
   "id": "5fd83acc",
   "metadata": {
    "scrolled": true
   },
   "outputs": [
    {
     "data": {
      "text/html": [
       "<div>\n",
       "<style scoped>\n",
       "    .dataframe tbody tr th:only-of-type {\n",
       "        vertical-align: middle;\n",
       "    }\n",
       "\n",
       "    .dataframe tbody tr th {\n",
       "        vertical-align: top;\n",
       "    }\n",
       "\n",
       "    .dataframe thead th {\n",
       "        text-align: right;\n",
       "    }\n",
       "</style>\n",
       "<table border=\"1\" class=\"dataframe\">\n",
       "  <thead>\n",
       "    <tr style=\"text-align: right;\">\n",
       "      <th></th>\n",
       "      <th>timestamp</th>\n",
       "      <th>mq7</th>\n",
       "      <th>mq135</th>\n",
       "      <th>temperature</th>\n",
       "      <th>humidity</th>\n",
       "    </tr>\n",
       "  </thead>\n",
       "  <tbody>\n",
       "    <tr>\n",
       "      <th>0</th>\n",
       "      <td>2021-12-19 14:05:25+03:00</td>\n",
       "      <td>162.0</td>\n",
       "      <td>39.0</td>\n",
       "      <td>24.1</td>\n",
       "      <td>73.0</td>\n",
       "    </tr>\n",
       "    <tr>\n",
       "      <th>1</th>\n",
       "      <td>2021-12-19 14:15:25+03:00</td>\n",
       "      <td>135.0</td>\n",
       "      <td>38.0</td>\n",
       "      <td>23.9</td>\n",
       "      <td>75.0</td>\n",
       "    </tr>\n",
       "    <tr>\n",
       "      <th>2</th>\n",
       "      <td>2021-12-19 14:25:27+03:00</td>\n",
       "      <td>118.0</td>\n",
       "      <td>36.0</td>\n",
       "      <td>24.0</td>\n",
       "      <td>72.0</td>\n",
       "    </tr>\n",
       "    <tr>\n",
       "      <th>3</th>\n",
       "      <td>2021-12-19 14:35:55+03:00</td>\n",
       "      <td>109.0</td>\n",
       "      <td>39.0</td>\n",
       "      <td>24.4</td>\n",
       "      <td>73.0</td>\n",
       "    </tr>\n",
       "    <tr>\n",
       "      <th>4</th>\n",
       "      <td>2021-12-19 14:50:28+03:00</td>\n",
       "      <td>102.0</td>\n",
       "      <td>42.0</td>\n",
       "      <td>24.2</td>\n",
       "      <td>74.0</td>\n",
       "    </tr>\n",
       "  </tbody>\n",
       "</table>\n",
       "</div>"
      ],
      "text/plain": [
       "                  timestamp    mq7  mq135  temperature  humidity\n",
       "0 2021-12-19 14:05:25+03:00  162.0   39.0         24.1      73.0\n",
       "1 2021-12-19 14:15:25+03:00  135.0   38.0         23.9      75.0\n",
       "2 2021-12-19 14:25:27+03:00  118.0   36.0         24.0      72.0\n",
       "3 2021-12-19 14:35:55+03:00  109.0   39.0         24.4      73.0\n",
       "4 2021-12-19 14:50:28+03:00  102.0   42.0         24.2      74.0"
      ]
     },
     "execution_count": 4,
     "metadata": {},
     "output_type": "execute_result"
    }
   ],
   "source": [
    "# Converting the unix time stamp to datetime format\n",
    "df[\"timestamp\"] = pd.to_datetime(df['timestamp'], unit='s')\n",
    "df[\"timestamp\"] = df[\"timestamp\"].dt.tz_localize('Africa/Nairobi')\n",
    "df.head()"
   ]
  },
  {
   "cell_type": "code",
   "execution_count": 5,
   "id": "7ea4efe7",
   "metadata": {},
   "outputs": [
    {
     "data": {
      "text/html": [
       "<div>\n",
       "<style scoped>\n",
       "    .dataframe tbody tr th:only-of-type {\n",
       "        vertical-align: middle;\n",
       "    }\n",
       "\n",
       "    .dataframe tbody tr th {\n",
       "        vertical-align: top;\n",
       "    }\n",
       "\n",
       "    .dataframe thead th {\n",
       "        text-align: right;\n",
       "    }\n",
       "</style>\n",
       "<table border=\"1\" class=\"dataframe\">\n",
       "  <thead>\n",
       "    <tr style=\"text-align: right;\">\n",
       "      <th></th>\n",
       "      <th>mq7</th>\n",
       "      <th>mq135</th>\n",
       "      <th>temperature</th>\n",
       "      <th>humidity</th>\n",
       "    </tr>\n",
       "    <tr>\n",
       "      <th>timestamp</th>\n",
       "      <th></th>\n",
       "      <th></th>\n",
       "      <th></th>\n",
       "      <th></th>\n",
       "    </tr>\n",
       "  </thead>\n",
       "  <tbody>\n",
       "    <tr>\n",
       "      <th>2021-12-19 14:00:00+03:00</th>\n",
       "      <td>125.200000</td>\n",
       "      <td>38.800000</td>\n",
       "      <td>24.120000</td>\n",
       "      <td>73.400000</td>\n",
       "    </tr>\n",
       "    <tr>\n",
       "      <th>2021-12-19 15:00:00+03:00</th>\n",
       "      <td>95.000000</td>\n",
       "      <td>38.500000</td>\n",
       "      <td>23.983333</td>\n",
       "      <td>76.666667</td>\n",
       "    </tr>\n",
       "    <tr>\n",
       "      <th>2021-12-19 16:00:00+03:00</th>\n",
       "      <td>90.166667</td>\n",
       "      <td>36.166667</td>\n",
       "      <td>23.266667</td>\n",
       "      <td>77.666667</td>\n",
       "    </tr>\n",
       "    <tr>\n",
       "      <th>2021-12-19 17:00:00+03:00</th>\n",
       "      <td>97.200000</td>\n",
       "      <td>39.800000</td>\n",
       "      <td>23.240000</td>\n",
       "      <td>78.400000</td>\n",
       "    </tr>\n",
       "    <tr>\n",
       "      <th>2021-12-19 18:00:00+03:00</th>\n",
       "      <td>95.500000</td>\n",
       "      <td>39.500000</td>\n",
       "      <td>23.233333</td>\n",
       "      <td>79.833333</td>\n",
       "    </tr>\n",
       "  </tbody>\n",
       "</table>\n",
       "</div>"
      ],
      "text/plain": [
       "                                  mq7      mq135  temperature   humidity\n",
       "timestamp                                                               \n",
       "2021-12-19 14:00:00+03:00  125.200000  38.800000    24.120000  73.400000\n",
       "2021-12-19 15:00:00+03:00   95.000000  38.500000    23.983333  76.666667\n",
       "2021-12-19 16:00:00+03:00   90.166667  36.166667    23.266667  77.666667\n",
       "2021-12-19 17:00:00+03:00   97.200000  39.800000    23.240000  78.400000\n",
       "2021-12-19 18:00:00+03:00   95.500000  39.500000    23.233333  79.833333"
      ]
     },
     "execution_count": 5,
     "metadata": {},
     "output_type": "execute_result"
    }
   ],
   "source": [
    "# Resapmle dataset hourly using mean\n",
    "df = df.set_index(\"timestamp\")\n",
    "df = df.resample(rule='H').mean()\n",
    "df.head()"
   ]
  },
  {
   "cell_type": "code",
   "execution_count": 6,
   "id": "6885e1d6",
   "metadata": {},
   "outputs": [
    {
     "data": {
      "text/plain": [
       "mq7            0\n",
       "mq135          0\n",
       "temperature    0\n",
       "humidity       0\n",
       "dtype: int64"
      ]
     },
     "execution_count": 6,
     "metadata": {},
     "output_type": "execute_result"
    }
   ],
   "source": [
    "# Check if there are any missing values in the dataset\n",
    "df.isnull().sum()"
   ]
  },
  {
   "cell_type": "code",
   "execution_count": 7,
   "id": "6331076f",
   "metadata": {
    "scrolled": true
   },
   "outputs": [
    {
     "data": {
      "text/html": [
       "<div>\n",
       "<style scoped>\n",
       "    .dataframe tbody tr th:only-of-type {\n",
       "        vertical-align: middle;\n",
       "    }\n",
       "\n",
       "    .dataframe tbody tr th {\n",
       "        vertical-align: top;\n",
       "    }\n",
       "\n",
       "    .dataframe thead th {\n",
       "        text-align: right;\n",
       "    }\n",
       "</style>\n",
       "<table border=\"1\" class=\"dataframe\">\n",
       "  <thead>\n",
       "    <tr style=\"text-align: right;\">\n",
       "      <th></th>\n",
       "      <th>mq7</th>\n",
       "      <th>mq135</th>\n",
       "      <th>temperature</th>\n",
       "      <th>humidity</th>\n",
       "    </tr>\n",
       "  </thead>\n",
       "  <tbody>\n",
       "    <tr>\n",
       "      <th>count</th>\n",
       "      <td>352.000000</td>\n",
       "      <td>352.000000</td>\n",
       "      <td>352.000000</td>\n",
       "      <td>352.000000</td>\n",
       "    </tr>\n",
       "    <tr>\n",
       "      <th>mean</th>\n",
       "      <td>87.077023</td>\n",
       "      <td>42.029334</td>\n",
       "      <td>24.492894</td>\n",
       "      <td>62.310476</td>\n",
       "    </tr>\n",
       "    <tr>\n",
       "      <th>std</th>\n",
       "      <td>13.675241</td>\n",
       "      <td>7.418984</td>\n",
       "      <td>2.496454</td>\n",
       "      <td>10.194331</td>\n",
       "    </tr>\n",
       "    <tr>\n",
       "      <th>min</th>\n",
       "      <td>51.750000</td>\n",
       "      <td>27.833333</td>\n",
       "      <td>21.012821</td>\n",
       "      <td>29.800000</td>\n",
       "    </tr>\n",
       "    <tr>\n",
       "      <th>25%</th>\n",
       "      <td>79.437500</td>\n",
       "      <td>38.250000</td>\n",
       "      <td>22.991667</td>\n",
       "      <td>58.005357</td>\n",
       "    </tr>\n",
       "    <tr>\n",
       "      <th>50%</th>\n",
       "      <td>84.400000</td>\n",
       "      <td>40.200000</td>\n",
       "      <td>23.837500</td>\n",
       "      <td>66.055000</td>\n",
       "    </tr>\n",
       "    <tr>\n",
       "      <th>75%</th>\n",
       "      <td>91.312500</td>\n",
       "      <td>43.350000</td>\n",
       "      <td>25.227841</td>\n",
       "      <td>67.862672</td>\n",
       "    </tr>\n",
       "    <tr>\n",
       "      <th>max</th>\n",
       "      <td>153.166667</td>\n",
       "      <td>88.500000</td>\n",
       "      <td>34.000000</td>\n",
       "      <td>81.333333</td>\n",
       "    </tr>\n",
       "  </tbody>\n",
       "</table>\n",
       "</div>"
      ],
      "text/plain": [
       "              mq7       mq135  temperature    humidity\n",
       "count  352.000000  352.000000   352.000000  352.000000\n",
       "mean    87.077023   42.029334    24.492894   62.310476\n",
       "std     13.675241    7.418984     2.496454   10.194331\n",
       "min     51.750000   27.833333    21.012821   29.800000\n",
       "25%     79.437500   38.250000    22.991667   58.005357\n",
       "50%     84.400000   40.200000    23.837500   66.055000\n",
       "75%     91.312500   43.350000    25.227841   67.862672\n",
       "max    153.166667   88.500000    34.000000   81.333333"
      ]
     },
     "execution_count": 7,
     "metadata": {},
     "output_type": "execute_result"
    }
   ],
   "source": [
    "# Statistical summary of the dataset columns\n",
    "df.describe()"
   ]
  },
  {
   "cell_type": "code",
   "execution_count": 9,
   "id": "9eac89dc",
   "metadata": {},
   "outputs": [
    {
     "data": {
      "text/plain": [
       "array([<AxesSubplot:xlabel='timestamp'>, <AxesSubplot:xlabel='timestamp'>,\n",
       "       <AxesSubplot:xlabel='timestamp'>, <AxesSubplot:xlabel='timestamp'>],\n",
       "      dtype=object)"
      ]
     },
     "execution_count": 9,
     "metadata": {},
     "output_type": "execute_result"
    },
    {
     "data": {
      "image/png": "[encoded data removed]",
      "text/plain": [
       "<Figure size 432x288 with 4 Axes>"
      ]
     },
     "metadata": {
      "needs_background": "light"
     },
     "output_type": "display_data"
    }
   ],
   "source": [
    "# plot the values against time\n",
    "df[[\"mq7\", \"mq135\", \"temperature\", \"humidity\"]].plot(subplots=True)"
   ]
  },
  {
   "cell_type": "code",
   "execution_count": 11,
   "id": "af36fe16",
   "metadata": {},
   "outputs": [],
   "source": [
    "scaler = MinMaxScaler()\n",
    "df.reset_index(inplace=True)\n",
    "scaled_data = scaler.fit_transform(df.drop(\"timestamp\", axis=1))"
   ]
  },
  {
   "cell_type": "code",
   "execution_count": 12,
   "id": "527941c7",
   "metadata": {},
   "outputs": [
    {
     "name": "stdout",
     "output_type": "stream",
     "text": [
      "(352, 4) (352, 2)\n"
     ]
    }
   ],
   "source": [
    "x = scaled_data\n",
    "y = scaled_data[:,0:2]\n",
    "print(x.shape, y.shape)"
   ]
  },
  {
   "cell_type": "code",
   "execution_count": 13,
   "id": "be41c6af",
   "metadata": {
    "scrolled": true
   },
   "outputs": [
    {
     "name": "stdout",
     "output_type": "stream",
     "text": [
      "(281, 4) (71, 4) (281, 2) (71, 2)\n"
     ]
    }
   ],
   "source": [
    "x_train, x_test, y_train, y_test = train_test_split(x, y, test_size=0.2, random_state=123, shuffle=False)\n",
    "print(x_train.shape, x_test.shape, y_train.shape, y_test.shape)"
   ]
  },
  {
   "cell_type": "code",
   "execution_count": null,
   "id": "942574f1",
   "metadata": {},
   "outputs": [],
   "source": [
    "ts_generator = TimeseriesGenerator(x, y, length=6, sampling_rate=1, batch_size=1)\n",
    "ts_generator[0]"
   ]
  },
  {
   "cell_type": "code",
   "execution_count": 15,
   "id": "6585715c",
   "metadata": {
    "scrolled": false
   },
   "outputs": [],
   "source": [
    "window_length = 5\n",
    "num_features = 4\n",
    "batch_size = 16\n",
    "train_generator = TimeseriesGenerator(x_train, y_train, length=window_length, sampling_rate=1, batch_size=batch_size)\n",
    "test_generator = TimeseriesGenerator(x_test, y_test, length=window_length, sampling_rate=1, batch_size=batch_size)"
   ]
  },
  {
   "cell_type": "code",
   "execution_count": 16,
   "id": "3620b722",
   "metadata": {},
   "outputs": [
    {
     "data": {
      "text/plain": [
       "(array([[[0.72423993, 0.18076923, 0.23924975, 0.84605433],\n",
       "         [0.4264585 , 0.17582418, 0.22872655, 0.90944373],\n",
       "         [0.37880033, 0.13736264, 0.17354393, 0.92884864],\n",
       "         [0.44815119, 0.19725275, 0.17149062, 0.94307891],\n",
       "         [0.43138866, 0.19230769, 0.1709773 , 0.97089263]],\n",
       " \n",
       "        [[0.4264585 , 0.17582418, 0.22872655, 0.90944373],\n",
       "         [0.37880033, 0.13736264, 0.17354393, 0.92884864],\n",
       "         [0.44815119, 0.19725275, 0.17149062, 0.94307891],\n",
       "         [0.43138866, 0.19230769, 0.1709773 , 0.97089263],\n",
       "         [0.41166804, 0.2032967 , 0.17354393, 0.96119017]],\n",
       " \n",
       "        [[0.37880033, 0.13736264, 0.17354393, 0.92884864],\n",
       "         [0.44815119, 0.19725275, 0.17149062, 0.94307891],\n",
       "         [0.43138866, 0.19230769, 0.1709773 , 0.97089263],\n",
       "         [0.41166804, 0.2032967 , 0.17354393, 0.96119017],\n",
       "         [0.46918652, 0.23626374, 0.18381046, 0.97089263]],\n",
       " \n",
       "        [[0.44815119, 0.19725275, 0.17149062, 0.94307891],\n",
       "         [0.43138866, 0.19230769, 0.1709773 , 0.97089263],\n",
       "         [0.41166804, 0.2032967 , 0.17354393, 0.96119017],\n",
       "         [0.46918652, 0.23626374, 0.18381046, 0.97089263],\n",
       "         [0.49794577, 0.30357143, 0.20883514, 0.99353169]],\n",
       " \n",
       "        [[0.43138866, 0.19230769, 0.1709773 , 0.97089263],\n",
       "         [0.41166804, 0.2032967 , 0.17354393, 0.96119017],\n",
       "         [0.46918652, 0.23626374, 0.18381046, 0.97089263],\n",
       "         [0.49794577, 0.30357143, 0.20883514, 0.99353169],\n",
       "         [0.62530813, 0.40659341, 0.2094768 , 1.        ]],\n",
       " \n",
       "        [[0.41166804, 0.2032967 , 0.17354393, 0.96119017],\n",
       "         [0.46918652, 0.23626374, 0.18381046, 0.97089263],\n",
       "         [0.49794577, 0.30357143, 0.20883514, 0.99353169],\n",
       "         [0.62530813, 0.40659341, 0.2094768 , 1.        ],\n",
       "         [0.70912079, 0.42857143, 0.1786772 , 0.96442432]],\n",
       " \n",
       "        [[0.46918652, 0.23626374, 0.18381046, 0.97089263],\n",
       "         [0.49794577, 0.30357143, 0.20883514, 0.99353169],\n",
       "         [0.62530813, 0.40659341, 0.2094768 , 1.        ],\n",
       "         [0.70912079, 0.42857143, 0.1786772 , 0.96442432],\n",
       "         [0.69597371, 0.41758242, 0.17739388, 0.94178525]],\n",
       " \n",
       "        [[0.49794577, 0.30357143, 0.20883514, 0.99353169],\n",
       "         [0.62530813, 0.40659341, 0.2094768 , 1.        ],\n",
       "         [0.70912079, 0.42857143, 0.1786772 , 0.96442432],\n",
       "         [0.69597371, 0.41758242, 0.17739388, 0.94178525],\n",
       "         [0.71635168, 0.44120879, 0.16071076, 0.95084088]],\n",
       " \n",
       "        [[0.62530813, 0.40659341, 0.2094768 , 1.        ],\n",
       "         [0.70912079, 0.42857143, 0.1786772 , 0.96442432],\n",
       "         [0.69597371, 0.41758242, 0.17739388, 0.94178525],\n",
       "         [0.71635168, 0.44120879, 0.16071076, 0.95084088],\n",
       "         [0.60197206, 0.3456044 , 0.15301086, 0.96636481]],\n",
       " \n",
       "        [[0.70912079, 0.42857143, 0.1786772 , 0.96442432],\n",
       "         [0.69597371, 0.41758242, 0.17739388, 0.94178525],\n",
       "         [0.71635168, 0.44120879, 0.16071076, 0.95084088],\n",
       "         [0.60197206, 0.3456044 , 0.15301086, 0.96636481],\n",
       "         [0.54806902, 0.31593407, 0.13247779, 0.93208279]],\n",
       " \n",
       "        [[0.69597371, 0.41758242, 0.17739388, 0.94178525],\n",
       "         [0.71635168, 0.44120879, 0.16071076, 0.95084088],\n",
       "         [0.60197206, 0.3456044 , 0.15301086, 0.96636481],\n",
       "         [0.54806902, 0.31593407, 0.13247779, 0.93208279],\n",
       "         [0.40673788, 0.22527473, 0.12477789, 0.91591203]],\n",
       " \n",
       "        [[0.71635168, 0.44120879, 0.16071076, 0.95084088],\n",
       "         [0.60197206, 0.3456044 , 0.15301086, 0.96636481],\n",
       "         [0.54806902, 0.31593407, 0.13247779, 0.93208279],\n",
       "         [0.40673788, 0.22527473, 0.12477789, 0.91591203],\n",
       "         [0.37551356, 0.20879121, 0.14531096, 0.94178525]],\n",
       " \n",
       "        [[0.60197206, 0.3456044 , 0.15301086, 0.96636481],\n",
       "         [0.54806902, 0.31593407, 0.13247779, 0.93208279],\n",
       "         [0.40673788, 0.22527473, 0.12477789, 0.91591203],\n",
       "         [0.37551356, 0.20879121, 0.14531096, 0.94178525],\n",
       "         [0.37518488, 0.22032967, 0.17765054, 0.95084088]],\n",
       " \n",
       "        [[0.54806902, 0.31593407, 0.13247779, 0.93208279],\n",
       "         [0.40673788, 0.22527473, 0.12477789, 0.91591203],\n",
       "         [0.37551356, 0.20879121, 0.14531096, 0.94178525],\n",
       "         [0.37518488, 0.22032967, 0.17765054, 0.95084088],\n",
       "         [0.33935908, 0.19505495, 0.18766041, 0.93531695]],\n",
       " \n",
       "        [[0.40673788, 0.22527473, 0.12477789, 0.91591203],\n",
       "         [0.37551356, 0.20879121, 0.14531096, 0.94178525],\n",
       "         [0.37518488, 0.22032967, 0.17765054, 0.95084088],\n",
       "         [0.33935908, 0.19505495, 0.18766041, 0.93531695],\n",
       "         [0.40180772, 0.23763736, 0.21653504, 0.90620957]],\n",
       " \n",
       "        [[0.37551356, 0.20879121, 0.14531096, 0.94178525],\n",
       "         [0.37518488, 0.22032967, 0.17765054, 0.95084088],\n",
       "         [0.33935908, 0.19505495, 0.18766041, 0.93531695],\n",
       "         [0.40180772, 0.23763736, 0.21653504, 0.90620957],\n",
       "         [0.38110107, 0.23351648, 0.28390918, 0.80064683]]]),\n",
       " array([[0.41166804, 0.2032967 ],\n",
       "        [0.46918652, 0.23626374],\n",
       "        [0.49794577, 0.30357143],\n",
       "        [0.62530813, 0.40659341],\n",
       "        [0.70912079, 0.42857143],\n",
       "        [0.69597371, 0.41758242],\n",
       "        [0.71635168, 0.44120879],\n",
       "        [0.60197206, 0.3456044 ],\n",
       "        [0.54806902, 0.31593407],\n",
       "        [0.40673788, 0.22527473],\n",
       "        [0.37551356, 0.20879121],\n",
       "        [0.37518488, 0.22032967],\n",
       "        [0.33935908, 0.19505495],\n",
       "        [0.40180772, 0.23763736],\n",
       "        [0.38110107, 0.23351648],\n",
       "        [0.28249795, 0.16098901]]))"
      ]
     },
     "execution_count": 16,
     "metadata": {},
     "output_type": "execute_result"
    }
   ],
   "source": [
    "train_generator[0]"
   ]
  },
  {
   "cell_type": "code",
   "execution_count": 18,
   "id": "3a637e92",
   "metadata": {},
   "outputs": [
    {
     "name": "stderr",
     "output_type": "stream",
     "text": [
      "2022-01-12 13:37:02.709224: W tensorflow/stream_executor/platform/default/dso_loader.cc:64] Could not load dynamic library 'libcuda.so.1'; dlerror: libcuda.so.1: cannot open shared object file: No such file or directory\n",
      "2022-01-12 13:37:02.709256: W tensorflow/stream_executor/cuda/cuda_driver.cc:269] failed call to cuInit: UNKNOWN ERROR (303)\n",
      "2022-01-12 13:37:02.709280: I tensorflow/stream_executor/cuda/cuda_diagnostics.cc:156] kernel driver does not appear to be running on this host (Pavilion): /proc/driver/nvidia/version does not exist\n",
      "2022-01-12 13:37:02.710064: I tensorflow/core/platform/cpu_feature_guard.cc:151] This TensorFlow binary is optimized with oneAPI Deep Neural Network Library (oneDNN) to use the following CPU instructions in performance-critical operations:  AVX2 FMA\n",
      "To enable them in other operations, rebuild TensorFlow with the appropriate compiler flags.\n"
     ]
    },
    {
     "name": "stdout",
     "output_type": "stream",
     "text": [
      "Model: \"sequential\"\n",
      "_________________________________________________________________\n",
      " Layer (type)                Output Shape              Param #   \n",
      "=================================================================\n",
      " lstm (LSTM)                 (None, 5, 128)            68096     \n",
      "                                                                 \n",
      " leaky_re_lu (LeakyReLU)     (None, 5, 128)            0         \n",
      "                                                                 \n",
      " lstm_1 (LSTM)               (None, 5, 128)            131584    \n",
      "                                                                 \n",
      " leaky_re_lu_1 (LeakyReLU)   (None, 5, 128)            0         \n",
      "                                                                 \n",
      " dropout (Dropout)           (None, 5, 128)            0         \n",
      "                                                                 \n",
      " lstm_2 (LSTM)               (None, 5, 64)             49408     \n",
      "                                                                 \n",
      " dropout_1 (Dropout)         (None, 5, 64)             0         \n",
      "                                                                 \n",
      " dense (Dense)               (None, 5, 1)              65        \n",
      "                                                                 \n",
      "=================================================================\n",
      "Total params: 249,153\n",
      "Trainable params: 249,153\n",
      "Non-trainable params: 0\n",
      "_________________________________________________________________\n"
     ]
    }
   ],
   "source": [
    "model = Sequential()\n",
    "model.add(LSTM(128, input_shape=(window_length, num_features), return_sequences=True))\n",
    "model.add(LeakyReLU(alpha=0.5))\n",
    "model.add(LSTM(128, return_sequences=True))\n",
    "model.add(LeakyReLU(alpha=0.5))\n",
    "model.add(Dropout(0.5))\n",
    "model.add(LSTM(64, return_sequences=True))\n",
    "model.add(Dropout(0.3))\n",
    "model.add(Dense(1))\n",
    "\n",
    "model.summary()"
   ]
  },
  {
   "cell_type": "code",
   "execution_count": 22,
   "id": "346d5fdd",
   "metadata": {},
   "outputs": [],
   "source": [
    "early_stopping = EarlyStopping(\n",
    "    monitor=\"val_loss\",\n",
    "    patience=3,\n",
    "    mode=\"min\"\n",
    "                              )\n",
    "model.compile(\n",
    "    loss=tf.losses.MeanAbsoluteError(),\n",
    "    optimizer=Adam(),\n",
    "    metrics=[MeanAbsoluteError()]\n",
    "             )"
   ]
  },
  {
   "cell_type": "code",
   "execution_count": 23,
   "id": "67cb01d2",
   "metadata": {},
   "outputs": [
    {
     "name": "stderr",
     "output_type": "stream",
     "text": [
      "/tmp/ipykernel_81657/1192819614.py:1: UserWarning: `Model.fit_generator` is deprecated and will be removed in a future version. Please use `Model.fit`, which supports generators.\n",
      "  history = model.fit_generator(\n"
     ]
    },
    {
     "name": "stdout",
     "output_type": "stream",
     "text": [
      "Epoch 1/100\n"
     ]
    },
    {
     "ename": "InvalidArgumentError",
     "evalue": " Incompatible shapes: [16,5] vs. [16,2]\n\t [[node gradient_tape/mean_absolute_error/sub/BroadcastGradientArgs\n (defined at /home/maina/Documents/Air Pollution Monitoring/venv/lib/python3.8/site-packages/keras/optimizer_v2/optimizer_v2.py:464)\n]] [Op:__inference_train_function_8063]\n\nErrors may have originated from an input operation.\nInput Source operations connected to node gradient_tape/mean_absolute_error/sub/BroadcastGradientArgs:\nIn[0] gradient_tape/mean_absolute_error/sub/Shape:\t\nIn[1] gradient_tape/mean_absolute_error/sub/Shape_1:\n\nOperation defined at: (most recent call last)\n>>>   File \"/usr/lib/python3.8/runpy.py\", line 194, in _run_module_as_main\n>>>     return _run_code(code, main_globals, None,\n>>> \n>>>   File \"/usr/lib/python3.8/runpy.py\", line 87, in _run_code\n>>>     exec(code, run_globals)\n>>> \n>>>   File \"/home/maina/Documents/Air Pollution Monitoring/venv/lib/python3.8/site-packages/ipykernel_launcher.py\", line 16, in <module>\n>>>     app.launch_new_instance()\n>>> \n>>>   File \"/home/maina/Documents/Air Pollution Monitoring/venv/lib/python3.8/site-packages/traitlets/config/application.py\", line 846, in launch_instance\n>>>     app.start()\n>>> \n>>>   File \"/home/maina/Documents/Air Pollution Monitoring/venv/lib/python3.8/site-packages/ipykernel/kernelapp.py\", line 677, in start\n>>>     self.io_loop.start()\n>>> \n>>>   File \"/home/maina/Documents/Air Pollution Monitoring/venv/lib/python3.8/site-packages/tornado/platform/asyncio.py\", line 199, in start\n>>>     self.asyncio_loop.run_forever()\n>>> \n>>>   File \"/usr/lib/python3.8/asyncio/base_events.py\", line 570, in run_forever\n>>>     self._run_once()\n>>> \n>>>   File \"/usr/lib/python3.8/asyncio/base_events.py\", line 1859, in _run_once\n>>>     handle._run()\n>>> \n>>>   File \"/usr/lib/python3.8/asyncio/events.py\", line 81, in _run\n>>>     self._context.run(self._callback, *self._args)\n>>> \n>>>   File \"/home/maina/Documents/Air Pollution Monitoring/venv/lib/python3.8/site-packages/ipykernel/kernelbase.py\", line 457, in dispatch_queue\n>>>     await self.process_one()\n>>> \n>>>   File \"/home/maina/Documents/Air Pollution Monitoring/venv/lib/python3.8/site-packages/ipykernel/kernelbase.py\", line 446, in process_one\n>>>     await dispatch(*args)\n>>> \n>>>   File \"/home/maina/Documents/Air Pollution Monitoring/venv/lib/python3.8/site-packages/ipykernel/kernelbase.py\", line 353, in dispatch_shell\n>>>     await result\n>>> \n>>>   File \"/home/maina/Documents/Air Pollution Monitoring/venv/lib/python3.8/site-packages/ipykernel/kernelbase.py\", line 648, in execute_request\n>>>     reply_content = await reply_content\n>>> \n>>>   File \"/home/maina/Documents/Air Pollution Monitoring/venv/lib/python3.8/site-packages/ipykernel/ipkernel.py\", line 353, in do_execute\n>>>     res = shell.run_cell(code, store_history=store_history, silent=silent)\n>>> \n>>>   File \"/home/maina/Documents/Air Pollution Monitoring/venv/lib/python3.8/site-packages/ipykernel/zmqshell.py\", line 533, in run_cell\n>>>     return super(ZMQInteractiveShell, self).run_cell(*args, **kwargs)\n>>> \n>>>   File \"/home/maina/Documents/Air Pollution Monitoring/venv/lib/python3.8/site-packages/IPython/core/interactiveshell.py\", line 2914, in run_cell\n>>>     result = self._run_cell(\n>>> \n>>>   File \"/home/maina/Documents/Air Pollution Monitoring/venv/lib/python3.8/site-packages/IPython/core/interactiveshell.py\", line 2960, in _run_cell\n>>>     return runner(coro)\n>>> \n>>>   File \"/home/maina/Documents/Air Pollution Monitoring/venv/lib/python3.8/site-packages/IPython/core/async_helpers.py\", line 78, in _pseudo_sync_runner\n>>>     coro.send(None)\n>>> \n>>>   File \"/home/maina/Documents/Air Pollution Monitoring/venv/lib/python3.8/site-packages/IPython/core/interactiveshell.py\", line 3185, in run_cell_async\n>>>     has_raised = await self.run_ast_nodes(code_ast.body, cell_name,\n>>> \n>>>   File \"/home/maina/Documents/Air Pollution Monitoring/venv/lib/python3.8/site-packages/IPython/core/interactiveshell.py\", line 3377, in run_ast_nodes\n>>>     if (await self.run_code(code, result,  async_=asy)):\n>>> \n>>>   File \"/home/maina/Documents/Air Pollution Monitoring/venv/lib/python3.8/site-packages/IPython/core/interactiveshell.py\", line 3457, in run_code\n>>>     exec(code_obj, self.user_global_ns, self.user_ns)\n>>> \n>>>   File \"/tmp/ipykernel_81657/1192819614.py\", line 1, in <module>\n>>>     history = model.fit_generator(\n>>> \n>>>   File \"/home/maina/Documents/Air Pollution Monitoring/venv/lib/python3.8/site-packages/keras/engine/training.py\", line 2016, in fit_generator\n>>>     return self.fit(\n>>> \n>>>   File \"/home/maina/Documents/Air Pollution Monitoring/venv/lib/python3.8/site-packages/keras/utils/traceback_utils.py\", line 64, in error_handler\n>>>     return fn(*args, **kwargs)\n>>> \n>>>   File \"/home/maina/Documents/Air Pollution Monitoring/venv/lib/python3.8/site-packages/keras/engine/training.py\", line 1216, in fit\n>>>     tmp_logs = self.train_function(iterator)\n>>> \n>>>   File \"/home/maina/Documents/Air Pollution Monitoring/venv/lib/python3.8/site-packages/keras/engine/training.py\", line 878, in train_function\n>>>     return step_function(self, iterator)\n>>> \n>>>   File \"/home/maina/Documents/Air Pollution Monitoring/venv/lib/python3.8/site-packages/keras/engine/training.py\", line 867, in step_function\n>>>     outputs = model.distribute_strategy.run(run_step, args=(data,))\n>>> \n>>>   File \"/home/maina/Documents/Air Pollution Monitoring/venv/lib/python3.8/site-packages/keras/engine/training.py\", line 860, in run_step\n>>>     outputs = model.train_step(data)\n>>> \n>>>   File \"/home/maina/Documents/Air Pollution Monitoring/venv/lib/python3.8/site-packages/keras/engine/training.py\", line 816, in train_step\n>>>     self.optimizer.minimize(loss, self.trainable_variables, tape=tape)\n>>> \n>>>   File \"/home/maina/Documents/Air Pollution Monitoring/venv/lib/python3.8/site-packages/keras/optimizer_v2/optimizer_v2.py\", line 530, in minimize\n>>>     grads_and_vars = self._compute_gradients(\n>>> \n>>>   File \"/home/maina/Documents/Air Pollution Monitoring/venv/lib/python3.8/site-packages/keras/optimizer_v2/optimizer_v2.py\", line 583, in _compute_gradients\n>>>     grads_and_vars = self._get_gradients(tape, loss, var_list, grad_loss)\n>>> \n>>>   File \"/home/maina/Documents/Air Pollution Monitoring/venv/lib/python3.8/site-packages/keras/optimizer_v2/optimizer_v2.py\", line 464, in _get_gradients\n>>>     grads = tape.gradient(loss, var_list, grad_loss)\n>>> ",
     "output_type": "error",
     "traceback": [
      "\u001b[0;31m---------------------------------------------------------------------------\u001b[0m",
      "\u001b[0;31mInvalidArgumentError\u001b[0m                      Traceback (most recent call last)",
      "\u001b[0;32m/tmp/ipykernel_81657/1192819614.py\u001b[0m in \u001b[0;36m<module>\u001b[0;34m\u001b[0m\n\u001b[0;32m----> 1\u001b[0;31m history = model.fit_generator(\n\u001b[0m\u001b[1;32m      2\u001b[0m     \u001b[0mtrain_generator\u001b[0m\u001b[0;34m,\u001b[0m\u001b[0;34m\u001b[0m\u001b[0;34m\u001b[0m\u001b[0m\n\u001b[1;32m      3\u001b[0m     \u001b[0mepochs\u001b[0m\u001b[0;34m=\u001b[0m\u001b[0;36m100\u001b[0m\u001b[0;34m,\u001b[0m\u001b[0;34m\u001b[0m\u001b[0;34m\u001b[0m\u001b[0m\n\u001b[1;32m      4\u001b[0m     \u001b[0mvalidation_data\u001b[0m\u001b[0;34m=\u001b[0m\u001b[0mtest_generator\u001b[0m\u001b[0;34m,\u001b[0m\u001b[0;34m\u001b[0m\u001b[0;34m\u001b[0m\u001b[0m\n\u001b[1;32m      5\u001b[0m     \u001b[0mshuffle\u001b[0m\u001b[0;34m=\u001b[0m\u001b[0;32mFalse\u001b[0m\u001b[0;34m,\u001b[0m\u001b[0;34m\u001b[0m\u001b[0;34m\u001b[0m\u001b[0m\n",
      "\u001b[0;32m~/Documents/Air Pollution Monitoring/venv/lib/python3.8/site-packages/keras/engine/training.py\u001b[0m in \u001b[0;36mfit_generator\u001b[0;34m(self, generator, steps_per_epoch, epochs, verbose, callbacks, validation_data, validation_steps, validation_freq, class_weight, max_queue_size, workers, use_multiprocessing, shuffle, initial_epoch)\u001b[0m\n\u001b[1;32m   2014\u001b[0m         \u001b[0;34m'Please use `Model.fit`, which supports generators.'\u001b[0m\u001b[0;34m,\u001b[0m\u001b[0;34m\u001b[0m\u001b[0;34m\u001b[0m\u001b[0m\n\u001b[1;32m   2015\u001b[0m         stacklevel=2)\n\u001b[0;32m-> 2016\u001b[0;31m     return self.fit(\n\u001b[0m\u001b[1;32m   2017\u001b[0m         \u001b[0mgenerator\u001b[0m\u001b[0;34m,\u001b[0m\u001b[0;34m\u001b[0m\u001b[0;34m\u001b[0m\u001b[0m\n\u001b[1;32m   2018\u001b[0m         \u001b[0msteps_per_epoch\u001b[0m\u001b[0;34m=\u001b[0m\u001b[0msteps_per_epoch\u001b[0m\u001b[0;34m,\u001b[0m\u001b[0;34m\u001b[0m\u001b[0;34m\u001b[0m\u001b[0m\n",
      "\u001b[0;32m~/Documents/Air Pollution Monitoring/venv/lib/python3.8/site-packages/keras/utils/traceback_utils.py\u001b[0m in \u001b[0;36merror_handler\u001b[0;34m(*args, **kwargs)\u001b[0m\n\u001b[1;32m     65\u001b[0m     \u001b[0;32mexcept\u001b[0m \u001b[0mException\u001b[0m \u001b[0;32mas\u001b[0m \u001b[0me\u001b[0m\u001b[0;34m:\u001b[0m  \u001b[0;31m# pylint: disable=broad-except\u001b[0m\u001b[0;34m\u001b[0m\u001b[0;34m\u001b[0m\u001b[0m\n\u001b[1;32m     66\u001b[0m       \u001b[0mfiltered_tb\u001b[0m \u001b[0;34m=\u001b[0m \u001b[0m_process_traceback_frames\u001b[0m\u001b[0;34m(\u001b[0m\u001b[0me\u001b[0m\u001b[0;34m.\u001b[0m\u001b[0m__traceback__\u001b[0m\u001b[0;34m)\u001b[0m\u001b[0;34m\u001b[0m\u001b[0;34m\u001b[0m\u001b[0m\n\u001b[0;32m---> 67\u001b[0;31m       \u001b[0;32mraise\u001b[0m \u001b[0me\u001b[0m\u001b[0;34m.\u001b[0m\u001b[0mwith_traceback\u001b[0m\u001b[0;34m(\u001b[0m\u001b[0mfiltered_tb\u001b[0m\u001b[0;34m)\u001b[0m \u001b[0;32mfrom\u001b[0m \u001b[0;32mNone\u001b[0m\u001b[0;34m\u001b[0m\u001b[0;34m\u001b[0m\u001b[0m\n\u001b[0m\u001b[1;32m     68\u001b[0m     \u001b[0;32mfinally\u001b[0m\u001b[0;34m:\u001b[0m\u001b[0;34m\u001b[0m\u001b[0;34m\u001b[0m\u001b[0m\n\u001b[1;32m     69\u001b[0m       \u001b[0;32mdel\u001b[0m \u001b[0mfiltered_tb\u001b[0m\u001b[0;34m\u001b[0m\u001b[0;34m\u001b[0m\u001b[0m\n",
      "\u001b[0;32m~/Documents/Air Pollution Monitoring/venv/lib/python3.8/site-packages/tensorflow/python/eager/execute.py\u001b[0m in \u001b[0;36mquick_execute\u001b[0;34m(op_name, num_outputs, inputs, attrs, ctx, name)\u001b[0m\n\u001b[1;32m     56\u001b[0m   \u001b[0;32mtry\u001b[0m\u001b[0;34m:\u001b[0m\u001b[0;34m\u001b[0m\u001b[0;34m\u001b[0m\u001b[0m\n\u001b[1;32m     57\u001b[0m     \u001b[0mctx\u001b[0m\u001b[0;34m.\u001b[0m\u001b[0mensure_initialized\u001b[0m\u001b[0;34m(\u001b[0m\u001b[0;34m)\u001b[0m\u001b[0;34m\u001b[0m\u001b[0;34m\u001b[0m\u001b[0m\n\u001b[0;32m---> 58\u001b[0;31m     tensors = pywrap_tfe.TFE_Py_Execute(ctx._handle, device_name, op_name,\n\u001b[0m\u001b[1;32m     59\u001b[0m                                         inputs, attrs, num_outputs)\n\u001b[1;32m     60\u001b[0m   \u001b[0;32mexcept\u001b[0m \u001b[0mcore\u001b[0m\u001b[0;34m.\u001b[0m\u001b[0m_NotOkStatusException\u001b[0m \u001b[0;32mas\u001b[0m \u001b[0me\u001b[0m\u001b[0;34m:\u001b[0m\u001b[0;34m\u001b[0m\u001b[0;34m\u001b[0m\u001b[0m\n",
      "\u001b[0;31mInvalidArgumentError\u001b[0m:  Incompatible shapes: [16,5] vs. [16,2]\n\t [[node gradient_tape/mean_absolute_error/sub/BroadcastGradientArgs\n (defined at /home/maina/Documents/Air Pollution Monitoring/venv/lib/python3.8/site-packages/keras/optimizer_v2/optimizer_v2.py:464)\n]] [Op:__inference_train_function_8063]\n\nErrors may have originated from an input operation.\nInput Source operations connected to node gradient_tape/mean_absolute_error/sub/BroadcastGradientArgs:\nIn[0] gradient_tape/mean_absolute_error/sub/Shape:\t\nIn[1] gradient_tape/mean_absolute_error/sub/Shape_1:\n\nOperation defined at: (most recent call last)\n>>>   File \"/usr/lib/python3.8/runpy.py\", line 194, in _run_module_as_main\n>>>     return _run_code(code, main_globals, None,\n>>> \n>>>   File \"/usr/lib/python3.8/runpy.py\", line 87, in _run_code\n>>>     exec(code, run_globals)\n>>> \n>>>   File \"/home/maina/Documents/Air Pollution Monitoring/venv/lib/python3.8/site-packages/ipykernel_launcher.py\", line 16, in <module>\n>>>     app.launch_new_instance()\n>>> \n>>>   File \"/home/maina/Documents/Air Pollution Monitoring/venv/lib/python3.8/site-packages/traitlets/config/application.py\", line 846, in launch_instance\n>>>     app.start()\n>>> \n>>>   File \"/home/maina/Documents/Air Pollution Monitoring/venv/lib/python3.8/site-packages/ipykernel/kernelapp.py\", line 677, in start\n>>>     self.io_loop.start()\n>>> \n>>>   File \"/home/maina/Documents/Air Pollution Monitoring/venv/lib/python3.8/site-packages/tornado/platform/asyncio.py\", line 199, in start\n>>>     self.asyncio_loop.run_forever()\n>>> \n>>>   File \"/usr/lib/python3.8/asyncio/base_events.py\", line 570, in run_forever\n>>>     self._run_once()\n>>> \n>>>   File \"/usr/lib/python3.8/asyncio/base_events.py\", line 1859, in _run_once\n>>>     handle._run()\n>>> \n>>>   File \"/usr/lib/python3.8/asyncio/events.py\", line 81, in _run\n>>>     self._context.run(self._callback, *self._args)\n>>> \n>>>   File \"/home/maina/Documents/Air Pollution Monitoring/venv/lib/python3.8/site-packages/ipykernel/kernelbase.py\", line 457, in dispatch_queue\n>>>     await self.process_one()\n>>> \n>>>   File \"/home/maina/Documents/Air Pollution Monitoring/venv/lib/python3.8/site-packages/ipykernel/kernelbase.py\", line 446, in process_one\n>>>     await dispatch(*args)\n>>> \n>>>   File \"/home/maina/Documents/Air Pollution Monitoring/venv/lib/python3.8/site-packages/ipykernel/kernelbase.py\", line 353, in dispatch_shell\n>>>     await result\n>>> \n>>>   File \"/home/maina/Documents/Air Pollution Monitoring/venv/lib/python3.8/site-packages/ipykernel/kernelbase.py\", line 648, in execute_request\n>>>     reply_content = await reply_content\n>>> \n>>>   File \"/home/maina/Documents/Air Pollution Monitoring/venv/lib/python3.8/site-packages/ipykernel/ipkernel.py\", line 353, in do_execute\n>>>     res = shell.run_cell(code, store_history=store_history, silent=silent)\n>>> \n>>>   File \"/home/maina/Documents/Air Pollution Monitoring/venv/lib/python3.8/site-packages/ipykernel/zmqshell.py\", line 533, in run_cell\n>>>     return super(ZMQInteractiveShell, self).run_cell(*args, **kwargs)\n>>> \n>>>   File \"/home/maina/Documents/Air Pollution Monitoring/venv/lib/python3.8/site-packages/IPython/core/interactiveshell.py\", line 2914, in run_cell\n>>>     result = self._run_cell(\n>>> \n>>>   File \"/home/maina/Documents/Air Pollution Monitoring/venv/lib/python3.8/site-packages/IPython/core/interactiveshell.py\", line 2960, in _run_cell\n>>>     return runner(coro)\n>>> \n>>>   File \"/home/maina/Documents/Air Pollution Monitoring/venv/lib/python3.8/site-packages/IPython/core/async_helpers.py\", line 78, in _pseudo_sync_runner\n>>>     coro.send(None)\n>>> \n>>>   File \"/home/maina/Documents/Air Pollution Monitoring/venv/lib/python3.8/site-packages/IPython/core/interactiveshell.py\", line 3185, in run_cell_async\n>>>     has_raised = await self.run_ast_nodes(code_ast.body, cell_name,\n>>> \n>>>   File \"/home/maina/Documents/Air Pollution Monitoring/venv/lib/python3.8/site-packages/IPython/core/interactiveshell.py\", line 3377, in run_ast_nodes\n>>>     if (await self.run_code(code, result,  async_=asy)):\n>>> \n>>>   File \"/home/maina/Documents/Air Pollution Monitoring/venv/lib/python3.8/site-packages/IPython/core/interactiveshell.py\", line 3457, in run_code\n>>>     exec(code_obj, self.user_global_ns, self.user_ns)\n>>> \n>>>   File \"/tmp/ipykernel_81657/1192819614.py\", line 1, in <module>\n>>>     history = model.fit_generator(\n>>> \n>>>   File \"/home/maina/Documents/Air Pollution Monitoring/venv/lib/python3.8/site-packages/keras/engine/training.py\", line 2016, in fit_generator\n>>>     return self.fit(\n>>> \n>>>   File \"/home/maina/Documents/Air Pollution Monitoring/venv/lib/python3.8/site-packages/keras/utils/traceback_utils.py\", line 64, in error_handler\n>>>     return fn(*args, **kwargs)\n>>> \n>>>   File \"/home/maina/Documents/Air Pollution Monitoring/venv/lib/python3.8/site-packages/keras/engine/training.py\", line 1216, in fit\n>>>     tmp_logs = self.train_function(iterator)\n>>> \n>>>   File \"/home/maina/Documents/Air Pollution Monitoring/venv/lib/python3.8/site-packages/keras/engine/training.py\", line 878, in train_function\n>>>     return step_function(self, iterator)\n>>> \n>>>   File \"/home/maina/Documents/Air Pollution Monitoring/venv/lib/python3.8/site-packages/keras/engine/training.py\", line 867, in step_function\n>>>     outputs = model.distribute_strategy.run(run_step, args=(data,))\n>>> \n>>>   File \"/home/maina/Documents/Air Pollution Monitoring/venv/lib/python3.8/site-packages/keras/engine/training.py\", line 860, in run_step\n>>>     outputs = model.train_step(data)\n>>> \n>>>   File \"/home/maina/Documents/Air Pollution Monitoring/venv/lib/python3.8/site-packages/keras/engine/training.py\", line 816, in train_step\n>>>     self.optimizer.minimize(loss, self.trainable_variables, tape=tape)\n>>> \n>>>   File \"/home/maina/Documents/Air Pollution Monitoring/venv/lib/python3.8/site-packages/keras/optimizer_v2/optimizer_v2.py\", line 530, in minimize\n>>>     grads_and_vars = self._compute_gradients(\n>>> \n>>>   File \"/home/maina/Documents/Air Pollution Monitoring/venv/lib/python3.8/site-packages/keras/optimizer_v2/optimizer_v2.py\", line 583, in _compute_gradients\n>>>     grads_and_vars = self._get_gradients(tape, loss, var_list, grad_loss)\n>>> \n>>>   File \"/home/maina/Documents/Air Pollution Monitoring/venv/lib/python3.8/site-packages/keras/optimizer_v2/optimizer_v2.py\", line 464, in _get_gradients\n>>>     grads = tape.gradient(loss, var_list, grad_loss)\n>>> "
     ]
    }
   ],
   "source": [
    "history = model.fit_generator(\n",
    "    train_generator, \n",
    "    epochs=100,\n",
    "    validation_data=test_generator,\n",
    "    shuffle=False,\n",
    "    callbacks=[early_stopping]\n",
    "                             )"
   ]
  },
  {
   "cell_type": "code",
   "execution_count": null,
   "id": "a8cd0c08",
   "metadata": {},
   "outputs": [],
   "source": [
    "model.evaluate()"
   ]
  }
 ],
 "metadata": {
  "kernelspec": {
   "display_name": "Python 3 (ipykernel)",
   "language": "python",
   "name": "python3"
  },
  "language_info": {
   "codemirror_mode": {
    "name": "ipython",
    "version": 3
   },
   "file_extension": ".py",
   "mimetype": "text/x-python",
   "name": "python",
   "nbconvert_exporter": "python",
   "pygments_lexer": "ipython3",
   "version": "3.8.10"
  }
 },
 "nbformat": 4,
 "nbformat_minor": 5
}
