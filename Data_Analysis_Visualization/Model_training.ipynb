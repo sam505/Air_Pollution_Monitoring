{
 "cells": [
  {
   "cell_type": "code",
   "execution_count": 1,
   "id": "a5490094",
   "metadata": {},
   "outputs": [
    {
     "name": "stderr",
     "output_type": "stream",
     "text": [
      "2022-01-12 23:26:14.263770: W tensorflow/stream_executor/platform/default/dso_loader.cc:64] Could not load dynamic library 'libcudart.so.11.0'; dlerror: libcudart.so.11.0: cannot open shared object file: No such file or directory\n",
      "2022-01-12 23:26:14.263795: I tensorflow/stream_executor/cuda/cudart_stub.cc:29] Ignore above cudart dlerror if you do not have a GPU set up on your machine.\n"
     ]
    }
   ],
   "source": [
    "# Import necessary packages\n",
    "import os\n",
    "import sklearn\n",
    "import pandas as pd\n",
    "import numpy as np\n",
    "import matplotlib.pyplot as plt\n",
    "from dateutil.parser import parse\n",
    "import tensorflow as tf\n",
    "from sklearn.preprocessing import MinMaxScaler\n",
    "from sklearn.model_selection import train_test_split\n",
    "from tensorflow.keras.preprocessing.sequence import TimeseriesGenerator\n",
    "from tensorflow.keras import Sequential\n",
    "from tensorflow.keras.layers import LSTM, LeakyReLU, Dropout, Dense\n",
    "from tensorflow.keras.callbacks import EarlyStopping\n",
    "\n",
    "os.chdir(\"/home/maina/Documents/Air Pollution Monitoring\")\n",
    "\n",
    "# import data_retrival and analysis functions\n",
    "from data_analysis import *"
   ]
  },
  {
   "cell_type": "code",
   "execution_count": 2,
   "id": "d511d8fd",
   "metadata": {},
   "outputs": [
    {
     "data": {
      "text/html": [
       "<div>\n",
       "<style scoped>\n",
       "    .dataframe tbody tr th:only-of-type {\n",
       "        vertical-align: middle;\n",
       "    }\n",
       "\n",
       "    .dataframe tbody tr th {\n",
       "        vertical-align: top;\n",
       "    }\n",
       "\n",
       "    .dataframe thead th {\n",
       "        text-align: right;\n",
       "    }\n",
       "</style>\n",
       "<table border=\"1\" class=\"dataframe\">\n",
       "  <thead>\n",
       "    <tr style=\"text-align: right;\">\n",
       "      <th></th>\n",
       "      <th>timestamp</th>\n",
       "      <th>mq7</th>\n",
       "      <th>mq135</th>\n",
       "      <th>temperature</th>\n",
       "      <th>humidity</th>\n",
       "    </tr>\n",
       "  </thead>\n",
       "  <tbody>\n",
       "    <tr>\n",
       "      <th>0</th>\n",
       "      <td>1639922725</td>\n",
       "      <td>162.0</td>\n",
       "      <td>39.0</td>\n",
       "      <td>24.1</td>\n",
       "      <td>73.0</td>\n",
       "    </tr>\n",
       "    <tr>\n",
       "      <th>1</th>\n",
       "      <td>1639923325</td>\n",
       "      <td>135.0</td>\n",
       "      <td>38.0</td>\n",
       "      <td>23.9</td>\n",
       "      <td>75.0</td>\n",
       "    </tr>\n",
       "    <tr>\n",
       "      <th>2</th>\n",
       "      <td>1639923927</td>\n",
       "      <td>118.0</td>\n",
       "      <td>36.0</td>\n",
       "      <td>24.0</td>\n",
       "      <td>72.0</td>\n",
       "    </tr>\n",
       "    <tr>\n",
       "      <th>3</th>\n",
       "      <td>1639924555</td>\n",
       "      <td>109.0</td>\n",
       "      <td>39.0</td>\n",
       "      <td>24.4</td>\n",
       "      <td>73.0</td>\n",
       "    </tr>\n",
       "    <tr>\n",
       "      <th>4</th>\n",
       "      <td>1639925428</td>\n",
       "      <td>102.0</td>\n",
       "      <td>42.0</td>\n",
       "      <td>24.2</td>\n",
       "      <td>74.0</td>\n",
       "    </tr>\n",
       "    <tr>\n",
       "      <th>5</th>\n",
       "      <td>1639926056</td>\n",
       "      <td>100.0</td>\n",
       "      <td>42.0</td>\n",
       "      <td>24.2</td>\n",
       "      <td>76.0</td>\n",
       "    </tr>\n",
       "    <tr>\n",
       "      <th>6</th>\n",
       "      <td>1639926658</td>\n",
       "      <td>97.0</td>\n",
       "      <td>40.0</td>\n",
       "      <td>24.2</td>\n",
       "      <td>75.0</td>\n",
       "    </tr>\n",
       "    <tr>\n",
       "      <th>7</th>\n",
       "      <td>1639927411</td>\n",
       "      <td>96.0</td>\n",
       "      <td>37.0</td>\n",
       "      <td>24.0</td>\n",
       "      <td>77.0</td>\n",
       "    </tr>\n",
       "    <tr>\n",
       "      <th>8</th>\n",
       "      <td>1639928191</td>\n",
       "      <td>92.0</td>\n",
       "      <td>37.0</td>\n",
       "      <td>23.9</td>\n",
       "      <td>77.0</td>\n",
       "    </tr>\n",
       "    <tr>\n",
       "      <th>9</th>\n",
       "      <td>1639928791</td>\n",
       "      <td>92.0</td>\n",
       "      <td>37.0</td>\n",
       "      <td>23.9</td>\n",
       "      <td>77.0</td>\n",
       "    </tr>\n",
       "  </tbody>\n",
       "</table>\n",
       "</div>"
      ],
      "text/plain": [
       "    timestamp    mq7  mq135  temperature  humidity\n",
       "0  1639922725  162.0   39.0         24.1      73.0\n",
       "1  1639923325  135.0   38.0         23.9      75.0\n",
       "2  1639923927  118.0   36.0         24.0      72.0\n",
       "3  1639924555  109.0   39.0         24.4      73.0\n",
       "4  1639925428  102.0   42.0         24.2      74.0\n",
       "5  1639926056  100.0   42.0         24.2      76.0\n",
       "6  1639926658   97.0   40.0         24.2      75.0\n",
       "7  1639927411   96.0   37.0         24.0      77.0\n",
       "8  1639928191   92.0   37.0         23.9      77.0\n",
       "9  1639928791   92.0   37.0         23.9      77.0"
      ]
     },
     "execution_count": 2,
     "metadata": {},
     "output_type": "execute_result"
    }
   ],
   "source": [
    "# Gets the data from firebase, process it and store it in a csv file\n",
    "filepath = read_data()\n",
    "\n",
    "# Read the dataset as a pandas dataframe\n",
    "df = pd.read_csv(filepath)\n",
    "\n",
    "# Display the first 10 rows\n",
    "df.head(10)"
   ]
  },
  {
   "cell_type": "code",
   "execution_count": 3,
   "id": "5fd83acc",
   "metadata": {
    "scrolled": true
   },
   "outputs": [
    {
     "data": {
      "text/html": [
       "<div>\n",
       "<style scoped>\n",
       "    .dataframe tbody tr th:only-of-type {\n",
       "        vertical-align: middle;\n",
       "    }\n",
       "\n",
       "    .dataframe tbody tr th {\n",
       "        vertical-align: top;\n",
       "    }\n",
       "\n",
       "    .dataframe thead th {\n",
       "        text-align: right;\n",
       "    }\n",
       "</style>\n",
       "<table border=\"1\" class=\"dataframe\">\n",
       "  <thead>\n",
       "    <tr style=\"text-align: right;\">\n",
       "      <th></th>\n",
       "      <th>timestamp</th>\n",
       "      <th>mq7</th>\n",
       "      <th>mq135</th>\n",
       "      <th>temperature</th>\n",
       "      <th>humidity</th>\n",
       "    </tr>\n",
       "  </thead>\n",
       "  <tbody>\n",
       "    <tr>\n",
       "      <th>0</th>\n",
       "      <td>2021-12-19 14:05:25+03:00</td>\n",
       "      <td>162.0</td>\n",
       "      <td>39.0</td>\n",
       "      <td>24.1</td>\n",
       "      <td>73.0</td>\n",
       "    </tr>\n",
       "    <tr>\n",
       "      <th>1</th>\n",
       "      <td>2021-12-19 14:15:25+03:00</td>\n",
       "      <td>135.0</td>\n",
       "      <td>38.0</td>\n",
       "      <td>23.9</td>\n",
       "      <td>75.0</td>\n",
       "    </tr>\n",
       "    <tr>\n",
       "      <th>2</th>\n",
       "      <td>2021-12-19 14:25:27+03:00</td>\n",
       "      <td>118.0</td>\n",
       "      <td>36.0</td>\n",
       "      <td>24.0</td>\n",
       "      <td>72.0</td>\n",
       "    </tr>\n",
       "    <tr>\n",
       "      <th>3</th>\n",
       "      <td>2021-12-19 14:35:55+03:00</td>\n",
       "      <td>109.0</td>\n",
       "      <td>39.0</td>\n",
       "      <td>24.4</td>\n",
       "      <td>73.0</td>\n",
       "    </tr>\n",
       "    <tr>\n",
       "      <th>4</th>\n",
       "      <td>2021-12-19 14:50:28+03:00</td>\n",
       "      <td>102.0</td>\n",
       "      <td>42.0</td>\n",
       "      <td>24.2</td>\n",
       "      <td>74.0</td>\n",
       "    </tr>\n",
       "  </tbody>\n",
       "</table>\n",
       "</div>"
      ],
      "text/plain": [
       "                  timestamp    mq7  mq135  temperature  humidity\n",
       "0 2021-12-19 14:05:25+03:00  162.0   39.0         24.1      73.0\n",
       "1 2021-12-19 14:15:25+03:00  135.0   38.0         23.9      75.0\n",
       "2 2021-12-19 14:25:27+03:00  118.0   36.0         24.0      72.0\n",
       "3 2021-12-19 14:35:55+03:00  109.0   39.0         24.4      73.0\n",
       "4 2021-12-19 14:50:28+03:00  102.0   42.0         24.2      74.0"
      ]
     },
     "execution_count": 3,
     "metadata": {},
     "output_type": "execute_result"
    }
   ],
   "source": [
    "# Converting the unix time stamp to datetime format\n",
    "df[\"timestamp\"] = pd.to_datetime(df['timestamp'], unit='s')\n",
    "df[\"timestamp\"] = df[\"timestamp\"].dt.tz_localize('Africa/Nairobi')\n",
    "df.head()"
   ]
  },
  {
   "cell_type": "code",
   "execution_count": 4,
   "id": "0517ebae",
   "metadata": {},
   "outputs": [
    {
     "data": {
      "text/html": [
       "<div>\n",
       "<style scoped>\n",
       "    .dataframe tbody tr th:only-of-type {\n",
       "        vertical-align: middle;\n",
       "    }\n",
       "\n",
       "    .dataframe tbody tr th {\n",
       "        vertical-align: top;\n",
       "    }\n",
       "\n",
       "    .dataframe thead th {\n",
       "        text-align: right;\n",
       "    }\n",
       "</style>\n",
       "<table border=\"1\" class=\"dataframe\">\n",
       "  <thead>\n",
       "    <tr style=\"text-align: right;\">\n",
       "      <th></th>\n",
       "      <th>mq7</th>\n",
       "      <th>mq135</th>\n",
       "      <th>temperature</th>\n",
       "      <th>humidity</th>\n",
       "    </tr>\n",
       "    <tr>\n",
       "      <th>timestamp</th>\n",
       "      <th></th>\n",
       "      <th></th>\n",
       "      <th></th>\n",
       "      <th></th>\n",
       "    </tr>\n",
       "  </thead>\n",
       "  <tbody>\n",
       "    <tr>\n",
       "      <th>2021-12-19 14:00:00+03:00</th>\n",
       "      <td>125.200000</td>\n",
       "      <td>38.800000</td>\n",
       "      <td>24.120000</td>\n",
       "      <td>73.400000</td>\n",
       "    </tr>\n",
       "    <tr>\n",
       "      <th>2021-12-19 15:00:00+03:00</th>\n",
       "      <td>95.000000</td>\n",
       "      <td>38.500000</td>\n",
       "      <td>23.983333</td>\n",
       "      <td>76.666667</td>\n",
       "    </tr>\n",
       "    <tr>\n",
       "      <th>2021-12-19 16:00:00+03:00</th>\n",
       "      <td>90.166667</td>\n",
       "      <td>36.166667</td>\n",
       "      <td>23.266667</td>\n",
       "      <td>77.666667</td>\n",
       "    </tr>\n",
       "    <tr>\n",
       "      <th>2021-12-19 17:00:00+03:00</th>\n",
       "      <td>97.200000</td>\n",
       "      <td>39.800000</td>\n",
       "      <td>23.240000</td>\n",
       "      <td>78.400000</td>\n",
       "    </tr>\n",
       "    <tr>\n",
       "      <th>2021-12-19 18:00:00+03:00</th>\n",
       "      <td>95.500000</td>\n",
       "      <td>39.500000</td>\n",
       "      <td>23.233333</td>\n",
       "      <td>79.833333</td>\n",
       "    </tr>\n",
       "  </tbody>\n",
       "</table>\n",
       "</div>"
      ],
      "text/plain": [
       "                                  mq7      mq135  temperature   humidity\n",
       "timestamp                                                               \n",
       "2021-12-19 14:00:00+03:00  125.200000  38.800000    24.120000  73.400000\n",
       "2021-12-19 15:00:00+03:00   95.000000  38.500000    23.983333  76.666667\n",
       "2021-12-19 16:00:00+03:00   90.166667  36.166667    23.266667  77.666667\n",
       "2021-12-19 17:00:00+03:00   97.200000  39.800000    23.240000  78.400000\n",
       "2021-12-19 18:00:00+03:00   95.500000  39.500000    23.233333  79.833333"
      ]
     },
     "execution_count": 4,
     "metadata": {},
     "output_type": "execute_result"
    }
   ],
   "source": [
    "# Resapmle dataset hourly using mean\n",
    "raw_df = df.set_index(\"timestamp\")\n",
    "df = raw_df.resample(rule='H').mean()\n",
    "df.head()"
   ]
  },
  {
   "cell_type": "code",
   "execution_count": 5,
   "id": "019aadaf",
   "metadata": {},
   "outputs": [
    {
     "data": {
      "text/plain": [
       "mq7            0\n",
       "mq135          0\n",
       "temperature    0\n",
       "humidity       0\n",
       "dtype: int64"
      ]
     },
     "execution_count": 5,
     "metadata": {},
     "output_type": "execute_result"
    }
   ],
   "source": [
    "# Check if there are any missing values in the dataset\n",
    "df.isnull().sum()"
   ]
  },
  {
   "cell_type": "code",
   "execution_count": 6,
   "id": "6331076f",
   "metadata": {
    "scrolled": true
   },
   "outputs": [
    {
     "data": {
      "text/html": [
       "<div>\n",
       "<style scoped>\n",
       "    .dataframe tbody tr th:only-of-type {\n",
       "        vertical-align: middle;\n",
       "    }\n",
       "\n",
       "    .dataframe tbody tr th {\n",
       "        vertical-align: top;\n",
       "    }\n",
       "\n",
       "    .dataframe thead th {\n",
       "        text-align: right;\n",
       "    }\n",
       "</style>\n",
       "<table border=\"1\" class=\"dataframe\">\n",
       "  <thead>\n",
       "    <tr style=\"text-align: right;\">\n",
       "      <th></th>\n",
       "      <th>mq7</th>\n",
       "      <th>mq135</th>\n",
       "      <th>temperature</th>\n",
       "      <th>humidity</th>\n",
       "    </tr>\n",
       "  </thead>\n",
       "  <tbody>\n",
       "    <tr>\n",
       "      <th>count</th>\n",
       "      <td>352.000000</td>\n",
       "      <td>352.000000</td>\n",
       "      <td>352.000000</td>\n",
       "      <td>352.000000</td>\n",
       "    </tr>\n",
       "    <tr>\n",
       "      <th>mean</th>\n",
       "      <td>87.077023</td>\n",
       "      <td>42.029334</td>\n",
       "      <td>24.492894</td>\n",
       "      <td>62.310476</td>\n",
       "    </tr>\n",
       "    <tr>\n",
       "      <th>std</th>\n",
       "      <td>13.675241</td>\n",
       "      <td>7.418984</td>\n",
       "      <td>2.496454</td>\n",
       "      <td>10.194331</td>\n",
       "    </tr>\n",
       "    <tr>\n",
       "      <th>min</th>\n",
       "      <td>51.750000</td>\n",
       "      <td>27.833333</td>\n",
       "      <td>21.012821</td>\n",
       "      <td>29.800000</td>\n",
       "    </tr>\n",
       "    <tr>\n",
       "      <th>25%</th>\n",
       "      <td>79.437500</td>\n",
       "      <td>38.250000</td>\n",
       "      <td>22.991667</td>\n",
       "      <td>58.005357</td>\n",
       "    </tr>\n",
       "    <tr>\n",
       "      <th>50%</th>\n",
       "      <td>84.400000</td>\n",
       "      <td>40.200000</td>\n",
       "      <td>23.837500</td>\n",
       "      <td>66.055000</td>\n",
       "    </tr>\n",
       "    <tr>\n",
       "      <th>75%</th>\n",
       "      <td>91.312500</td>\n",
       "      <td>43.350000</td>\n",
       "      <td>25.227841</td>\n",
       "      <td>67.862672</td>\n",
       "    </tr>\n",
       "    <tr>\n",
       "      <th>max</th>\n",
       "      <td>153.166667</td>\n",
       "      <td>88.500000</td>\n",
       "      <td>34.000000</td>\n",
       "      <td>81.333333</td>\n",
       "    </tr>\n",
       "  </tbody>\n",
       "</table>\n",
       "</div>"
      ],
      "text/plain": [
       "              mq7       mq135  temperature    humidity\n",
       "count  352.000000  352.000000   352.000000  352.000000\n",
       "mean    87.077023   42.029334    24.492894   62.310476\n",
       "std     13.675241    7.418984     2.496454   10.194331\n",
       "min     51.750000   27.833333    21.012821   29.800000\n",
       "25%     79.437500   38.250000    22.991667   58.005357\n",
       "50%     84.400000   40.200000    23.837500   66.055000\n",
       "75%     91.312500   43.350000    25.227841   67.862672\n",
       "max    153.166667   88.500000    34.000000   81.333333"
      ]
     },
     "execution_count": 6,
     "metadata": {},
     "output_type": "execute_result"
    }
   ],
   "source": [
    "# Statistical summary of the dataset columns\n",
    "df.describe()"
   ]
  },
  {
   "cell_type": "code",
   "execution_count": 7,
   "id": "9eac89dc",
   "metadata": {},
   "outputs": [
    {
     "data": {
      "text/plain": [
       "array([<AxesSubplot:xlabel='timestamp'>, <AxesSubplot:xlabel='timestamp'>,\n",
       "       <AxesSubplot:xlabel='timestamp'>, <AxesSubplot:xlabel='timestamp'>],\n",
       "      dtype=object)"
      ]
     },
     "execution_count": 7,
     "metadata": {},
     "output_type": "execute_result"
    },
    {
     "data": {
      "image/png": "[encoded data removed]",
      "text/plain": [
       "<Figure size 432x288 with 4 Axes>"
      ]
     },
     "metadata": {
      "needs_background": "light"
     },
     "output_type": "display_data"
    }
   ],
   "source": [
    "# plot the values against time\n",
    "df[[\"mq7\", \"mq135\", \"temperature\", \"humidity\"]].plot(subplots=True, title=\"Dataset Column Values aganist Time\")"
   ]
  },
  {
   "cell_type": "code",
   "execution_count": 8,
   "id": "44dc4280",
   "metadata": {},
   "outputs": [],
   "source": [
    "scaler = MinMaxScaler()\n",
    "df.reset_index(inplace=True)\n",
    "scaled_data = scaler.fit_transform(df.drop(\"timestamp\", axis=1))"
   ]
  },
  {
   "cell_type": "code",
   "execution_count": 9,
   "id": "ccb8e034",
   "metadata": {},
   "outputs": [
    {
     "name": "stdout",
     "output_type": "stream",
     "text": [
      "(352, 4) (352,) (352,)\n"
     ]
    }
   ],
   "source": [
    "x = scaled_data\n",
    "y = scaled_data[:,0]\n",
    "y1 = scaled_data[:,1]\n",
    "\n",
    "\n",
    "print(x.shape, y.shape, y1.shape)"
   ]
  },
  {
   "cell_type": "code",
   "execution_count": 10,
   "id": "1efe7407",
   "metadata": {
    "scrolled": true
   },
   "outputs": [],
   "source": [
    "x_train, x_test, y_train, y_test = train_test_split(x, y, test_size=0.2, random_state=456, shuffle=False)\n",
    "x_train1, x_test1, y_train1, y_test1 = train_test_split(x, y1, test_size=0.2, random_state=456, shuffle=False)"
   ]
  },
  {
   "cell_type": "code",
   "execution_count": 11,
   "id": "6585715c",
   "metadata": {
    "scrolled": false
   },
   "outputs": [],
   "source": [
    "window_length = 6\n",
    "num_features = 4\n",
    "batch_size = 16\n",
    "train_generator = TimeseriesGenerator(x_train, y_train, length=window_length, sampling_rate=1, batch_size=batch_size)\n",
    "test_generator = TimeseriesGenerator(x_test, y_test, length=window_length, sampling_rate=1, batch_size=batch_size)\n",
    "\n",
    "train_generator1 = TimeseriesGenerator(x_train1, y_train1, length=window_length, sampling_rate=1, batch_size=batch_size)\n",
    "test_generator1 = TimeseriesGenerator(x_test1, y_test1, length=window_length, sampling_rate=1, batch_size=batch_size)"
   ]
  },
  {
   "cell_type": "code",
   "execution_count": 12,
   "id": "3b4138c8",
   "metadata": {},
   "outputs": [],
   "source": [
    "def make_model():\n",
    "    model = Sequential()\n",
    "    model.add(LSTM(128, input_shape=(window_length, num_features), return_sequences=True))\n",
    "    model.add(LeakyReLU(alpha=0.5))\n",
    "    model.add(LSTM(128, return_sequences=True))\n",
    "    model.add(LeakyReLU(alpha=0.5))\n",
    "    model.add(Dropout(0.5))\n",
    "    model.add(LSTM(64, return_sequences=True))\n",
    "    model.add(Dropout(0.3))\n",
    "    model.add(Dense(1))\n",
    "\n",
    "    model.summary()\n",
    "    return model"
   ]
  },
  {
   "cell_type": "code",
   "execution_count": 13,
   "id": "48e30d44",
   "metadata": {},
   "outputs": [
    {
     "name": "stderr",
     "output_type": "stream",
     "text": [
      "2022-01-12 23:26:18.566007: W tensorflow/stream_executor/platform/default/dso_loader.cc:64] Could not load dynamic library 'libcuda.so.1'; dlerror: libcuda.so.1: cannot open shared object file: No such file or directory\n",
      "2022-01-12 23:26:18.566034: W tensorflow/stream_executor/cuda/cuda_driver.cc:269] failed call to cuInit: UNKNOWN ERROR (303)\n",
      "2022-01-12 23:26:18.566054: I tensorflow/stream_executor/cuda/cuda_diagnostics.cc:156] kernel driver does not appear to be running on this host (Pavilion): /proc/driver/nvidia/version does not exist\n",
      "2022-01-12 23:26:18.566266: I tensorflow/core/platform/cpu_feature_guard.cc:151] This TensorFlow binary is optimized with oneAPI Deep Neural Network Library (oneDNN) to use the following CPU instructions in performance-critical operations:  AVX2 FMA\n",
      "To enable them in other operations, rebuild TensorFlow with the appropriate compiler flags.\n"
     ]
    },
    {
     "name": "stdout",
     "output_type": "stream",
     "text": [
      "Model: \"sequential\"\n",
      "_________________________________________________________________\n",
      " Layer (type)                Output Shape              Param #   \n",
      "=================================================================\n",
      " lstm (LSTM)                 (None, 6, 128)            68096     \n",
      "                                                                 \n",
      " leaky_re_lu (LeakyReLU)     (None, 6, 128)            0         \n",
      "                                                                 \n",
      " lstm_1 (LSTM)               (None, 6, 128)            131584    \n",
      "                                                                 \n",
      " leaky_re_lu_1 (LeakyReLU)   (None, 6, 128)            0         \n",
      "                                                                 \n",
      " dropout (Dropout)           (None, 6, 128)            0         \n",
      "                                                                 \n",
      " lstm_2 (LSTM)               (None, 6, 64)             49408     \n",
      "                                                                 \n",
      " dropout_1 (Dropout)         (None, 6, 64)             0         \n",
      "                                                                 \n",
      " dense (Dense)               (None, 6, 1)              65        \n",
      "                                                                 \n",
      "=================================================================\n",
      "Total params: 249,153\n",
      "Trainable params: 249,153\n",
      "Non-trainable params: 0\n",
      "_________________________________________________________________\n"
     ]
    }
   ],
   "source": [
    "early_stopping = EarlyStopping(\n",
    "    monitor=\"val_loss\",\n",
    "    patience=3,\n",
    "    mode=\"min\"\n",
    "                              )\n",
    "mq7_model = make_model()\n",
    "mq7_model.compile(optimizer=\"Adam\", loss=\"mse\", metrics=[\"mae\"])"
   ]
  },
  {
   "cell_type": "code",
   "execution_count": 14,
   "id": "60d4d773",
   "metadata": {},
   "outputs": [
    {
     "name": "stdout",
     "output_type": "stream",
     "text": [
      "Model: \"sequential_1\"\n",
      "_________________________________________________________________\n",
      " Layer (type)                Output Shape              Param #   \n",
      "=================================================================\n",
      " lstm_3 (LSTM)               (None, 6, 128)            68096     \n",
      "                                                                 \n",
      " leaky_re_lu_2 (LeakyReLU)   (None, 6, 128)            0         \n",
      "                                                                 \n",
      " lstm_4 (LSTM)               (None, 6, 128)            131584    \n",
      "                                                                 \n",
      " leaky_re_lu_3 (LeakyReLU)   (None, 6, 128)            0         \n",
      "                                                                 \n",
      " dropout_2 (Dropout)         (None, 6, 128)            0         \n",
      "                                                                 \n",
      " lstm_5 (LSTM)               (None, 6, 64)             49408     \n",
      "                                                                 \n",
      " dropout_3 (Dropout)         (None, 6, 64)             0         \n",
      "                                                                 \n",
      " dense_1 (Dense)             (None, 6, 1)              65        \n",
      "                                                                 \n",
      "=================================================================\n",
      "Total params: 249,153\n",
      "Trainable params: 249,153\n",
      "Non-trainable params: 0\n",
      "_________________________________________________________________\n"
     ]
    }
   ],
   "source": [
    "mq135_model = make_model()\n",
    "mq135_model.compile(optimizer=\"Adam\", loss=\"mse\", metrics=[\"mae\"])"
   ]
  },
  {
   "cell_type": "code",
   "execution_count": 15,
   "id": "9d6f7cc2",
   "metadata": {
    "scrolled": true
   },
   "outputs": [
    {
     "name": "stdout",
     "output_type": "stream",
     "text": [
      "Epoch 1/100\n",
      "18/18 [==============================] - 5s 80ms/step - loss: 0.0793 - mae: 0.2365 - val_loss: 0.0357 - val_mae: 0.1512\n",
      "Epoch 2/100\n",
      "18/18 [==============================] - 0s 15ms/step - loss: 0.0420 - mae: 0.1566 - val_loss: 0.0289 - val_mae: 0.1359\n",
      "Epoch 3/100\n",
      "18/18 [==============================] - 0s 15ms/step - loss: 0.0309 - mae: 0.1280 - val_loss: 0.0223 - val_mae: 0.1141\n",
      "Epoch 4/100\n",
      "18/18 [==============================] - 0s 15ms/step - loss: 0.0254 - mae: 0.1144 - val_loss: 0.0208 - val_mae: 0.1102\n",
      "Epoch 5/100\n",
      "18/18 [==============================] - 0s 15ms/step - loss: 0.0232 - mae: 0.1094 - val_loss: 0.0198 - val_mae: 0.1069\n",
      "Epoch 6/100\n",
      "18/18 [==============================] - 0s 15ms/step - loss: 0.0217 - mae: 0.1050 - val_loss: 0.0183 - val_mae: 0.1004\n",
      "Epoch 7/100\n",
      "18/18 [==============================] - 0s 15ms/step - loss: 0.0206 - mae: 0.1012 - val_loss: 0.0176 - val_mae: 0.0976\n",
      "Epoch 8/100\n",
      "18/18 [==============================] - 0s 15ms/step - loss: 0.0197 - mae: 0.0982 - val_loss: 0.0169 - val_mae: 0.0943\n",
      "Epoch 9/100\n",
      "18/18 [==============================] - 0s 16ms/step - loss: 0.0187 - mae: 0.0948 - val_loss: 0.0168 - val_mae: 0.0940\n",
      "Epoch 10/100\n",
      "18/18 [==============================] - 0s 15ms/step - loss: 0.0182 - mae: 0.0934 - val_loss: 0.0163 - val_mae: 0.0922\n",
      "Epoch 11/100\n",
      "18/18 [==============================] - 0s 14ms/step - loss: 0.0179 - mae: 0.0926 - val_loss: 0.0158 - val_mae: 0.0901\n",
      "Epoch 12/100\n",
      "18/18 [==============================] - 0s 15ms/step - loss: 0.0179 - mae: 0.0922 - val_loss: 0.0159 - val_mae: 0.0908\n",
      "Epoch 13/100\n",
      "18/18 [==============================] - 0s 15ms/step - loss: 0.0176 - mae: 0.0916 - val_loss: 0.0157 - val_mae: 0.0902\n",
      "Epoch 14/100\n",
      "18/18 [==============================] - 0s 15ms/step - loss: 0.0176 - mae: 0.0918 - val_loss: 0.0157 - val_mae: 0.0901\n",
      "Epoch 15/100\n",
      "18/18 [==============================] - 0s 14ms/step - loss: 0.0173 - mae: 0.0908 - val_loss: 0.0158 - val_mae: 0.0904\n",
      "Epoch 16/100\n",
      "18/18 [==============================] - 0s 16ms/step - loss: 0.0175 - mae: 0.0913 - val_loss: 0.0159 - val_mae: 0.0912\n",
      "Epoch 17/100\n",
      "18/18 [==============================] - 0s 15ms/step - loss: 0.0174 - mae: 0.0912 - val_loss: 0.0158 - val_mae: 0.0907\n"
     ]
    }
   ],
   "source": [
    "history1 = mq7_model.fit(\n",
    "    train_generator, \n",
    "    epochs=100,\n",
    "    validation_data=test_generator,\n",
    "    shuffle=False,\n",
    "    callbacks=[early_stopping]\n",
    "                             )"
   ]
  },
  {
   "cell_type": "code",
   "execution_count": 16,
   "id": "6a22a99e",
   "metadata": {},
   "outputs": [
    {
     "name": "stdout",
     "output_type": "stream",
     "text": [
      "Epoch 1/100\n",
      "18/18 [==============================] - 5s 72ms/step - loss: 0.0374 - mae: 0.1528 - val_loss: 0.0168 - val_mae: 0.0977\n",
      "Epoch 2/100\n",
      "18/18 [==============================] - 0s 15ms/step - loss: 0.0235 - mae: 0.1047 - val_loss: 0.0160 - val_mae: 0.1000\n",
      "Epoch 3/100\n",
      "18/18 [==============================] - 0s 15ms/step - loss: 0.0210 - mae: 0.0960 - val_loss: 0.0129 - val_mae: 0.0845\n",
      "Epoch 4/100\n",
      "18/18 [==============================] - 0s 16ms/step - loss: 0.0188 - mae: 0.0916 - val_loss: 0.0118 - val_mae: 0.0776\n",
      "Epoch 5/100\n",
      "18/18 [==============================] - 0s 15ms/step - loss: 0.0177 - mae: 0.0877 - val_loss: 0.0118 - val_mae: 0.0798\n",
      "Epoch 6/100\n",
      "18/18 [==============================] - 0s 16ms/step - loss: 0.0175 - mae: 0.0865 - val_loss: 0.0115 - val_mae: 0.0777\n",
      "Epoch 7/100\n",
      "18/18 [==============================] - 0s 16ms/step - loss: 0.0170 - mae: 0.0854 - val_loss: 0.0113 - val_mae: 0.0766\n",
      "Epoch 8/100\n",
      "18/18 [==============================] - 0s 15ms/step - loss: 0.0167 - mae: 0.0840 - val_loss: 0.0111 - val_mae: 0.0759\n",
      "Epoch 9/100\n",
      "18/18 [==============================] - 0s 16ms/step - loss: 0.0165 - mae: 0.0836 - val_loss: 0.0111 - val_mae: 0.0760\n",
      "Epoch 10/100\n",
      "18/18 [==============================] - 0s 16ms/step - loss: 0.0163 - mae: 0.0829 - val_loss: 0.0108 - val_mae: 0.0739\n",
      "Epoch 11/100\n",
      "18/18 [==============================] - 0s 16ms/step - loss: 0.0161 - mae: 0.0822 - val_loss: 0.0107 - val_mae: 0.0735\n",
      "Epoch 12/100\n",
      "18/18 [==============================] - 0s 16ms/step - loss: 0.0159 - mae: 0.0812 - val_loss: 0.0109 - val_mae: 0.0756\n",
      "Epoch 13/100\n",
      "18/18 [==============================] - 0s 15ms/step - loss: 0.0158 - mae: 0.0817 - val_loss: 0.0106 - val_mae: 0.0728\n",
      "Epoch 14/100\n",
      "18/18 [==============================] - 0s 15ms/step - loss: 0.0156 - mae: 0.0801 - val_loss: 0.0108 - val_mae: 0.0749\n",
      "Epoch 15/100\n",
      "18/18 [==============================] - 0s 15ms/step - loss: 0.0158 - mae: 0.0816 - val_loss: 0.0105 - val_mae: 0.0726\n",
      "Epoch 16/100\n",
      "18/18 [==============================] - 0s 15ms/step - loss: 0.0155 - mae: 0.0807 - val_loss: 0.0106 - val_mae: 0.0737\n",
      "Epoch 17/100\n",
      "18/18 [==============================] - 0s 15ms/step - loss: 0.0155 - mae: 0.0804 - val_loss: 0.0106 - val_mae: 0.0739\n",
      "Epoch 18/100\n",
      "18/18 [==============================] - 0s 15ms/step - loss: 0.0155 - mae: 0.0807 - val_loss: 0.0105 - val_mae: 0.0725\n",
      "Epoch 19/100\n",
      "18/18 [==============================] - 0s 15ms/step - loss: 0.0155 - mae: 0.0808 - val_loss: 0.0104 - val_mae: 0.0722\n",
      "Epoch 20/100\n",
      "18/18 [==============================] - 0s 16ms/step - loss: 0.0154 - mae: 0.0799 - val_loss: 0.0106 - val_mae: 0.0742\n",
      "Epoch 21/100\n",
      "18/18 [==============================] - 0s 17ms/step - loss: 0.0155 - mae: 0.0806 - val_loss: 0.0104 - val_mae: 0.0717\n",
      "Epoch 22/100\n",
      "18/18 [==============================] - 0s 16ms/step - loss: 0.0153 - mae: 0.0802 - val_loss: 0.0104 - val_mae: 0.0730\n",
      "Epoch 23/100\n",
      "18/18 [==============================] - 0s 15ms/step - loss: 0.0154 - mae: 0.0809 - val_loss: 0.0103 - val_mae: 0.0718\n",
      "Epoch 24/100\n",
      "18/18 [==============================] - 0s 15ms/step - loss: 0.0153 - mae: 0.0801 - val_loss: 0.0104 - val_mae: 0.0722\n",
      "Epoch 25/100\n",
      "18/18 [==============================] - 0s 15ms/step - loss: 0.0153 - mae: 0.0804 - val_loss: 0.0105 - val_mae: 0.0731\n",
      "Epoch 26/100\n",
      "18/18 [==============================] - 0s 16ms/step - loss: 0.0152 - mae: 0.0801 - val_loss: 0.0104 - val_mae: 0.0727\n"
     ]
    }
   ],
   "source": [
    "history2 = mq135_model.fit(\n",
    "    train_generator1, \n",
    "    epochs=100,\n",
    "    validation_data=test_generator1,\n",
    "    shuffle=False,\n",
    "    callbacks=[early_stopping]\n",
    "                             )"
   ]
  },
  {
   "cell_type": "code",
   "execution_count": 17,
   "id": "ce26579a",
   "metadata": {
    "scrolled": true
   },
   "outputs": [
    {
     "name": "stdout",
     "output_type": "stream",
     "text": [
      "5/5 [==============================] - 0s 3ms/step - loss: 0.0158 - mae: 0.0907\n"
     ]
    },
    {
     "data": {
      "text/plain": [
       "[0.01581045612692833, 0.09070440381765366]"
      ]
     },
     "execution_count": 17,
     "metadata": {},
     "output_type": "execute_result"
    }
   ],
   "source": [
    "mq7_model.evaluate(test_generator)"
   ]
  },
  {
   "cell_type": "code",
   "execution_count": 18,
   "id": "317869cd",
   "metadata": {},
   "outputs": [
    {
     "name": "stdout",
     "output_type": "stream",
     "text": [
      "5/5 [==============================] - 0s 3ms/step - loss: 0.0202 - mae: 0.1122\n"
     ]
    },
    {
     "data": {
      "text/plain": [
       "[0.0201604962348938, 0.11215676367282867]"
      ]
     },
     "execution_count": 18,
     "metadata": {},
     "output_type": "execute_result"
    }
   ],
   "source": [
    "mq135_model.evaluate(test_generator)"
   ]
  },
  {
   "cell_type": "code",
   "execution_count": 19,
   "id": "cd000e36",
   "metadata": {},
   "outputs": [
    {
     "data": {
      "text/plain": [
       "(65, 6)"
      ]
     },
     "execution_count": 19,
     "metadata": {},
     "output_type": "execute_result"
    }
   ],
   "source": [
    "mq7_preds = mq7_model.predict(test_generator)\n",
    "mq7_preds = mq7_preds.reshape(mq7_preds.shape[0], window_length)\n",
    "mq7_preds.shape"
   ]
  },
  {
   "cell_type": "code",
   "execution_count": 20,
   "id": "a372fae4",
   "metadata": {},
   "outputs": [
    {
     "data": {
      "text/plain": [
       "(65, 6)"
      ]
     },
     "execution_count": 20,
     "metadata": {},
     "output_type": "execute_result"
    }
   ],
   "source": [
    "mq135_preds = mq135_model.predict(test_generator1)\n",
    "mq135_preds = mq135_preds.reshape(mq7_preds.shape[0], window_length)\n",
    "mq135_preds.shape"
   ]
  },
  {
   "cell_type": "code",
   "execution_count": 21,
   "id": "369e59bc",
   "metadata": {},
   "outputs": [
    {
     "name": "stderr",
     "output_type": "stream",
     "text": [
      "/tmp/ipykernel_108966/1441113800.py:4: SettingWithCopyWarning: \n",
      "A value is trying to be set on a copy of a slice from a DataFrame.\n",
      "Try using .loc[row_indexer,col_indexer] = value instead\n",
      "\n",
      "See the caveats in the documentation: https://pandas.pydata.org/pandas-docs/stable/user_guide/indexing.html#returning-a-view-versus-a-copy\n",
      "  df_mq7_final[\"mq7_Predicted\"] = reverse_transform[:,0]\n"
     ]
    },
    {
     "data": {
      "text/html": [
       "<div>\n",
       "<style scoped>\n",
       "    .dataframe tbody tr th:only-of-type {\n",
       "        vertical-align: middle;\n",
       "    }\n",
       "\n",
       "    .dataframe tbody tr th {\n",
       "        vertical-align: top;\n",
       "    }\n",
       "\n",
       "    .dataframe thead th {\n",
       "        text-align: right;\n",
       "    }\n",
       "</style>\n",
       "<table border=\"1\" class=\"dataframe\">\n",
       "  <thead>\n",
       "    <tr style=\"text-align: right;\">\n",
       "      <th></th>\n",
       "      <th>mq7</th>\n",
       "      <th>mq135</th>\n",
       "      <th>temperature</th>\n",
       "      <th>humidity</th>\n",
       "      <th>mq7_Predicted</th>\n",
       "    </tr>\n",
       "    <tr>\n",
       "      <th>timestamp</th>\n",
       "      <th></th>\n",
       "      <th></th>\n",
       "      <th></th>\n",
       "      <th></th>\n",
       "      <th></th>\n",
       "    </tr>\n",
       "  </thead>\n",
       "  <tbody>\n",
       "    <tr>\n",
       "      <th>2022-01-02 18:35:22+03:00</th>\n",
       "      <td>69.0</td>\n",
       "      <td>35.0</td>\n",
       "      <td>24.6</td>\n",
       "      <td>62.1</td>\n",
       "      <td>85.544957</td>\n",
       "    </tr>\n",
       "    <tr>\n",
       "      <th>2022-01-02 18:51:25+03:00</th>\n",
       "      <td>72.0</td>\n",
       "      <td>36.0</td>\n",
       "      <td>24.3</td>\n",
       "      <td>64.1</td>\n",
       "      <td>85.381962</td>\n",
       "    </tr>\n",
       "    <tr>\n",
       "      <th>2022-01-02 18:59:30+03:00</th>\n",
       "      <td>61.0</td>\n",
       "      <td>33.0</td>\n",
       "      <td>25.7</td>\n",
       "      <td>56.0</td>\n",
       "      <td>88.029497</td>\n",
       "    </tr>\n",
       "    <tr>\n",
       "      <th>2022-01-02 19:14:23+03:00</th>\n",
       "      <td>78.0</td>\n",
       "      <td>38.0</td>\n",
       "      <td>23.7</td>\n",
       "      <td>68.2</td>\n",
       "      <td>88.241011</td>\n",
       "    </tr>\n",
       "    <tr>\n",
       "      <th>2022-01-02 19:19:53+03:00</th>\n",
       "      <td>60.0</td>\n",
       "      <td>32.0</td>\n",
       "      <td>25.5</td>\n",
       "      <td>56.0</td>\n",
       "      <td>87.254595</td>\n",
       "    </tr>\n",
       "    <tr>\n",
       "      <th>...</th>\n",
       "      <td>...</td>\n",
       "      <td>...</td>\n",
       "      <td>...</td>\n",
       "      <td>...</td>\n",
       "      <td>...</td>\n",
       "    </tr>\n",
       "    <tr>\n",
       "      <th>2022-01-03 05:02:50+03:00</th>\n",
       "      <td>55.0</td>\n",
       "      <td>32.0</td>\n",
       "      <td>24.6</td>\n",
       "      <td>47.0</td>\n",
       "      <td>83.083487</td>\n",
       "    </tr>\n",
       "    <tr>\n",
       "      <th>2022-01-03 05:07:57+03:00</th>\n",
       "      <td>60.0</td>\n",
       "      <td>33.0</td>\n",
       "      <td>24.2</td>\n",
       "      <td>48.0</td>\n",
       "      <td>82.809846</td>\n",
       "    </tr>\n",
       "    <tr>\n",
       "      <th>2022-01-03 05:23:17+03:00</th>\n",
       "      <td>62.0</td>\n",
       "      <td>33.0</td>\n",
       "      <td>23.8</td>\n",
       "      <td>51.0</td>\n",
       "      <td>82.967059</td>\n",
       "    </tr>\n",
       "    <tr>\n",
       "      <th>2022-01-03 05:38:36+03:00</th>\n",
       "      <td>58.0</td>\n",
       "      <td>31.0</td>\n",
       "      <td>22.7</td>\n",
       "      <td>56.0</td>\n",
       "      <td>83.227706</td>\n",
       "    </tr>\n",
       "    <tr>\n",
       "      <th>2022-01-03 05:43:44+03:00</th>\n",
       "      <td>57.0</td>\n",
       "      <td>32.0</td>\n",
       "      <td>22.1</td>\n",
       "      <td>56.0</td>\n",
       "      <td>82.923889</td>\n",
       "    </tr>\n",
       "  </tbody>\n",
       "</table>\n",
       "<p>65 rows × 5 columns</p>\n",
       "</div>"
      ],
      "text/plain": [
       "                            mq7  mq135  temperature  humidity  mq7_Predicted\n",
       "timestamp                                                                   \n",
       "2022-01-02 18:35:22+03:00  69.0   35.0         24.6      62.1      85.544957\n",
       "2022-01-02 18:51:25+03:00  72.0   36.0         24.3      64.1      85.381962\n",
       "2022-01-02 18:59:30+03:00  61.0   33.0         25.7      56.0      88.029497\n",
       "2022-01-02 19:14:23+03:00  78.0   38.0         23.7      68.2      88.241011\n",
       "2022-01-02 19:19:53+03:00  60.0   32.0         25.5      56.0      87.254595\n",
       "...                         ...    ...          ...       ...            ...\n",
       "2022-01-03 05:02:50+03:00  55.0   32.0         24.6      47.0      83.083487\n",
       "2022-01-03 05:07:57+03:00  60.0   33.0         24.2      48.0      82.809846\n",
       "2022-01-03 05:23:17+03:00  62.0   33.0         23.8      51.0      82.967059\n",
       "2022-01-03 05:38:36+03:00  58.0   31.0         22.7      56.0      83.227706\n",
       "2022-01-03 05:43:44+03:00  57.0   32.0         22.1      56.0      82.923889\n",
       "\n",
       "[65 rows x 5 columns]"
      ]
     },
     "execution_count": 21,
     "metadata": {},
     "output_type": "execute_result"
    }
   ],
   "source": [
    "df_mq7 = pd.concat([pd.DataFrame(mq7_preds[:,0]), pd.DataFrame(x_test[:,1:][window_length:])], axis=1)\n",
    "reverse_transform = scaler.inverse_transform(df_mq7)\n",
    "df_mq7_final = raw_df[df_mq7.shape[0]*-1:]\n",
    "df_mq7_final[\"mq7_Predicted\"] = reverse_transform[:,0]\n",
    "df_mq7_final"
   ]
  },
  {
   "cell_type": "code",
   "execution_count": 22,
   "id": "f05dbb69",
   "metadata": {},
   "outputs": [
    {
     "data": {
      "text/plain": [
       "<AxesSubplot:xlabel='timestamp', ylabel='PPM'>"
      ]
     },
     "execution_count": 22,
     "metadata": {},
     "output_type": "execute_result"
    },
    {
     "data": {
      "image/png": "[encoded data removed]",
      "text/plain": [
       "<Figure size 432x288 with 1 Axes>"
      ]
     },
     "metadata": {
      "needs_background": "light"
     },
     "output_type": "display_data"
    }
   ],
   "source": [
    "df_mq7_final[[\"mq7\", \"mq7_Predicted\"]].plot(subplots=False, ylabel=\"PPM\")"
   ]
  },
  {
   "cell_type": "code",
   "execution_count": 23,
   "id": "54c507a3",
   "metadata": {},
   "outputs": [
    {
     "name": "stderr",
     "output_type": "stream",
     "text": [
      "/tmp/ipykernel_108966/347215071.py:4: SettingWithCopyWarning: \n",
      "A value is trying to be set on a copy of a slice from a DataFrame.\n",
      "Try using .loc[row_indexer,col_indexer] = value instead\n",
      "\n",
      "See the caveats in the documentation: https://pandas.pydata.org/pandas-docs/stable/user_guide/indexing.html#returning-a-view-versus-a-copy\n",
      "  df_mq135_final[\"mq135_Predicted\"] = reverse_transform1[:,0]\n"
     ]
    },
    {
     "data": {
      "text/html": [
       "<div>\n",
       "<style scoped>\n",
       "    .dataframe tbody tr th:only-of-type {\n",
       "        vertical-align: middle;\n",
       "    }\n",
       "\n",
       "    .dataframe tbody tr th {\n",
       "        vertical-align: top;\n",
       "    }\n",
       "\n",
       "    .dataframe thead th {\n",
       "        text-align: right;\n",
       "    }\n",
       "</style>\n",
       "<table border=\"1\" class=\"dataframe\">\n",
       "  <thead>\n",
       "    <tr style=\"text-align: right;\">\n",
       "      <th></th>\n",
       "      <th>mq7</th>\n",
       "      <th>mq135</th>\n",
       "      <th>temperature</th>\n",
       "      <th>humidity</th>\n",
       "      <th>mq135_Predicted</th>\n",
       "    </tr>\n",
       "    <tr>\n",
       "      <th>timestamp</th>\n",
       "      <th></th>\n",
       "      <th></th>\n",
       "      <th></th>\n",
       "      <th></th>\n",
       "      <th></th>\n",
       "    </tr>\n",
       "  </thead>\n",
       "  <tbody>\n",
       "    <tr>\n",
       "      <th>2022-01-02 18:35:22+03:00</th>\n",
       "      <td>69.0</td>\n",
       "      <td>35.0</td>\n",
       "      <td>24.6</td>\n",
       "      <td>62.1</td>\n",
       "      <td>75.502179</td>\n",
       "    </tr>\n",
       "    <tr>\n",
       "      <th>2022-01-02 18:51:25+03:00</th>\n",
       "      <td>72.0</td>\n",
       "      <td>36.0</td>\n",
       "      <td>24.3</td>\n",
       "      <td>64.1</td>\n",
       "      <td>77.762928</td>\n",
       "    </tr>\n",
       "    <tr>\n",
       "      <th>2022-01-02 18:59:30+03:00</th>\n",
       "      <td>61.0</td>\n",
       "      <td>33.0</td>\n",
       "      <td>25.7</td>\n",
       "      <td>56.0</td>\n",
       "      <td>79.713752</td>\n",
       "    </tr>\n",
       "    <tr>\n",
       "      <th>2022-01-02 19:14:23+03:00</th>\n",
       "      <td>78.0</td>\n",
       "      <td>38.0</td>\n",
       "      <td>23.7</td>\n",
       "      <td>68.2</td>\n",
       "      <td>79.218892</td>\n",
       "    </tr>\n",
       "    <tr>\n",
       "      <th>2022-01-02 19:19:53+03:00</th>\n",
       "      <td>60.0</td>\n",
       "      <td>32.0</td>\n",
       "      <td>25.5</td>\n",
       "      <td>56.0</td>\n",
       "      <td>76.495623</td>\n",
       "    </tr>\n",
       "    <tr>\n",
       "      <th>...</th>\n",
       "      <td>...</td>\n",
       "      <td>...</td>\n",
       "      <td>...</td>\n",
       "      <td>...</td>\n",
       "      <td>...</td>\n",
       "    </tr>\n",
       "    <tr>\n",
       "      <th>2022-01-03 05:02:50+03:00</th>\n",
       "      <td>55.0</td>\n",
       "      <td>32.0</td>\n",
       "      <td>24.6</td>\n",
       "      <td>47.0</td>\n",
       "      <td>73.608918</td>\n",
       "    </tr>\n",
       "    <tr>\n",
       "      <th>2022-01-03 05:07:57+03:00</th>\n",
       "      <td>60.0</td>\n",
       "      <td>33.0</td>\n",
       "      <td>24.2</td>\n",
       "      <td>48.0</td>\n",
       "      <td>73.654334</td>\n",
       "    </tr>\n",
       "    <tr>\n",
       "      <th>2022-01-03 05:23:17+03:00</th>\n",
       "      <td>62.0</td>\n",
       "      <td>33.0</td>\n",
       "      <td>23.8</td>\n",
       "      <td>51.0</td>\n",
       "      <td>73.904460</td>\n",
       "    </tr>\n",
       "    <tr>\n",
       "      <th>2022-01-03 05:38:36+03:00</th>\n",
       "      <td>58.0</td>\n",
       "      <td>31.0</td>\n",
       "      <td>22.7</td>\n",
       "      <td>56.0</td>\n",
       "      <td>73.917635</td>\n",
       "    </tr>\n",
       "    <tr>\n",
       "      <th>2022-01-03 05:43:44+03:00</th>\n",
       "      <td>57.0</td>\n",
       "      <td>32.0</td>\n",
       "      <td>22.1</td>\n",
       "      <td>56.0</td>\n",
       "      <td>73.677179</td>\n",
       "    </tr>\n",
       "  </tbody>\n",
       "</table>\n",
       "<p>65 rows × 5 columns</p>\n",
       "</div>"
      ],
      "text/plain": [
       "                            mq7  mq135  temperature  humidity  mq135_Predicted\n",
       "timestamp                                                                     \n",
       "2022-01-02 18:35:22+03:00  69.0   35.0         24.6      62.1        75.502179\n",
       "2022-01-02 18:51:25+03:00  72.0   36.0         24.3      64.1        77.762928\n",
       "2022-01-02 18:59:30+03:00  61.0   33.0         25.7      56.0        79.713752\n",
       "2022-01-02 19:14:23+03:00  78.0   38.0         23.7      68.2        79.218892\n",
       "2022-01-02 19:19:53+03:00  60.0   32.0         25.5      56.0        76.495623\n",
       "...                         ...    ...          ...       ...              ...\n",
       "2022-01-03 05:02:50+03:00  55.0   32.0         24.6      47.0        73.608918\n",
       "2022-01-03 05:07:57+03:00  60.0   33.0         24.2      48.0        73.654334\n",
       "2022-01-03 05:23:17+03:00  62.0   33.0         23.8      51.0        73.904460\n",
       "2022-01-03 05:38:36+03:00  58.0   31.0         22.7      56.0        73.917635\n",
       "2022-01-03 05:43:44+03:00  57.0   32.0         22.1      56.0        73.677179\n",
       "\n",
       "[65 rows x 5 columns]"
      ]
     },
     "execution_count": 23,
     "metadata": {},
     "output_type": "execute_result"
    }
   ],
   "source": [
    "df_mq135 = pd.concat([pd.DataFrame(mq135_preds[:,1]), pd.DataFrame(x_test[:,1:][window_length:])], axis=1)\n",
    "reverse_transform1 = scaler.inverse_transform(df_mq135)\n",
    "df_mq135_final = raw_df[df_mq135.shape[0]*-1:]\n",
    "df_mq135_final[\"mq135_Predicted\"] = reverse_transform1[:,0]\n",
    "df_mq135_final"
   ]
  },
  {
   "cell_type": "code",
   "execution_count": 24,
   "id": "7121a7a1",
   "metadata": {},
   "outputs": [
    {
     "data": {
      "text/plain": [
       "<AxesSubplot:xlabel='timestamp', ylabel='PPM'>"
      ]
     },
     "execution_count": 24,
     "metadata": {},
     "output_type": "execute_result"
    },
    {
     "data": {
      "image/png": "[encoded data removed]",
      "text/plain": [
       "<Figure size 432x288 with 1 Axes>"
      ]
     },
     "metadata": {
      "needs_background": "light"
     },
     "output_type": "display_data"
    }
   ],
   "source": [
    "df_mq135_final[[\"mq135\", \"mq135_Predicted\"]].plot(subplots=False, ylabel=\"PPM\")"
   ]
  },
  {
   "cell_type": "code",
   "execution_count": 25,
   "id": "e94cc32c",
   "metadata": {},
   "outputs": [
    {
     "ename": "NameError",
     "evalue": "name 'mq' is not defined",
     "output_type": "error",
     "traceback": [
      "\u001b[0;31m---------------------------------------------------------------------------\u001b[0m",
      "\u001b[0;31mNameError\u001b[0m                                 Traceback (most recent call last)",
      "\u001b[0;32m/tmp/ipykernel_108966/3799611935.py\u001b[0m in \u001b[0;36m<module>\u001b[0;34m\u001b[0m\n\u001b[0;32m----> 1\u001b[0;31m \u001b[0mmq\u001b[0m\u001b[0;34m\u001b[0m\u001b[0;34m\u001b[0m\u001b[0m\n\u001b[0m",
      "\u001b[0;31mNameError\u001b[0m: name 'mq' is not defined"
     ]
    }
   ],
   "source": [
    "mq"
   ]
  }
 ],
 "metadata": {
  "kernelspec": {
   "display_name": "Python 3 (ipykernel)",
   "language": "python",
   "name": "python3"
  },
  "language_info": {
   "codemirror_mode": {
    "name": "ipython",
    "version": 3
   },
   "file_extension": ".py",
   "mimetype": "text/x-python",
   "name": "python",
   "nbconvert_exporter": "python",
   "pygments_lexer": "ipython3",
   "version": "3.8.10"
  }
 },
 "nbformat": 4,
 "nbformat_minor": 5
}
